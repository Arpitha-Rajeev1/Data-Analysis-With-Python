{
 "cells": [
  {
   "cell_type": "code",
   "execution_count": 228,
   "metadata": {},
   "outputs": [],
   "source": [
    "import pandas as pd\n",
    "from pylab import *     ####imports matplotlib and numpy module in single command\n",
    "import seaborn as sns\n",
    "%matplotlib inline      \n",
    "#we also have an option of notebook which opens your graph in seperate GUI window"
   ]
  },
  {
   "cell_type": "markdown",
   "metadata": {},
   "source": [
    "### Importing dataset"
   ]
  },
  {
   "cell_type": "code",
   "execution_count": 261,
   "metadata": {},
   "outputs": [],
   "source": [
    "df=pd.read_excel('adult_dataset.xlsx',na_values=['NULL'])"
   ]
  },
  {
   "cell_type": "code",
   "execution_count": 262,
   "metadata": {},
   "outputs": [],
   "source": [
    "df.drop('Fnlwgt',inplace=True,axis=1)  \n",
    "#we dropped it because it is for machine learning and currently no one in our group is that sophisticated"
   ]
  },
  {
   "cell_type": "code",
   "execution_count": 263,
   "metadata": {
    "scrolled": true
   },
   "outputs": [
    {
     "data": {
      "text/html": [
       "<div>\n",
       "<style scoped>\n",
       "    .dataframe tbody tr th:only-of-type {\n",
       "        vertical-align: middle;\n",
       "    }\n",
       "\n",
       "    .dataframe tbody tr th {\n",
       "        vertical-align: top;\n",
       "    }\n",
       "\n",
       "    .dataframe thead th {\n",
       "        text-align: right;\n",
       "    }\n",
       "</style>\n",
       "<table border=\"1\" class=\"dataframe\">\n",
       "  <thead>\n",
       "    <tr style=\"text-align: right;\">\n",
       "      <th></th>\n",
       "      <th>Age</th>\n",
       "      <th>Workclass</th>\n",
       "      <th>Education</th>\n",
       "      <th>Educational_Num</th>\n",
       "      <th>Marital_Status</th>\n",
       "      <th>Occupation</th>\n",
       "      <th>Relationship</th>\n",
       "      <th>Race</th>\n",
       "      <th>Gender</th>\n",
       "      <th>Capital_Gain</th>\n",
       "      <th>Capital_Loss</th>\n",
       "      <th>HoursPerWeek</th>\n",
       "      <th>Native_Country</th>\n",
       "      <th>Income</th>\n",
       "    </tr>\n",
       "  </thead>\n",
       "  <tbody>\n",
       "    <tr>\n",
       "      <th>0</th>\n",
       "      <td>25</td>\n",
       "      <td>Private</td>\n",
       "      <td>11th</td>\n",
       "      <td>7</td>\n",
       "      <td>Never-married</td>\n",
       "      <td>Machine-op-inspct</td>\n",
       "      <td>Own-child</td>\n",
       "      <td>Black</td>\n",
       "      <td>Male</td>\n",
       "      <td>0</td>\n",
       "      <td>0</td>\n",
       "      <td>40</td>\n",
       "      <td>United-States</td>\n",
       "      <td>&lt;=50K</td>\n",
       "    </tr>\n",
       "    <tr>\n",
       "      <th>1</th>\n",
       "      <td>38</td>\n",
       "      <td>Private</td>\n",
       "      <td>HS-grad</td>\n",
       "      <td>9</td>\n",
       "      <td>Married-civ-spouse</td>\n",
       "      <td>Farming-fishing</td>\n",
       "      <td>Husband</td>\n",
       "      <td>White</td>\n",
       "      <td>Male</td>\n",
       "      <td>0</td>\n",
       "      <td>0</td>\n",
       "      <td>50</td>\n",
       "      <td>United-States</td>\n",
       "      <td>&lt;=50K</td>\n",
       "    </tr>\n",
       "    <tr>\n",
       "      <th>2</th>\n",
       "      <td>28</td>\n",
       "      <td>Local-gov</td>\n",
       "      <td>Assoc-acdm</td>\n",
       "      <td>12</td>\n",
       "      <td>Married-civ-spouse</td>\n",
       "      <td>Protective-serv</td>\n",
       "      <td>Husband</td>\n",
       "      <td>White</td>\n",
       "      <td>Male</td>\n",
       "      <td>0</td>\n",
       "      <td>0</td>\n",
       "      <td>40</td>\n",
       "      <td>United-States</td>\n",
       "      <td>&gt;50K</td>\n",
       "    </tr>\n",
       "    <tr>\n",
       "      <th>3</th>\n",
       "      <td>44</td>\n",
       "      <td>Private</td>\n",
       "      <td>Some-college</td>\n",
       "      <td>10</td>\n",
       "      <td>Married-civ-spouse</td>\n",
       "      <td>Machine-op-inspct</td>\n",
       "      <td>Husband</td>\n",
       "      <td>Black</td>\n",
       "      <td>Male</td>\n",
       "      <td>7688</td>\n",
       "      <td>0</td>\n",
       "      <td>40</td>\n",
       "      <td>United-States</td>\n",
       "      <td>&gt;50K</td>\n",
       "    </tr>\n",
       "    <tr>\n",
       "      <th>4</th>\n",
       "      <td>18</td>\n",
       "      <td>NaN</td>\n",
       "      <td>Some-college</td>\n",
       "      <td>10</td>\n",
       "      <td>Never-married</td>\n",
       "      <td>NaN</td>\n",
       "      <td>Own-child</td>\n",
       "      <td>White</td>\n",
       "      <td>Female</td>\n",
       "      <td>0</td>\n",
       "      <td>0</td>\n",
       "      <td>30</td>\n",
       "      <td>United-States</td>\n",
       "      <td>&lt;=50K</td>\n",
       "    </tr>\n",
       "    <tr>\n",
       "      <th>...</th>\n",
       "      <td>...</td>\n",
       "      <td>...</td>\n",
       "      <td>...</td>\n",
       "      <td>...</td>\n",
       "      <td>...</td>\n",
       "      <td>...</td>\n",
       "      <td>...</td>\n",
       "      <td>...</td>\n",
       "      <td>...</td>\n",
       "      <td>...</td>\n",
       "      <td>...</td>\n",
       "      <td>...</td>\n",
       "      <td>...</td>\n",
       "      <td>...</td>\n",
       "    </tr>\n",
       "    <tr>\n",
       "      <th>48837</th>\n",
       "      <td>27</td>\n",
       "      <td>Private</td>\n",
       "      <td>Assoc-acdm</td>\n",
       "      <td>12</td>\n",
       "      <td>Married-civ-spouse</td>\n",
       "      <td>Tech-support</td>\n",
       "      <td>Wife</td>\n",
       "      <td>White</td>\n",
       "      <td>Female</td>\n",
       "      <td>0</td>\n",
       "      <td>0</td>\n",
       "      <td>38</td>\n",
       "      <td>United-States</td>\n",
       "      <td>&lt;=50K</td>\n",
       "    </tr>\n",
       "    <tr>\n",
       "      <th>48838</th>\n",
       "      <td>40</td>\n",
       "      <td>Private</td>\n",
       "      <td>HS-grad</td>\n",
       "      <td>9</td>\n",
       "      <td>Married-civ-spouse</td>\n",
       "      <td>Machine-op-inspct</td>\n",
       "      <td>Husband</td>\n",
       "      <td>White</td>\n",
       "      <td>Male</td>\n",
       "      <td>0</td>\n",
       "      <td>0</td>\n",
       "      <td>40</td>\n",
       "      <td>United-States</td>\n",
       "      <td>&gt;50K</td>\n",
       "    </tr>\n",
       "    <tr>\n",
       "      <th>48839</th>\n",
       "      <td>58</td>\n",
       "      <td>Private</td>\n",
       "      <td>HS-grad</td>\n",
       "      <td>9</td>\n",
       "      <td>Widowed</td>\n",
       "      <td>Adm-clerical</td>\n",
       "      <td>Unmarried</td>\n",
       "      <td>White</td>\n",
       "      <td>Female</td>\n",
       "      <td>0</td>\n",
       "      <td>0</td>\n",
       "      <td>40</td>\n",
       "      <td>United-States</td>\n",
       "      <td>&lt;=50K</td>\n",
       "    </tr>\n",
       "    <tr>\n",
       "      <th>48840</th>\n",
       "      <td>22</td>\n",
       "      <td>Private</td>\n",
       "      <td>HS-grad</td>\n",
       "      <td>9</td>\n",
       "      <td>Never-married</td>\n",
       "      <td>Adm-clerical</td>\n",
       "      <td>Own-child</td>\n",
       "      <td>White</td>\n",
       "      <td>Male</td>\n",
       "      <td>0</td>\n",
       "      <td>0</td>\n",
       "      <td>20</td>\n",
       "      <td>United-States</td>\n",
       "      <td>&lt;=50K</td>\n",
       "    </tr>\n",
       "    <tr>\n",
       "      <th>48841</th>\n",
       "      <td>52</td>\n",
       "      <td>Self-emp-inc</td>\n",
       "      <td>HS-grad</td>\n",
       "      <td>9</td>\n",
       "      <td>Married-civ-spouse</td>\n",
       "      <td>Exec-managerial</td>\n",
       "      <td>Wife</td>\n",
       "      <td>White</td>\n",
       "      <td>Female</td>\n",
       "      <td>15024</td>\n",
       "      <td>0</td>\n",
       "      <td>40</td>\n",
       "      <td>United-States</td>\n",
       "      <td>&gt;50K</td>\n",
       "    </tr>\n",
       "  </tbody>\n",
       "</table>\n",
       "<p>48842 rows × 14 columns</p>\n",
       "</div>"
      ],
      "text/plain": [
       "       Age     Workclass     Education  Educational_Num      Marital_Status  \\\n",
       "0       25       Private          11th                7       Never-married   \n",
       "1       38       Private       HS-grad                9  Married-civ-spouse   \n",
       "2       28     Local-gov    Assoc-acdm               12  Married-civ-spouse   \n",
       "3       44       Private  Some-college               10  Married-civ-spouse   \n",
       "4       18           NaN  Some-college               10       Never-married   \n",
       "...    ...           ...           ...              ...                 ...   \n",
       "48837   27       Private    Assoc-acdm               12  Married-civ-spouse   \n",
       "48838   40       Private       HS-grad                9  Married-civ-spouse   \n",
       "48839   58       Private       HS-grad                9             Widowed   \n",
       "48840   22       Private       HS-grad                9       Never-married   \n",
       "48841   52  Self-emp-inc       HS-grad                9  Married-civ-spouse   \n",
       "\n",
       "              Occupation Relationship   Race  Gender  Capital_Gain  \\\n",
       "0      Machine-op-inspct    Own-child  Black    Male             0   \n",
       "1        Farming-fishing      Husband  White    Male             0   \n",
       "2        Protective-serv      Husband  White    Male             0   \n",
       "3      Machine-op-inspct      Husband  Black    Male          7688   \n",
       "4                    NaN    Own-child  White  Female             0   \n",
       "...                  ...          ...    ...     ...           ...   \n",
       "48837       Tech-support         Wife  White  Female             0   \n",
       "48838  Machine-op-inspct      Husband  White    Male             0   \n",
       "48839       Adm-clerical    Unmarried  White  Female             0   \n",
       "48840       Adm-clerical    Own-child  White    Male             0   \n",
       "48841    Exec-managerial         Wife  White  Female         15024   \n",
       "\n",
       "       Capital_Loss  HoursPerWeek Native_Country Income  \n",
       "0                 0            40  United-States  <=50K  \n",
       "1                 0            50  United-States  <=50K  \n",
       "2                 0            40  United-States   >50K  \n",
       "3                 0            40  United-States   >50K  \n",
       "4                 0            30  United-States  <=50K  \n",
       "...             ...           ...            ...    ...  \n",
       "48837             0            38  United-States  <=50K  \n",
       "48838             0            40  United-States   >50K  \n",
       "48839             0            40  United-States  <=50K  \n",
       "48840             0            20  United-States  <=50K  \n",
       "48841             0            40  United-States   >50K  \n",
       "\n",
       "[48842 rows x 14 columns]"
      ]
     },
     "execution_count": 263,
     "metadata": {},
     "output_type": "execute_result"
    }
   ],
   "source": [
    "df     #as we have 48K instances"
   ]
  },
  {
   "cell_type": "markdown",
   "metadata": {},
   "source": [
    "# Level_1 - Displaying the details of general queries"
   ]
  },
  {
   "cell_type": "markdown",
   "metadata": {},
   "source": [
    "### Q1. Describe your dataset"
   ]
  },
  {
   "cell_type": "code",
   "execution_count": null,
   "metadata": {},
   "outputs": [],
   "source": [
    "df.describe()"
   ]
  },
  {
   "cell_type": "markdown",
   "metadata": {},
   "source": [
    "### Q2. Find dtypes of all the attributes in your dataset"
   ]
  },
  {
   "cell_type": "code",
   "execution_count": null,
   "metadata": {},
   "outputs": [],
   "source": [
    "df.dtypes"
   ]
  },
  {
   "cell_type": "markdown",
   "metadata": {},
   "source": [
    "### Q3. Describe your dataset using categorical attributes "
   ]
  },
  {
   "cell_type": "code",
   "execution_count": null,
   "metadata": {},
   "outputs": [],
   "source": [
    "df[['Workclass','Education','Marital_Status','Occupation','Relationship','Race','Native_Country']].describe()"
   ]
  },
  {
   "cell_type": "markdown",
   "metadata": {},
   "source": [
    "### Q4. Give complete information of your dataset."
   ]
  },
  {
   "cell_type": "code",
   "execution_count": null,
   "metadata": {},
   "outputs": [],
   "source": [
    "df.info()"
   ]
  },
  {
   "cell_type": "markdown",
   "metadata": {},
   "source": [
    "### Q5. Select all the employees working in Private class and earning more than 50K"
   ]
  },
  {
   "cell_type": "code",
   "execution_count": null,
   "metadata": {},
   "outputs": [],
   "source": [
    "df.query(\"Workclass=='Private' & Income=='>50K'\")"
   ]
  },
  {
   "cell_type": "markdown",
   "metadata": {},
   "source": [
    "### Q6. Select employees who are Not_Married and their age less than 25 with a Masters education and earn more than 50K."
   ]
  },
  {
   "cell_type": "code",
   "execution_count": null,
   "metadata": {},
   "outputs": [],
   "source": [
    "df.query(\"Marital_Status=='Never-married' & Age<=25 & Education=='Masters' & Income=='>50K'\")"
   ]
  },
  {
   "cell_type": "markdown",
   "metadata": {},
   "source": [
    "### Q7. Select employees whose age is 66+ and is working in any Government-organisation."
   ]
  },
  {
   "cell_type": "code",
   "execution_count": 264,
   "metadata": {},
   "outputs": [
    {
     "data": {
      "text/plain": [
       "array(['Private', 'Local-gov', nan, 'Self-emp-not-inc', 'Federal-gov',\n",
       "       'State-gov', 'Self-emp-inc', 'Without-pay', 'Never-worked'],\n",
       "      dtype=object)"
      ]
     },
     "execution_count": 264,
     "metadata": {},
     "output_type": "execute_result"
    }
   ],
   "source": [
    "df.Workclass.unique()"
   ]
  },
  {
   "cell_type": "code",
   "execution_count": 265,
   "metadata": {},
   "outputs": [
    {
     "data": {
      "text/html": [
       "<div>\n",
       "<style scoped>\n",
       "    .dataframe tbody tr th:only-of-type {\n",
       "        vertical-align: middle;\n",
       "    }\n",
       "\n",
       "    .dataframe tbody tr th {\n",
       "        vertical-align: top;\n",
       "    }\n",
       "\n",
       "    .dataframe thead th {\n",
       "        text-align: right;\n",
       "    }\n",
       "</style>\n",
       "<table border=\"1\" class=\"dataframe\">\n",
       "  <thead>\n",
       "    <tr style=\"text-align: right;\">\n",
       "      <th></th>\n",
       "      <th>Age</th>\n",
       "      <th>Workclass</th>\n",
       "      <th>Education</th>\n",
       "      <th>Educational_Num</th>\n",
       "      <th>Marital_Status</th>\n",
       "      <th>Occupation</th>\n",
       "      <th>Relationship</th>\n",
       "      <th>Race</th>\n",
       "      <th>Gender</th>\n",
       "      <th>Capital_Gain</th>\n",
       "      <th>Capital_Loss</th>\n",
       "      <th>HoursPerWeek</th>\n",
       "      <th>Native_Country</th>\n",
       "      <th>Income</th>\n",
       "    </tr>\n",
       "  </thead>\n",
       "  <tbody>\n",
       "    <tr>\n",
       "      <th>207</th>\n",
       "      <td>73</td>\n",
       "      <td>Local-gov</td>\n",
       "      <td>HS-grad</td>\n",
       "      <td>9</td>\n",
       "      <td>Married-civ-spouse</td>\n",
       "      <td>Exec-managerial</td>\n",
       "      <td>Husband</td>\n",
       "      <td>White</td>\n",
       "      <td>Male</td>\n",
       "      <td>0</td>\n",
       "      <td>0</td>\n",
       "      <td>20</td>\n",
       "      <td>United-States</td>\n",
       "      <td>&lt;=50K</td>\n",
       "    </tr>\n",
       "    <tr>\n",
       "      <th>603</th>\n",
       "      <td>67</td>\n",
       "      <td>State-gov</td>\n",
       "      <td>Bachelors</td>\n",
       "      <td>13</td>\n",
       "      <td>Married-civ-spouse</td>\n",
       "      <td>Exec-managerial</td>\n",
       "      <td>Husband</td>\n",
       "      <td>White</td>\n",
       "      <td>Male</td>\n",
       "      <td>0</td>\n",
       "      <td>0</td>\n",
       "      <td>40</td>\n",
       "      <td>United-States</td>\n",
       "      <td>&lt;=50K</td>\n",
       "    </tr>\n",
       "    <tr>\n",
       "      <th>1115</th>\n",
       "      <td>71</td>\n",
       "      <td>Federal-gov</td>\n",
       "      <td>10th</td>\n",
       "      <td>6</td>\n",
       "      <td>Married-civ-spouse</td>\n",
       "      <td>Adm-clerical</td>\n",
       "      <td>Husband</td>\n",
       "      <td>White</td>\n",
       "      <td>Male</td>\n",
       "      <td>0</td>\n",
       "      <td>0</td>\n",
       "      <td>40</td>\n",
       "      <td>United-States</td>\n",
       "      <td>&lt;=50K</td>\n",
       "    </tr>\n",
       "    <tr>\n",
       "      <th>1174</th>\n",
       "      <td>74</td>\n",
       "      <td>Local-gov</td>\n",
       "      <td>7th-8th</td>\n",
       "      <td>4</td>\n",
       "      <td>Widowed</td>\n",
       "      <td>Other-service</td>\n",
       "      <td>Not-in-family</td>\n",
       "      <td>White</td>\n",
       "      <td>Female</td>\n",
       "      <td>0</td>\n",
       "      <td>0</td>\n",
       "      <td>35</td>\n",
       "      <td>United-States</td>\n",
       "      <td>&lt;=50K</td>\n",
       "    </tr>\n",
       "    <tr>\n",
       "      <th>1479</th>\n",
       "      <td>67</td>\n",
       "      <td>Local-gov</td>\n",
       "      <td>HS-grad</td>\n",
       "      <td>9</td>\n",
       "      <td>Married-civ-spouse</td>\n",
       "      <td>Prof-specialty</td>\n",
       "      <td>Husband</td>\n",
       "      <td>White</td>\n",
       "      <td>Male</td>\n",
       "      <td>0</td>\n",
       "      <td>0</td>\n",
       "      <td>24</td>\n",
       "      <td>United-States</td>\n",
       "      <td>&lt;=50K</td>\n",
       "    </tr>\n",
       "    <tr>\n",
       "      <th>...</th>\n",
       "      <td>...</td>\n",
       "      <td>...</td>\n",
       "      <td>...</td>\n",
       "      <td>...</td>\n",
       "      <td>...</td>\n",
       "      <td>...</td>\n",
       "      <td>...</td>\n",
       "      <td>...</td>\n",
       "      <td>...</td>\n",
       "      <td>...</td>\n",
       "      <td>...</td>\n",
       "      <td>...</td>\n",
       "      <td>...</td>\n",
       "      <td>...</td>\n",
       "    </tr>\n",
       "    <tr>\n",
       "      <th>47470</th>\n",
       "      <td>67</td>\n",
       "      <td>State-gov</td>\n",
       "      <td>Some-college</td>\n",
       "      <td>10</td>\n",
       "      <td>Married-civ-spouse</td>\n",
       "      <td>Protective-serv</td>\n",
       "      <td>Husband</td>\n",
       "      <td>White</td>\n",
       "      <td>Male</td>\n",
       "      <td>0</td>\n",
       "      <td>0</td>\n",
       "      <td>41</td>\n",
       "      <td>United-States</td>\n",
       "      <td>&gt;50K</td>\n",
       "    </tr>\n",
       "    <tr>\n",
       "      <th>47761</th>\n",
       "      <td>69</td>\n",
       "      <td>State-gov</td>\n",
       "      <td>HS-grad</td>\n",
       "      <td>9</td>\n",
       "      <td>Married-civ-spouse</td>\n",
       "      <td>Other-service</td>\n",
       "      <td>Husband</td>\n",
       "      <td>White</td>\n",
       "      <td>Male</td>\n",
       "      <td>0</td>\n",
       "      <td>0</td>\n",
       "      <td>20</td>\n",
       "      <td>United-States</td>\n",
       "      <td>&lt;=50K</td>\n",
       "    </tr>\n",
       "    <tr>\n",
       "      <th>47938</th>\n",
       "      <td>67</td>\n",
       "      <td>State-gov</td>\n",
       "      <td>7th-8th</td>\n",
       "      <td>4</td>\n",
       "      <td>Married-civ-spouse</td>\n",
       "      <td>Transport-moving</td>\n",
       "      <td>Husband</td>\n",
       "      <td>White</td>\n",
       "      <td>Male</td>\n",
       "      <td>0</td>\n",
       "      <td>0</td>\n",
       "      <td>35</td>\n",
       "      <td>United-States</td>\n",
       "      <td>&lt;=50K</td>\n",
       "    </tr>\n",
       "    <tr>\n",
       "      <th>48124</th>\n",
       "      <td>67</td>\n",
       "      <td>Local-gov</td>\n",
       "      <td>Bachelors</td>\n",
       "      <td>13</td>\n",
       "      <td>Married-civ-spouse</td>\n",
       "      <td>Prof-specialty</td>\n",
       "      <td>Husband</td>\n",
       "      <td>White</td>\n",
       "      <td>Male</td>\n",
       "      <td>0</td>\n",
       "      <td>0</td>\n",
       "      <td>10</td>\n",
       "      <td>United-States</td>\n",
       "      <td>&lt;=50K</td>\n",
       "    </tr>\n",
       "    <tr>\n",
       "      <th>48648</th>\n",
       "      <td>90</td>\n",
       "      <td>Local-gov</td>\n",
       "      <td>7th-8th</td>\n",
       "      <td>4</td>\n",
       "      <td>Married-civ-spouse</td>\n",
       "      <td>Protective-serv</td>\n",
       "      <td>Husband</td>\n",
       "      <td>White</td>\n",
       "      <td>Male</td>\n",
       "      <td>2653</td>\n",
       "      <td>0</td>\n",
       "      <td>40</td>\n",
       "      <td>United-States</td>\n",
       "      <td>&lt;=50K</td>\n",
       "    </tr>\n",
       "  </tbody>\n",
       "</table>\n",
       "<p>150 rows × 14 columns</p>\n",
       "</div>"
      ],
      "text/plain": [
       "       Age    Workclass     Education  Educational_Num      Marital_Status  \\\n",
       "207     73    Local-gov       HS-grad                9  Married-civ-spouse   \n",
       "603     67    State-gov     Bachelors               13  Married-civ-spouse   \n",
       "1115    71  Federal-gov          10th                6  Married-civ-spouse   \n",
       "1174    74    Local-gov       7th-8th                4             Widowed   \n",
       "1479    67    Local-gov       HS-grad                9  Married-civ-spouse   \n",
       "...    ...          ...           ...              ...                 ...   \n",
       "47470   67    State-gov  Some-college               10  Married-civ-spouse   \n",
       "47761   69    State-gov       HS-grad                9  Married-civ-spouse   \n",
       "47938   67    State-gov       7th-8th                4  Married-civ-spouse   \n",
       "48124   67    Local-gov     Bachelors               13  Married-civ-spouse   \n",
       "48648   90    Local-gov       7th-8th                4  Married-civ-spouse   \n",
       "\n",
       "             Occupation   Relationship   Race  Gender  Capital_Gain  \\\n",
       "207     Exec-managerial        Husband  White    Male             0   \n",
       "603     Exec-managerial        Husband  White    Male             0   \n",
       "1115       Adm-clerical        Husband  White    Male             0   \n",
       "1174      Other-service  Not-in-family  White  Female             0   \n",
       "1479     Prof-specialty        Husband  White    Male             0   \n",
       "...                 ...            ...    ...     ...           ...   \n",
       "47470   Protective-serv        Husband  White    Male             0   \n",
       "47761     Other-service        Husband  White    Male             0   \n",
       "47938  Transport-moving        Husband  White    Male             0   \n",
       "48124    Prof-specialty        Husband  White    Male             0   \n",
       "48648   Protective-serv        Husband  White    Male          2653   \n",
       "\n",
       "       Capital_Loss  HoursPerWeek Native_Country Income  \n",
       "207               0            20  United-States  <=50K  \n",
       "603               0            40  United-States  <=50K  \n",
       "1115              0            40  United-States  <=50K  \n",
       "1174              0            35  United-States  <=50K  \n",
       "1479              0            24  United-States  <=50K  \n",
       "...             ...           ...            ...    ...  \n",
       "47470             0            41  United-States   >50K  \n",
       "47761             0            20  United-States  <=50K  \n",
       "47938             0            35  United-States  <=50K  \n",
       "48124             0            10  United-States  <=50K  \n",
       "48648             0            40  United-States  <=50K  \n",
       "\n",
       "[150 rows x 14 columns]"
      ]
     },
     "execution_count": 265,
     "metadata": {},
     "output_type": "execute_result"
    }
   ],
   "source": [
    "df.query(\"Age>66 & (Workclass=='Local-gov' | Workclass=='Federal-gov' | Workclass=='State-gov')\")"
   ]
  },
  {
   "cell_type": "markdown",
   "metadata": {},
   "source": [
    "##### They are 66+ in age and are working for government. We conclude that the US doesn't have retirement policy."
   ]
  },
  {
   "cell_type": "markdown",
   "metadata": {},
   "source": [
    "### Q8. Pair the Education-level with Educational-Num."
   ]
  },
  {
   "cell_type": "code",
   "execution_count": 266,
   "metadata": {},
   "outputs": [
    {
     "data": {
      "text/plain": [
       "[('11th', 7),\n",
       " ('HS-grad', 9),\n",
       " ('Assoc-acdm', 12),\n",
       " ('Some-college', 10),\n",
       " ('10th', 6),\n",
       " ('Prof-school', 15),\n",
       " ('7th-8th', 4),\n",
       " ('Bachelors', 13),\n",
       " ('Masters', 14),\n",
       " ('Doctorate', 16),\n",
       " ('5th-6th', 3),\n",
       " ('Assoc-voc', 11),\n",
       " ('9th', 5),\n",
       " ('12th', 8),\n",
       " ('1st-4th', 2),\n",
       " ('Preschool', 1)]"
      ]
     },
     "execution_count": 266,
     "metadata": {},
     "output_type": "execute_result"
    }
   ],
   "source": [
    "education=list(df['Education'].unique())\n",
    "education_no=list(df['Educational_Num'].unique())\n",
    "list(zip(education,education_no))"
   ]
  },
  {
   "cell_type": "markdown",
   "metadata": {},
   "source": [
    "### Inference: Based on numbers, Preschool is treated as lowest level of education and Doctorate is treated as highest level of education"
   ]
  },
  {
   "cell_type": "markdown",
   "metadata": {},
   "source": [
    "### Q9. Insert a seperate column beside Marital_Status denoting number alloted to that particular status."
   ]
  },
  {
   "cell_type": "code",
   "execution_count": 267,
   "metadata": {},
   "outputs": [
    {
     "data": {
      "text/html": [
       "<div>\n",
       "<style scoped>\n",
       "    .dataframe tbody tr th:only-of-type {\n",
       "        vertical-align: middle;\n",
       "    }\n",
       "\n",
       "    .dataframe tbody tr th {\n",
       "        vertical-align: top;\n",
       "    }\n",
       "\n",
       "    .dataframe thead th {\n",
       "        text-align: right;\n",
       "    }\n",
       "</style>\n",
       "<table border=\"1\" class=\"dataframe\">\n",
       "  <thead>\n",
       "    <tr style=\"text-align: right;\">\n",
       "      <th></th>\n",
       "      <th>Age</th>\n",
       "      <th>Workclass</th>\n",
       "      <th>Education</th>\n",
       "      <th>Educational_Num</th>\n",
       "      <th>Marital_Status</th>\n",
       "      <th>Status_Number</th>\n",
       "      <th>Occupation</th>\n",
       "      <th>Relationship</th>\n",
       "      <th>Race</th>\n",
       "      <th>Gender</th>\n",
       "      <th>Capital_Gain</th>\n",
       "      <th>Capital_Loss</th>\n",
       "      <th>HoursPerWeek</th>\n",
       "      <th>Native_Country</th>\n",
       "      <th>Income</th>\n",
       "    </tr>\n",
       "  </thead>\n",
       "  <tbody>\n",
       "    <tr>\n",
       "      <th>0</th>\n",
       "      <td>25</td>\n",
       "      <td>Private</td>\n",
       "      <td>11th</td>\n",
       "      <td>7</td>\n",
       "      <td>Never-married</td>\n",
       "      <td>0</td>\n",
       "      <td>Machine-op-inspct</td>\n",
       "      <td>Own-child</td>\n",
       "      <td>Black</td>\n",
       "      <td>Male</td>\n",
       "      <td>0</td>\n",
       "      <td>0</td>\n",
       "      <td>40</td>\n",
       "      <td>United-States</td>\n",
       "      <td>&lt;=50K</td>\n",
       "    </tr>\n",
       "    <tr>\n",
       "      <th>1</th>\n",
       "      <td>38</td>\n",
       "      <td>Private</td>\n",
       "      <td>HS-grad</td>\n",
       "      <td>9</td>\n",
       "      <td>Married-civ-spouse</td>\n",
       "      <td>1</td>\n",
       "      <td>Farming-fishing</td>\n",
       "      <td>Husband</td>\n",
       "      <td>White</td>\n",
       "      <td>Male</td>\n",
       "      <td>0</td>\n",
       "      <td>0</td>\n",
       "      <td>50</td>\n",
       "      <td>United-States</td>\n",
       "      <td>&lt;=50K</td>\n",
       "    </tr>\n",
       "    <tr>\n",
       "      <th>2</th>\n",
       "      <td>28</td>\n",
       "      <td>Local-gov</td>\n",
       "      <td>Assoc-acdm</td>\n",
       "      <td>12</td>\n",
       "      <td>Married-civ-spouse</td>\n",
       "      <td>1</td>\n",
       "      <td>Protective-serv</td>\n",
       "      <td>Husband</td>\n",
       "      <td>White</td>\n",
       "      <td>Male</td>\n",
       "      <td>0</td>\n",
       "      <td>0</td>\n",
       "      <td>40</td>\n",
       "      <td>United-States</td>\n",
       "      <td>&gt;50K</td>\n",
       "    </tr>\n",
       "    <tr>\n",
       "      <th>3</th>\n",
       "      <td>44</td>\n",
       "      <td>Private</td>\n",
       "      <td>Some-college</td>\n",
       "      <td>10</td>\n",
       "      <td>Married-civ-spouse</td>\n",
       "      <td>1</td>\n",
       "      <td>Machine-op-inspct</td>\n",
       "      <td>Husband</td>\n",
       "      <td>Black</td>\n",
       "      <td>Male</td>\n",
       "      <td>7688</td>\n",
       "      <td>0</td>\n",
       "      <td>40</td>\n",
       "      <td>United-States</td>\n",
       "      <td>&gt;50K</td>\n",
       "    </tr>\n",
       "    <tr>\n",
       "      <th>4</th>\n",
       "      <td>18</td>\n",
       "      <td>NaN</td>\n",
       "      <td>Some-college</td>\n",
       "      <td>10</td>\n",
       "      <td>Never-married</td>\n",
       "      <td>0</td>\n",
       "      <td>NaN</td>\n",
       "      <td>Own-child</td>\n",
       "      <td>White</td>\n",
       "      <td>Female</td>\n",
       "      <td>0</td>\n",
       "      <td>0</td>\n",
       "      <td>30</td>\n",
       "      <td>United-States</td>\n",
       "      <td>&lt;=50K</td>\n",
       "    </tr>\n",
       "  </tbody>\n",
       "</table>\n",
       "</div>"
      ],
      "text/plain": [
       "   Age  Workclass     Education  Educational_Num      Marital_Status  \\\n",
       "0   25    Private          11th                7       Never-married   \n",
       "1   38    Private       HS-grad                9  Married-civ-spouse   \n",
       "2   28  Local-gov    Assoc-acdm               12  Married-civ-spouse   \n",
       "3   44    Private  Some-college               10  Married-civ-spouse   \n",
       "4   18        NaN  Some-college               10       Never-married   \n",
       "\n",
       "   Status_Number         Occupation Relationship   Race  Gender  Capital_Gain  \\\n",
       "0              0  Machine-op-inspct    Own-child  Black    Male             0   \n",
       "1              1    Farming-fishing      Husband  White    Male             0   \n",
       "2              1    Protective-serv      Husband  White    Male             0   \n",
       "3              1  Machine-op-inspct      Husband  Black    Male          7688   \n",
       "4              0                NaN    Own-child  White  Female             0   \n",
       "\n",
       "   Capital_Loss  HoursPerWeek Native_Country Income  \n",
       "0             0            40  United-States  <=50K  \n",
       "1             0            50  United-States  <=50K  \n",
       "2             0            40  United-States   >50K  \n",
       "3             0            40  United-States   >50K  \n",
       "4             0            30  United-States  <=50K  "
      ]
     },
     "execution_count": 267,
     "metadata": {},
     "output_type": "execute_result"
    }
   ],
   "source": [
    "status_code=pd.factorize(df['Marital_Status'])[0]  #it will allot a number to all distinct values and it starts from 0\n",
    "df.insert(5,'Status_Number',status_code)\n",
    "df.head()"
   ]
  },
  {
   "cell_type": "markdown",
   "metadata": {},
   "source": [
    "### Q10. Find relation between Race and Marital_Status of your dataset."
   ]
  },
  {
   "cell_type": "code",
   "execution_count": 268,
   "metadata": {
    "scrolled": true
   },
   "outputs": [
    {
     "data": {
      "text/html": [
       "<div>\n",
       "<style scoped>\n",
       "    .dataframe tbody tr th:only-of-type {\n",
       "        vertical-align: middle;\n",
       "    }\n",
       "\n",
       "    .dataframe tbody tr th {\n",
       "        vertical-align: top;\n",
       "    }\n",
       "\n",
       "    .dataframe thead th {\n",
       "        text-align: right;\n",
       "    }\n",
       "</style>\n",
       "<table border=\"1\" class=\"dataframe\">\n",
       "  <thead>\n",
       "    <tr style=\"text-align: right;\">\n",
       "      <th>Marital_Status</th>\n",
       "      <th>Divorced</th>\n",
       "      <th>Married-AF-spouse</th>\n",
       "      <th>Married-civ-spouse</th>\n",
       "      <th>Married-spouse-absent</th>\n",
       "      <th>Never-married</th>\n",
       "      <th>Separated</th>\n",
       "      <th>Widowed</th>\n",
       "    </tr>\n",
       "    <tr>\n",
       "      <th>Race</th>\n",
       "      <th></th>\n",
       "      <th></th>\n",
       "      <th></th>\n",
       "      <th></th>\n",
       "      <th></th>\n",
       "      <th></th>\n",
       "      <th></th>\n",
       "    </tr>\n",
       "  </thead>\n",
       "  <tbody>\n",
       "    <tr>\n",
       "      <th>Amer-Indian-Eskimo</th>\n",
       "      <td>90</td>\n",
       "      <td>0</td>\n",
       "      <td>168</td>\n",
       "      <td>12</td>\n",
       "      <td>163</td>\n",
       "      <td>17</td>\n",
       "      <td>20</td>\n",
       "    </tr>\n",
       "    <tr>\n",
       "      <th>Asian-Pac-Islander</th>\n",
       "      <td>108</td>\n",
       "      <td>1</td>\n",
       "      <td>737</td>\n",
       "      <td>64</td>\n",
       "      <td>544</td>\n",
       "      <td>26</td>\n",
       "      <td>39</td>\n",
       "    </tr>\n",
       "    <tr>\n",
       "      <th>Black</th>\n",
       "      <td>709</td>\n",
       "      <td>3</td>\n",
       "      <td>1263</td>\n",
       "      <td>89</td>\n",
       "      <td>2032</td>\n",
       "      <td>396</td>\n",
       "      <td>193</td>\n",
       "    </tr>\n",
       "    <tr>\n",
       "      <th>Other</th>\n",
       "      <td>42</td>\n",
       "      <td>0</td>\n",
       "      <td>157</td>\n",
       "      <td>17</td>\n",
       "      <td>160</td>\n",
       "      <td>21</td>\n",
       "      <td>9</td>\n",
       "    </tr>\n",
       "    <tr>\n",
       "      <th>White</th>\n",
       "      <td>5684</td>\n",
       "      <td>33</td>\n",
       "      <td>20054</td>\n",
       "      <td>446</td>\n",
       "      <td>13218</td>\n",
       "      <td>1070</td>\n",
       "      <td>1257</td>\n",
       "    </tr>\n",
       "  </tbody>\n",
       "</table>\n",
       "</div>"
      ],
      "text/plain": [
       "Marital_Status      Divorced  Married-AF-spouse  Married-civ-spouse  \\\n",
       "Race                                                                  \n",
       "Amer-Indian-Eskimo        90                  0                 168   \n",
       "Asian-Pac-Islander       108                  1                 737   \n",
       "Black                    709                  3                1263   \n",
       "Other                     42                  0                 157   \n",
       "White                   5684                 33               20054   \n",
       "\n",
       "Marital_Status      Married-spouse-absent  Never-married  Separated  Widowed  \n",
       "Race                                                                          \n",
       "Amer-Indian-Eskimo                     12            163         17       20  \n",
       "Asian-Pac-Islander                     64            544         26       39  \n",
       "Black                                  89           2032        396      193  \n",
       "Other                                  17            160         21        9  \n",
       "White                                 446          13218       1070     1257  "
      ]
     },
     "execution_count": 268,
     "metadata": {},
     "output_type": "execute_result"
    }
   ],
   "source": [
    "t=pd.crosstab(df.Race,df['Marital_Status'])\n",
    "t"
   ]
  },
  {
   "cell_type": "code",
   "execution_count": 269,
   "metadata": {},
   "outputs": [
    {
     "data": {
      "text/plain": [
       "<matplotlib.axes._subplots.AxesSubplot at 0x2903d74c7f0>"
      ]
     },
     "execution_count": 269,
     "metadata": {},
     "output_type": "execute_result"
    },
    {
     "data": {
      "image/png": "[encoded data removed]",
      "text/plain": [
       "<Figure size 432x288 with 1 Axes>"
      ]
     },
     "metadata": {
      "needs_background": "light"
     },
     "output_type": "display_data"
    }
   ],
   "source": [
    "t.plot.line()"
   ]
  },
  {
   "cell_type": "markdown",
   "metadata": {},
   "source": [
    "### Q11. Plot bargraph using Occupation and Age.  "
   ]
  },
  {
   "cell_type": "code",
   "execution_count": 270,
   "metadata": {},
   "outputs": [
    {
     "data": {
      "text/plain": [
       "(array([ 0,  1,  2,  3,  4,  5,  6,  7,  8,  9, 10, 11, 12, 13]),\n",
       " <a list of 14 Text major ticklabel objects>)"
      ]
     },
     "execution_count": 270,
     "metadata": {},
     "output_type": "execute_result"
    },
    {
     "data": {
      "image/png": "[encoded data removed]",
      "text/plain": [
       "<Figure size 1080x576 with 1 Axes>"
      ]
     },
     "metadata": {
      "needs_background": "light"
     },
     "output_type": "display_data"
    }
   ],
   "source": [
    "plt.figure(figsize=(15,8))\n",
    "sns.barplot(x='Occupation',y='Age',data=df,hue='Income')\n",
    "plt.xticks(rotation=60)"
   ]
  },
  {
   "cell_type": "markdown",
   "metadata": {},
   "source": [
    "#### Average age is shown in each occupation"
   ]
  },
  {
   "cell_type": "markdown",
   "metadata": {},
   "source": [
    "### Q12. Plot a graph of number of people present in each race"
   ]
  },
  {
   "cell_type": "code",
   "execution_count": 271,
   "metadata": {},
   "outputs": [
    {
     "data": {
      "text/plain": [
       "<matplotlib.axes._subplots.AxesSubplot at 0x2903d05fc70>"
      ]
     },
     "execution_count": 271,
     "metadata": {},
     "output_type": "execute_result"
    },
    {
     "data": {
      "image/png": "[encoded data removed]",
      "text/plain": [
       "<Figure size 432x288 with 1 Axes>"
      ]
     },
     "metadata": {
      "needs_background": "light"
     },
     "output_type": "display_data"
    }
   ],
   "source": [
    "g=pd.crosstab(df.Race,df.Education)\n",
    "g.plot.line(legend=False)"
   ]
  },
  {
   "cell_type": "markdown",
   "metadata": {},
   "source": [
    "### Q13. People who are working more than 40 HoursPerWeek(HPW)"
   ]
  },
  {
   "cell_type": "code",
   "execution_count": 272,
   "metadata": {},
   "outputs": [
    {
     "data": {
      "text/plain": [
       "14352"
      ]
     },
     "execution_count": 272,
     "metadata": {},
     "output_type": "execute_result"
    }
   ],
   "source": [
    "df.query(\"HoursPerWeek>40\").HoursPerWeek.count()"
   ]
  },
  {
   "cell_type": "code",
   "execution_count": 273,
   "metadata": {
    "scrolled": true
   },
   "outputs": [
    {
     "data": {
      "text/html": [
       "<div>\n",
       "<style scoped>\n",
       "    .dataframe tbody tr th:only-of-type {\n",
       "        vertical-align: middle;\n",
       "    }\n",
       "\n",
       "    .dataframe tbody tr th {\n",
       "        vertical-align: top;\n",
       "    }\n",
       "\n",
       "    .dataframe thead th {\n",
       "        text-align: right;\n",
       "    }\n",
       "</style>\n",
       "<table border=\"1\" class=\"dataframe\">\n",
       "  <thead>\n",
       "    <tr style=\"text-align: right;\">\n",
       "      <th></th>\n",
       "      <th>Age</th>\n",
       "      <th>Workclass</th>\n",
       "      <th>Education</th>\n",
       "      <th>Educational_Num</th>\n",
       "      <th>Marital_Status</th>\n",
       "      <th>Status_Number</th>\n",
       "      <th>Occupation</th>\n",
       "      <th>Relationship</th>\n",
       "      <th>Race</th>\n",
       "      <th>Gender</th>\n",
       "      <th>Capital_Gain</th>\n",
       "      <th>Capital_Loss</th>\n",
       "      <th>HoursPerWeek</th>\n",
       "      <th>Native_Country</th>\n",
       "      <th>Income</th>\n",
       "    </tr>\n",
       "  </thead>\n",
       "  <tbody>\n",
       "    <tr>\n",
       "      <th>1</th>\n",
       "      <td>38</td>\n",
       "      <td>Private</td>\n",
       "      <td>HS-grad</td>\n",
       "      <td>9</td>\n",
       "      <td>Married-civ-spouse</td>\n",
       "      <td>1</td>\n",
       "      <td>Farming-fishing</td>\n",
       "      <td>Husband</td>\n",
       "      <td>White</td>\n",
       "      <td>Male</td>\n",
       "      <td>0</td>\n",
       "      <td>0</td>\n",
       "      <td>50</td>\n",
       "      <td>United-States</td>\n",
       "      <td>&lt;=50K</td>\n",
       "    </tr>\n",
       "    <tr>\n",
       "      <th>23</th>\n",
       "      <td>25</td>\n",
       "      <td>Private</td>\n",
       "      <td>Bachelors</td>\n",
       "      <td>13</td>\n",
       "      <td>Never-married</td>\n",
       "      <td>0</td>\n",
       "      <td>Prof-specialty</td>\n",
       "      <td>Not-in-family</td>\n",
       "      <td>White</td>\n",
       "      <td>Male</td>\n",
       "      <td>0</td>\n",
       "      <td>0</td>\n",
       "      <td>43</td>\n",
       "      <td>Peru</td>\n",
       "      <td>&lt;=50K</td>\n",
       "    </tr>\n",
       "    <tr>\n",
       "      <th>27</th>\n",
       "      <td>23</td>\n",
       "      <td>Private</td>\n",
       "      <td>HS-grad</td>\n",
       "      <td>9</td>\n",
       "      <td>Separated</td>\n",
       "      <td>4</td>\n",
       "      <td>Machine-op-inspct</td>\n",
       "      <td>Unmarried</td>\n",
       "      <td>Black</td>\n",
       "      <td>Male</td>\n",
       "      <td>0</td>\n",
       "      <td>0</td>\n",
       "      <td>54</td>\n",
       "      <td>United-States</td>\n",
       "      <td>&lt;=50K</td>\n",
       "    </tr>\n",
       "    <tr>\n",
       "      <th>29</th>\n",
       "      <td>32</td>\n",
       "      <td>Self-emp-not-inc</td>\n",
       "      <td>Some-college</td>\n",
       "      <td>10</td>\n",
       "      <td>Never-married</td>\n",
       "      <td>0</td>\n",
       "      <td>Prof-specialty</td>\n",
       "      <td>Not-in-family</td>\n",
       "      <td>White</td>\n",
       "      <td>Male</td>\n",
       "      <td>0</td>\n",
       "      <td>0</td>\n",
       "      <td>60</td>\n",
       "      <td>United-States</td>\n",
       "      <td>&lt;=50K</td>\n",
       "    </tr>\n",
       "    <tr>\n",
       "      <th>31</th>\n",
       "      <td>56</td>\n",
       "      <td>Self-emp-not-inc</td>\n",
       "      <td>11th</td>\n",
       "      <td>7</td>\n",
       "      <td>Widowed</td>\n",
       "      <td>2</td>\n",
       "      <td>Other-service</td>\n",
       "      <td>Unmarried</td>\n",
       "      <td>White</td>\n",
       "      <td>Female</td>\n",
       "      <td>0</td>\n",
       "      <td>0</td>\n",
       "      <td>50</td>\n",
       "      <td>United-States</td>\n",
       "      <td>&lt;=50K</td>\n",
       "    </tr>\n",
       "  </tbody>\n",
       "</table>\n",
       "</div>"
      ],
      "text/plain": [
       "    Age         Workclass     Education  Educational_Num      Marital_Status  \\\n",
       "1    38           Private       HS-grad                9  Married-civ-spouse   \n",
       "23   25           Private     Bachelors               13       Never-married   \n",
       "27   23           Private       HS-grad                9           Separated   \n",
       "29   32  Self-emp-not-inc  Some-college               10       Never-married   \n",
       "31   56  Self-emp-not-inc          11th                7             Widowed   \n",
       "\n",
       "    Status_Number         Occupation   Relationship   Race  Gender  \\\n",
       "1               1    Farming-fishing        Husband  White    Male   \n",
       "23              0     Prof-specialty  Not-in-family  White    Male   \n",
       "27              4  Machine-op-inspct      Unmarried  Black    Male   \n",
       "29              0     Prof-specialty  Not-in-family  White    Male   \n",
       "31              2      Other-service      Unmarried  White  Female   \n",
       "\n",
       "    Capital_Gain  Capital_Loss  HoursPerWeek Native_Country Income  \n",
       "1              0             0            50  United-States  <=50K  \n",
       "23             0             0            43           Peru  <=50K  \n",
       "27             0             0            54  United-States  <=50K  \n",
       "29             0             0            60  United-States  <=50K  \n",
       "31             0             0            50  United-States  <=50K  "
      ]
     },
     "execution_count": 273,
     "metadata": {},
     "output_type": "execute_result"
    }
   ],
   "source": [
    "df.query(\"HoursPerWeek>40 & Income=='<=50K'\").head()"
   ]
  },
  {
   "cell_type": "code",
   "execution_count": 277,
   "metadata": {
    "scrolled": true
   },
   "outputs": [
    {
     "data": {
      "text/plain": [
       "<matplotlib.axes._subplots.AxesSubplot at 0x29048f4f760>"
      ]
     },
     "execution_count": 277,
     "metadata": {},
     "output_type": "execute_result"
    },
    {
     "data": {
      "image/png": "[encoded data removed]",
      "text/plain": [
       "<Figure size 432x288 with 1 Axes>"
      ]
     },
     "metadata": {
      "needs_background": "light"
     },
     "output_type": "display_data"
    }
   ],
   "source": [
    "g=df.query(\"HoursPerWeek>40 & Income=='<=50K'\").Education.value_counts()\n",
    "g.plot.bar()"
   ]
  },
  {
   "cell_type": "markdown",
   "metadata": {},
   "source": [
    "##### Here we observe that more working hours doesn't mean more money and neither do more education, as Doctorates are only 69 and HS-grads are leading."
   ]
  },
  {
   "cell_type": "markdown",
   "metadata": {},
   "source": [
    "### Q14. Check the relation between country and income and taking percentage make a comparison "
   ]
  },
  {
   "cell_type": "code",
   "execution_count": 278,
   "metadata": {},
   "outputs": [
    {
     "data": {
      "text/html": [
       "<div>\n",
       "<style scoped>\n",
       "    .dataframe tbody tr th:only-of-type {\n",
       "        vertical-align: middle;\n",
       "    }\n",
       "\n",
       "    .dataframe tbody tr th {\n",
       "        vertical-align: top;\n",
       "    }\n",
       "\n",
       "    .dataframe thead th {\n",
       "        text-align: right;\n",
       "    }\n",
       "</style>\n",
       "<table border=\"1\" class=\"dataframe\">\n",
       "  <thead>\n",
       "    <tr style=\"text-align: right;\">\n",
       "      <th>Income</th>\n",
       "      <th>&lt;=50K</th>\n",
       "      <th>&gt;50K</th>\n",
       "      <th>All</th>\n",
       "      <th>&lt;=50K%</th>\n",
       "      <th>&gt;50K%</th>\n",
       "    </tr>\n",
       "    <tr>\n",
       "      <th>Native_Country</th>\n",
       "      <th></th>\n",
       "      <th></th>\n",
       "      <th></th>\n",
       "      <th></th>\n",
       "      <th></th>\n",
       "    </tr>\n",
       "  </thead>\n",
       "  <tbody>\n",
       "    <tr>\n",
       "      <th>Cambodia</th>\n",
       "      <td>19</td>\n",
       "      <td>9</td>\n",
       "      <td>28</td>\n",
       "      <td>67.857143</td>\n",
       "      <td>32.142857</td>\n",
       "    </tr>\n",
       "    <tr>\n",
       "      <th>Canada</th>\n",
       "      <td>119</td>\n",
       "      <td>63</td>\n",
       "      <td>182</td>\n",
       "      <td>65.384615</td>\n",
       "      <td>34.615385</td>\n",
       "    </tr>\n",
       "    <tr>\n",
       "      <th>China</th>\n",
       "      <td>86</td>\n",
       "      <td>36</td>\n",
       "      <td>122</td>\n",
       "      <td>70.491803</td>\n",
       "      <td>29.508197</td>\n",
       "    </tr>\n",
       "    <tr>\n",
       "      <th>Columbia</th>\n",
       "      <td>81</td>\n",
       "      <td>4</td>\n",
       "      <td>85</td>\n",
       "      <td>95.294118</td>\n",
       "      <td>4.705882</td>\n",
       "    </tr>\n",
       "    <tr>\n",
       "      <th>Cuba</th>\n",
       "      <td>104</td>\n",
       "      <td>34</td>\n",
       "      <td>138</td>\n",
       "      <td>75.362319</td>\n",
       "      <td>24.637681</td>\n",
       "    </tr>\n",
       "  </tbody>\n",
       "</table>\n",
       "</div>"
      ],
      "text/plain": [
       "Income          <=50K  >50K  All     <=50K%      >50K%\n",
       "Native_Country                                        \n",
       "Cambodia           19     9   28  67.857143  32.142857\n",
       "Canada            119    63  182  65.384615  34.615385\n",
       "China              86    36  122  70.491803  29.508197\n",
       "Columbia           81     4   85  95.294118   4.705882\n",
       "Cuba              104    34  138  75.362319  24.637681"
      ]
     },
     "execution_count": 278,
     "metadata": {},
     "output_type": "execute_result"
    }
   ],
   "source": [
    "y2=pd.crosstab(df['Native_Country'],df['Income'],margins=True)\n",
    "y2['<=50K%']=(y2['<=50K']/y2['All'])*100\n",
    "y2['>50K%']=(y2['>50K']/y2['All'])*100\n",
    "y2.head()"
   ]
  },
  {
   "cell_type": "markdown",
   "metadata": {},
   "source": [
    "### Q15. Find the most common education for each education level"
   ]
  },
  {
   "cell_type": "code",
   "execution_count": 276,
   "metadata": {},
   "outputs": [
    {
     "data": {
      "text/plain": [
       "Education\n",
       "10th             Other-service\n",
       "11th             Other-service\n",
       "12th             Other-service\n",
       "1st-4th          Other-service\n",
       "5th-6th          Other-service\n",
       "7th-8th           Craft-repair\n",
       "9th               Craft-repair\n",
       "Assoc-acdm        Adm-clerical\n",
       "Assoc-voc         Craft-repair\n",
       "Bachelors       Prof-specialty\n",
       "Doctorate       Prof-specialty\n",
       "HS-grad           Craft-repair\n",
       "Masters         Prof-specialty\n",
       "Preschool        Other-service\n",
       "Prof-school     Prof-specialty\n",
       "Some-college      Adm-clerical\n",
       "dtype: object"
      ]
     },
     "execution_count": 276,
     "metadata": {},
     "output_type": "execute_result"
    }
   ],
   "source": [
    "occed=pd.crosstab(df['Occupation'],df['Education'])\n",
    "occed.idxmax(axis=0)"
   ]
  },
  {
   "cell_type": "markdown",
   "metadata": {},
   "source": [
    "### Inference: As education level of individual increases, their occupation becomes more specialized"
   ]
  },
  {
   "cell_type": "markdown",
   "metadata": {},
   "source": [
    "# Level_2: Questions with plotting"
   ]
  },
  {
   "cell_type": "markdown",
   "metadata": {},
   "source": [
    "### Q16. Show those employees who have either experienced Capital_gain or Capital_loss. "
   ]
  },
  {
   "cell_type": "code",
   "execution_count": null,
   "metadata": {},
   "outputs": [],
   "source": [
    "df.query(\"Capital_Gain!=0 | Capital_Loss!=0\")"
   ]
  },
  {
   "cell_type": "code",
   "execution_count": null,
   "metadata": {},
   "outputs": [],
   "source": [
    "fig = plt.figure(figsize=(20,10))\n",
    "ax1 = fig.add_subplot(1,2,1)\n",
    "sns.barplot(x='Capital_Gain',y='Occupation',data=df)\n",
    "ax2 = fig.add_subplot(1,2,2)\n",
    "sns.barplot(x='Capital_Loss',y='Occupation',data=df)\n",
    "plt.tight_layout()"
   ]
  },
  {
   "cell_type": "code",
   "execution_count": null,
   "metadata": {},
   "outputs": [],
   "source": [
    "fig = plt.figure(figsize=(20,10))\n",
    "ax1 = fig.add_subplot(1,2,1)\n",
    "sns.barplot(x='Capital_Gain',y='Occupation',data=df,hue='Income')\n",
    "ax2 = fig.add_subplot(1,2,2)\n",
    "sns.barplot(x='Capital_Loss',y='Occupation',data=df,hue='Income')\n",
    "plt.tight_layout()"
   ]
  },
  {
   "cell_type": "markdown",
   "metadata": {},
   "source": [
    "### Q17. Find the relation between occupation and education"
   ]
  },
  {
   "cell_type": "code",
   "execution_count": null,
   "metadata": {},
   "outputs": [],
   "source": [
    "ed=pd.DataFrame(df['Educational_Num'].groupby(df['Occupation']).mean().sort_values())\n",
    "ed.reset_index(level=0,inplace=True)\n",
    "ed"
   ]
  },
  {
   "cell_type": "code",
   "execution_count": null,
   "metadata": {},
   "outputs": [],
   "source": [
    "fig_dims=(24,6)\n",
    "fig,ax=plt.subplots(figsize=fig_dims)\n",
    "sns.barplot(x='Occupation',y='Educational_Num',data=ed,ax=ax)"
   ]
  },
  {
   "cell_type": "markdown",
   "metadata": {},
   "source": [
    "### Inference: Exec-managerial and Prof-speciality are topmost which is obvious because these are postions which require lot of knowledge and academic experience"
   ]
  },
  {
   "cell_type": "markdown",
   "metadata": {},
   "source": [
    "### Q18. Find the relationship between Gender and Income"
   ]
  },
  {
   "cell_type": "code",
   "execution_count": 61,
   "metadata": {},
   "outputs": [
    {
     "data": {
      "text/html": [
       "<div>\n",
       "<style scoped>\n",
       "    .dataframe tbody tr th:only-of-type {\n",
       "        vertical-align: middle;\n",
       "    }\n",
       "\n",
       "    .dataframe tbody tr th {\n",
       "        vertical-align: top;\n",
       "    }\n",
       "\n",
       "    .dataframe thead th {\n",
       "        text-align: right;\n",
       "    }\n",
       "</style>\n",
       "<table border=\"1\" class=\"dataframe\">\n",
       "  <thead>\n",
       "    <tr style=\"text-align: right;\">\n",
       "      <th>Income</th>\n",
       "      <th>&lt;=50K</th>\n",
       "      <th>&gt;50K</th>\n",
       "    </tr>\n",
       "    <tr>\n",
       "      <th>Gender</th>\n",
       "      <th></th>\n",
       "      <th></th>\n",
       "    </tr>\n",
       "  </thead>\n",
       "  <tbody>\n",
       "    <tr>\n",
       "      <th>Female</th>\n",
       "      <td>14423</td>\n",
       "      <td>1769</td>\n",
       "    </tr>\n",
       "    <tr>\n",
       "      <th>Male</th>\n",
       "      <td>22732</td>\n",
       "      <td>9918</td>\n",
       "    </tr>\n",
       "  </tbody>\n",
       "</table>\n",
       "</div>"
      ],
      "text/plain": [
       "Income  <=50K  >50K\n",
       "Gender             \n",
       "Female  14423  1769\n",
       "Male    22732  9918"
      ]
     },
     "execution_count": 61,
     "metadata": {},
     "output_type": "execute_result"
    }
   ],
   "source": [
    "y1=pd.crosstab(df.Gender,df.Income)\n",
    "y1z"
   ]
  },
  {
   "cell_type": "code",
   "execution_count": 62,
   "metadata": {},
   "outputs": [
    {
     "data": {
      "text/plain": [
       "30.37672281776417"
      ]
     },
     "execution_count": 62,
     "metadata": {},
     "output_type": "execute_result"
    }
   ],
   "source": [
    "(9918/df.query(\"Gender=='Male'\").Gender.count())*100    #for Male"
   ]
  },
  {
   "cell_type": "code",
   "execution_count": 63,
   "metadata": {},
   "outputs": [
    {
     "data": {
      "text/plain": [
       "10.925148221343873"
      ]
     },
     "execution_count": 63,
     "metadata": {},
     "output_type": "execute_result"
    }
   ],
   "source": [
    "(1769/df.query(\"Gender=='Female'\").Gender.count())*100     #for Female"
   ]
  },
  {
   "cell_type": "markdown",
   "metadata": {},
   "source": [
    "#### Men have almost 3 times as likely to go over 50k"
   ]
  },
  {
   "cell_type": "code",
   "execution_count": 64,
   "metadata": {},
   "outputs": [
    {
     "name": "stdout",
     "output_type": "stream",
     "text": [
      "0.178\n"
     ]
    }
   ],
   "source": [
    "v1=(1769/9918)\n",
    "print('%0.3f'% v1)"
   ]
  },
  {
   "cell_type": "markdown",
   "metadata": {},
   "source": [
    "##### For every 100 men, earning over 50k, only 18 women reach upto salary of 50k+"
   ]
  },
  {
   "cell_type": "markdown",
   "metadata": {},
   "source": [
    "### Q19. Group the data with Age and Income "
   ]
  },
  {
   "cell_type": "code",
   "execution_count": 65,
   "metadata": {
    "scrolled": true
   },
   "outputs": [],
   "source": [
    "cuts=pd.cut(df.Age,[17,25,40,66,91],right=True,include_lowest=True)"
   ]
  },
  {
   "cell_type": "code",
   "execution_count": 66,
   "metadata": {
    "scrolled": false
   },
   "outputs": [
    {
     "data": {
      "text/html": [
       "<div>\n",
       "<style scoped>\n",
       "    .dataframe tbody tr th:only-of-type {\n",
       "        vertical-align: middle;\n",
       "    }\n",
       "\n",
       "    .dataframe tbody tr th {\n",
       "        vertical-align: top;\n",
       "    }\n",
       "\n",
       "    .dataframe thead tr th {\n",
       "        text-align: left;\n",
       "    }\n",
       "\n",
       "    .dataframe thead tr:last-of-type th {\n",
       "        text-align: right;\n",
       "    }\n",
       "</style>\n",
       "<table border=\"1\" class=\"dataframe\">\n",
       "  <thead>\n",
       "    <tr>\n",
       "      <th>Age</th>\n",
       "      <th colspan=\"2\" halign=\"left\">(16.999, 25.0]</th>\n",
       "      <th colspan=\"2\" halign=\"left\">(25.0, 40.0]</th>\n",
       "      <th colspan=\"2\" halign=\"left\">(40.0, 66.0]</th>\n",
       "      <th colspan=\"2\" halign=\"left\">(66.0, 91.0]</th>\n",
       "    </tr>\n",
       "    <tr>\n",
       "      <th>Income</th>\n",
       "      <th>&lt;=50K</th>\n",
       "      <th>&gt;50K</th>\n",
       "      <th>&lt;=50K</th>\n",
       "      <th>&gt;50K</th>\n",
       "      <th>&lt;=50K</th>\n",
       "      <th>&gt;50K</th>\n",
       "      <th>&lt;=50K</th>\n",
       "      <th>&gt;50K</th>\n",
       "    </tr>\n",
       "    <tr>\n",
       "      <th>Gender</th>\n",
       "      <th></th>\n",
       "      <th></th>\n",
       "      <th></th>\n",
       "      <th></th>\n",
       "      <th></th>\n",
       "      <th></th>\n",
       "      <th></th>\n",
       "      <th></th>\n",
       "    </tr>\n",
       "  </thead>\n",
       "  <tbody>\n",
       "    <tr>\n",
       "      <th>Female</th>\n",
       "      <td>4237</td>\n",
       "      <td>48</td>\n",
       "      <td>5152</td>\n",
       "      <td>802</td>\n",
       "      <td>4548</td>\n",
       "      <td>882</td>\n",
       "      <td>486</td>\n",
       "      <td>37</td>\n",
       "    </tr>\n",
       "    <tr>\n",
       "      <th>Male</th>\n",
       "      <td>5221</td>\n",
       "      <td>121</td>\n",
       "      <td>9420</td>\n",
       "      <td>3630</td>\n",
       "      <td>7312</td>\n",
       "      <td>5903</td>\n",
       "      <td>779</td>\n",
       "      <td>264</td>\n",
       "    </tr>\n",
       "  </tbody>\n",
       "</table>\n",
       "</div>"
      ],
      "text/plain": [
       "Age    (16.999, 25.0]      (25.0, 40.0]       (40.0, 66.0]       (66.0, 91.0]  \\\n",
       "Income          <=50K >50K        <=50K  >50K        <=50K  >50K        <=50K   \n",
       "Gender                                                                          \n",
       "Female           4237   48         5152   802         4548   882          486   \n",
       "Male             5221  121         9420  3630         7312  5903          779   \n",
       "\n",
       "Age          \n",
       "Income >50K  \n",
       "Gender       \n",
       "Female   37  \n",
       "Male    264  "
      ]
     },
     "execution_count": 66,
     "metadata": {},
     "output_type": "execute_result"
    }
   ],
   "source": [
    "cuts=pd.cut(df.Age,[17,25,40,66,91],right=True,include_lowest=True)\n",
    "table=pd.pivot_table(df,index=df.Gender,columns=[cuts,df.Income],values='Income',aggfunc='count')\n",
    "table"
   ]
  },
  {
   "cell_type": "code",
   "execution_count": 217,
   "metadata": {},
   "outputs": [
    {
     "data": {
      "text/plain": [
       "<matplotlib.axes._subplots.AxesSubplot at 0x2903fa8fe20>"
      ]
     },
     "execution_count": 217,
     "metadata": {},
     "output_type": "execute_result"
    },
    {
     "data": {
      "image/png": "[encoded data removed]",
      "text/plain": [
       "<Figure size 432x288 with 1 Axes>"
      ]
     },
     "metadata": {
      "needs_background": "light"
     },
     "output_type": "display_data"
    }
   ],
   "source": [
    "sns.barplot(x='Age',y='Gender',hue='Income',data=df,orient='h')      # displays average age on x-axis"
   ]
  },
  {
   "cell_type": "markdown",
   "metadata": {},
   "source": [
    "### Q20. Find which age group has maximum no of employees in corporate world."
   ]
  },
  {
   "cell_type": "code",
   "execution_count": 69,
   "metadata": {},
   "outputs": [
    {
     "data": {
      "text/html": [
       "<div>\n",
       "<style scoped>\n",
       "    .dataframe tbody tr th:only-of-type {\n",
       "        vertical-align: middle;\n",
       "    }\n",
       "\n",
       "    .dataframe tbody tr th {\n",
       "        vertical-align: top;\n",
       "    }\n",
       "\n",
       "    .dataframe thead th {\n",
       "        text-align: right;\n",
       "    }\n",
       "</style>\n",
       "<table border=\"1\" class=\"dataframe\">\n",
       "  <thead>\n",
       "    <tr style=\"text-align: right;\">\n",
       "      <th>Age</th>\n",
       "      <th>(16.999, 25.0]</th>\n",
       "      <th>(25.0, 40.0]</th>\n",
       "      <th>(40.0, 66.0]</th>\n",
       "      <th>(66.0, 91.0]</th>\n",
       "    </tr>\n",
       "    <tr>\n",
       "      <th>Workclass</th>\n",
       "      <th></th>\n",
       "      <th></th>\n",
       "      <th></th>\n",
       "      <th></th>\n",
       "    </tr>\n",
       "  </thead>\n",
       "  <tbody>\n",
       "    <tr>\n",
       "      <th>Federal-gov</th>\n",
       "      <td>101</td>\n",
       "      <td>517</td>\n",
       "      <td>791</td>\n",
       "      <td>23</td>\n",
       "    </tr>\n",
       "    <tr>\n",
       "      <th>Local-gov</th>\n",
       "      <td>302</td>\n",
       "      <td>1174</td>\n",
       "      <td>1570</td>\n",
       "      <td>90</td>\n",
       "    </tr>\n",
       "    <tr>\n",
       "      <th>Never-worked</th>\n",
       "      <td>9</td>\n",
       "      <td>1</td>\n",
       "      <td>0</td>\n",
       "      <td>0</td>\n",
       "    </tr>\n",
       "    <tr>\n",
       "      <th>Private</th>\n",
       "      <td>7557</td>\n",
       "      <td>14172</td>\n",
       "      <td>11539</td>\n",
       "      <td>638</td>\n",
       "    </tr>\n",
       "    <tr>\n",
       "      <th>Self-emp-inc</th>\n",
       "      <td>84</td>\n",
       "      <td>503</td>\n",
       "      <td>1000</td>\n",
       "      <td>108</td>\n",
       "    </tr>\n",
       "    <tr>\n",
       "      <th>Self-emp-not-inc</th>\n",
       "      <td>198</td>\n",
       "      <td>1336</td>\n",
       "      <td>2050</td>\n",
       "      <td>278</td>\n",
       "    </tr>\n",
       "    <tr>\n",
       "      <th>State-gov</th>\n",
       "      <td>300</td>\n",
       "      <td>770</td>\n",
       "      <td>874</td>\n",
       "      <td>37</td>\n",
       "    </tr>\n",
       "    <tr>\n",
       "      <th>Without-pay</th>\n",
       "      <td>5</td>\n",
       "      <td>3</td>\n",
       "      <td>9</td>\n",
       "      <td>4</td>\n",
       "    </tr>\n",
       "  </tbody>\n",
       "</table>\n",
       "</div>"
      ],
      "text/plain": [
       "Age               (16.999, 25.0]  (25.0, 40.0]  (40.0, 66.0]  (66.0, 91.0]\n",
       "Workclass                                                                 \n",
       "Federal-gov                  101           517           791            23\n",
       "Local-gov                    302          1174          1570            90\n",
       "Never-worked                   9             1             0             0\n",
       "Private                     7557         14172         11539           638\n",
       "Self-emp-inc                  84           503          1000           108\n",
       "Self-emp-not-inc             198          1336          2050           278\n",
       "State-gov                    300           770           874            37\n",
       "Without-pay                    5             3             9             4"
      ]
     },
     "execution_count": 69,
     "metadata": {},
     "output_type": "execute_result"
    }
   ],
   "source": [
    "max_number=pd.crosstab(df.Workclass,cuts)\n",
    "max_number"
   ]
  },
  {
   "cell_type": "code",
   "execution_count": 71,
   "metadata": {},
   "outputs": [
    {
     "data": {
      "text/html": [
       "<style  type=\"text/css\" >\n",
       "    #T_24fbb8a0_1aac_11eb_86a0_b00cd12b0c06row0_col2 {\n",
       "            background-color:  yellow;\n",
       "        }    #T_24fbb8a0_1aac_11eb_86a0_b00cd12b0c06row1_col2 {\n",
       "            background-color:  yellow;\n",
       "        }    #T_24fbb8a0_1aac_11eb_86a0_b00cd12b0c06row2_col0 {\n",
       "            background-color:  yellow;\n",
       "        }    #T_24fbb8a0_1aac_11eb_86a0_b00cd12b0c06row3_col1 {\n",
       "            background-color:  yellow;\n",
       "        }    #T_24fbb8a0_1aac_11eb_86a0_b00cd12b0c06row4_col2 {\n",
       "            background-color:  yellow;\n",
       "        }    #T_24fbb8a0_1aac_11eb_86a0_b00cd12b0c06row5_col2 {\n",
       "            background-color:  yellow;\n",
       "        }    #T_24fbb8a0_1aac_11eb_86a0_b00cd12b0c06row6_col2 {\n",
       "            background-color:  yellow;\n",
       "        }    #T_24fbb8a0_1aac_11eb_86a0_b00cd12b0c06row7_col2 {\n",
       "            background-color:  yellow;\n",
       "        }</style><table id=\"T_24fbb8a0_1aac_11eb_86a0_b00cd12b0c06\" ><thead>    <tr>        <th class=\"index_name level0\" >Age</th>        <th class=\"col_heading level0 col0\" >(16.999, 25.0]</th>        <th class=\"col_heading level0 col1\" >(25.0, 40.0]</th>        <th class=\"col_heading level0 col2\" >(40.0, 66.0]</th>        <th class=\"col_heading level0 col3\" >(66.0, 91.0]</th>    </tr>    <tr>        <th class=\"index_name level0\" >Workclass</th>        <th class=\"blank\" ></th>        <th class=\"blank\" ></th>        <th class=\"blank\" ></th>        <th class=\"blank\" ></th>    </tr></thead><tbody>\n",
       "                <tr>\n",
       "                        <th id=\"T_24fbb8a0_1aac_11eb_86a0_b00cd12b0c06level0_row0\" class=\"row_heading level0 row0\" >Federal-gov</th>\n",
       "                        <td id=\"T_24fbb8a0_1aac_11eb_86a0_b00cd12b0c06row0_col0\" class=\"data row0 col0\" >101</td>\n",
       "                        <td id=\"T_24fbb8a0_1aac_11eb_86a0_b00cd12b0c06row0_col1\" class=\"data row0 col1\" >517</td>\n",
       "                        <td id=\"T_24fbb8a0_1aac_11eb_86a0_b00cd12b0c06row0_col2\" class=\"data row0 col2\" >791</td>\n",
       "                        <td id=\"T_24fbb8a0_1aac_11eb_86a0_b00cd12b0c06row0_col3\" class=\"data row0 col3\" >23</td>\n",
       "            </tr>\n",
       "            <tr>\n",
       "                        <th id=\"T_24fbb8a0_1aac_11eb_86a0_b00cd12b0c06level0_row1\" class=\"row_heading level0 row1\" >Local-gov</th>\n",
       "                        <td id=\"T_24fbb8a0_1aac_11eb_86a0_b00cd12b0c06row1_col0\" class=\"data row1 col0\" >302</td>\n",
       "                        <td id=\"T_24fbb8a0_1aac_11eb_86a0_b00cd12b0c06row1_col1\" class=\"data row1 col1\" >1174</td>\n",
       "                        <td id=\"T_24fbb8a0_1aac_11eb_86a0_b00cd12b0c06row1_col2\" class=\"data row1 col2\" >1570</td>\n",
       "                        <td id=\"T_24fbb8a0_1aac_11eb_86a0_b00cd12b0c06row1_col3\" class=\"data row1 col3\" >90</td>\n",
       "            </tr>\n",
       "            <tr>\n",
       "                        <th id=\"T_24fbb8a0_1aac_11eb_86a0_b00cd12b0c06level0_row2\" class=\"row_heading level0 row2\" >Never-worked</th>\n",
       "                        <td id=\"T_24fbb8a0_1aac_11eb_86a0_b00cd12b0c06row2_col0\" class=\"data row2 col0\" >9</td>\n",
       "                        <td id=\"T_24fbb8a0_1aac_11eb_86a0_b00cd12b0c06row2_col1\" class=\"data row2 col1\" >1</td>\n",
       "                        <td id=\"T_24fbb8a0_1aac_11eb_86a0_b00cd12b0c06row2_col2\" class=\"data row2 col2\" >0</td>\n",
       "                        <td id=\"T_24fbb8a0_1aac_11eb_86a0_b00cd12b0c06row2_col3\" class=\"data row2 col3\" >0</td>\n",
       "            </tr>\n",
       "            <tr>\n",
       "                        <th id=\"T_24fbb8a0_1aac_11eb_86a0_b00cd12b0c06level0_row3\" class=\"row_heading level0 row3\" >Private</th>\n",
       "                        <td id=\"T_24fbb8a0_1aac_11eb_86a0_b00cd12b0c06row3_col0\" class=\"data row3 col0\" >7557</td>\n",
       "                        <td id=\"T_24fbb8a0_1aac_11eb_86a0_b00cd12b0c06row3_col1\" class=\"data row3 col1\" >14172</td>\n",
       "                        <td id=\"T_24fbb8a0_1aac_11eb_86a0_b00cd12b0c06row3_col2\" class=\"data row3 col2\" >11539</td>\n",
       "                        <td id=\"T_24fbb8a0_1aac_11eb_86a0_b00cd12b0c06row3_col3\" class=\"data row3 col3\" >638</td>\n",
       "            </tr>\n",
       "            <tr>\n",
       "                        <th id=\"T_24fbb8a0_1aac_11eb_86a0_b00cd12b0c06level0_row4\" class=\"row_heading level0 row4\" >Self-emp-inc</th>\n",
       "                        <td id=\"T_24fbb8a0_1aac_11eb_86a0_b00cd12b0c06row4_col0\" class=\"data row4 col0\" >84</td>\n",
       "                        <td id=\"T_24fbb8a0_1aac_11eb_86a0_b00cd12b0c06row4_col1\" class=\"data row4 col1\" >503</td>\n",
       "                        <td id=\"T_24fbb8a0_1aac_11eb_86a0_b00cd12b0c06row4_col2\" class=\"data row4 col2\" >1000</td>\n",
       "                        <td id=\"T_24fbb8a0_1aac_11eb_86a0_b00cd12b0c06row4_col3\" class=\"data row4 col3\" >108</td>\n",
       "            </tr>\n",
       "            <tr>\n",
       "                        <th id=\"T_24fbb8a0_1aac_11eb_86a0_b00cd12b0c06level0_row5\" class=\"row_heading level0 row5\" >Self-emp-not-inc</th>\n",
       "                        <td id=\"T_24fbb8a0_1aac_11eb_86a0_b00cd12b0c06row5_col0\" class=\"data row5 col0\" >198</td>\n",
       "                        <td id=\"T_24fbb8a0_1aac_11eb_86a0_b00cd12b0c06row5_col1\" class=\"data row5 col1\" >1336</td>\n",
       "                        <td id=\"T_24fbb8a0_1aac_11eb_86a0_b00cd12b0c06row5_col2\" class=\"data row5 col2\" >2050</td>\n",
       "                        <td id=\"T_24fbb8a0_1aac_11eb_86a0_b00cd12b0c06row5_col3\" class=\"data row5 col3\" >278</td>\n",
       "            </tr>\n",
       "            <tr>\n",
       "                        <th id=\"T_24fbb8a0_1aac_11eb_86a0_b00cd12b0c06level0_row6\" class=\"row_heading level0 row6\" >State-gov</th>\n",
       "                        <td id=\"T_24fbb8a0_1aac_11eb_86a0_b00cd12b0c06row6_col0\" class=\"data row6 col0\" >300</td>\n",
       "                        <td id=\"T_24fbb8a0_1aac_11eb_86a0_b00cd12b0c06row6_col1\" class=\"data row6 col1\" >770</td>\n",
       "                        <td id=\"T_24fbb8a0_1aac_11eb_86a0_b00cd12b0c06row6_col2\" class=\"data row6 col2\" >874</td>\n",
       "                        <td id=\"T_24fbb8a0_1aac_11eb_86a0_b00cd12b0c06row6_col3\" class=\"data row6 col3\" >37</td>\n",
       "            </tr>\n",
       "            <tr>\n",
       "                        <th id=\"T_24fbb8a0_1aac_11eb_86a0_b00cd12b0c06level0_row7\" class=\"row_heading level0 row7\" >Without-pay</th>\n",
       "                        <td id=\"T_24fbb8a0_1aac_11eb_86a0_b00cd12b0c06row7_col0\" class=\"data row7 col0\" >5</td>\n",
       "                        <td id=\"T_24fbb8a0_1aac_11eb_86a0_b00cd12b0c06row7_col1\" class=\"data row7 col1\" >3</td>\n",
       "                        <td id=\"T_24fbb8a0_1aac_11eb_86a0_b00cd12b0c06row7_col2\" class=\"data row7 col2\" >9</td>\n",
       "                        <td id=\"T_24fbb8a0_1aac_11eb_86a0_b00cd12b0c06row7_col3\" class=\"data row7 col3\" >4</td>\n",
       "            </tr>\n",
       "    </tbody></table>"
      ],
      "text/plain": [
       "<pandas.io.formats.style.Styler at 0x2903e22ddf0>"
      ]
     },
     "execution_count": 71,
     "metadata": {},
     "output_type": "execute_result"
    }
   ],
   "source": [
    "max_number.style.highlight_max(axis=1)"
   ]
  },
  {
   "cell_type": "markdown",
   "metadata": {},
   "source": [
    "#### The highlighted areas denote maximum no of employees of that particular workclass."
   ]
  },
  {
   "cell_type": "markdown",
   "metadata": {},
   "source": [
    "### Q21. Find population of each course according to male and female"
   ]
  },
  {
   "cell_type": "code",
   "execution_count": 102,
   "metadata": {},
   "outputs": [
    {
     "data": {
      "text/html": [
       "<div>\n",
       "<style scoped>\n",
       "    .dataframe tbody tr th:only-of-type {\n",
       "        vertical-align: middle;\n",
       "    }\n",
       "\n",
       "    .dataframe tbody tr th {\n",
       "        vertical-align: top;\n",
       "    }\n",
       "\n",
       "    .dataframe thead th {\n",
       "        text-align: right;\n",
       "    }\n",
       "</style>\n",
       "<table border=\"1\" class=\"dataframe\">\n",
       "  <thead>\n",
       "    <tr style=\"text-align: right;\">\n",
       "      <th>Gender</th>\n",
       "      <th>Female</th>\n",
       "      <th>Male</th>\n",
       "    </tr>\n",
       "    <tr>\n",
       "      <th>Education</th>\n",
       "      <th></th>\n",
       "      <th></th>\n",
       "    </tr>\n",
       "  </thead>\n",
       "  <tbody>\n",
       "    <tr>\n",
       "      <th>10th</th>\n",
       "      <td>457</td>\n",
       "      <td>932</td>\n",
       "    </tr>\n",
       "    <tr>\n",
       "      <th>11th</th>\n",
       "      <td>650</td>\n",
       "      <td>1162</td>\n",
       "    </tr>\n",
       "    <tr>\n",
       "      <th>12th</th>\n",
       "      <td>211</td>\n",
       "      <td>446</td>\n",
       "    </tr>\n",
       "    <tr>\n",
       "      <th>1st-4th</th>\n",
       "      <td>61</td>\n",
       "      <td>186</td>\n",
       "    </tr>\n",
       "    <tr>\n",
       "      <th>5th-6th</th>\n",
       "      <td>127</td>\n",
       "      <td>382</td>\n",
       "    </tr>\n",
       "    <tr>\n",
       "      <th>7th-8th</th>\n",
       "      <td>239</td>\n",
       "      <td>716</td>\n",
       "    </tr>\n",
       "    <tr>\n",
       "      <th>9th</th>\n",
       "      <td>220</td>\n",
       "      <td>536</td>\n",
       "    </tr>\n",
       "    <tr>\n",
       "      <th>Assoc-acdm</th>\n",
       "      <td>627</td>\n",
       "      <td>974</td>\n",
       "    </tr>\n",
       "    <tr>\n",
       "      <th>Assoc-voc</th>\n",
       "      <td>734</td>\n",
       "      <td>1327</td>\n",
       "    </tr>\n",
       "    <tr>\n",
       "      <th>Bachelors</th>\n",
       "      <td>2477</td>\n",
       "      <td>5548</td>\n",
       "    </tr>\n",
       "    <tr>\n",
       "      <th>Doctorate</th>\n",
       "      <td>113</td>\n",
       "      <td>481</td>\n",
       "    </tr>\n",
       "    <tr>\n",
       "      <th>HS-grad</th>\n",
       "      <td>5097</td>\n",
       "      <td>10687</td>\n",
       "    </tr>\n",
       "    <tr>\n",
       "      <th>Masters</th>\n",
       "      <td>845</td>\n",
       "      <td>1812</td>\n",
       "    </tr>\n",
       "    <tr>\n",
       "      <th>Preschool</th>\n",
       "      <td>24</td>\n",
       "      <td>59</td>\n",
       "    </tr>\n",
       "    <tr>\n",
       "      <th>Prof-school</th>\n",
       "      <td>132</td>\n",
       "      <td>702</td>\n",
       "    </tr>\n",
       "    <tr>\n",
       "      <th>Some-college</th>\n",
       "      <td>4178</td>\n",
       "      <td>6700</td>\n",
       "    </tr>\n",
       "  </tbody>\n",
       "</table>\n",
       "</div>"
      ],
      "text/plain": [
       "Gender        Female   Male\n",
       "Education                  \n",
       "10th             457    932\n",
       "11th             650   1162\n",
       "12th             211    446\n",
       "1st-4th           61    186\n",
       "5th-6th          127    382\n",
       "7th-8th          239    716\n",
       "9th              220    536\n",
       "Assoc-acdm       627    974\n",
       "Assoc-voc        734   1327\n",
       "Bachelors       2477   5548\n",
       "Doctorate        113    481\n",
       "HS-grad         5097  10687\n",
       "Masters          845   1812\n",
       "Preschool         24     59\n",
       "Prof-school      132    702\n",
       "Some-college    4178   6700"
      ]
     },
     "execution_count": 102,
     "metadata": {},
     "output_type": "execute_result"
    }
   ],
   "source": [
    "dfp=pd.crosstab(df['Education'],df['Gender'])\n",
    "dfp"
   ]
  },
  {
   "cell_type": "code",
   "execution_count": 42,
   "metadata": {},
   "outputs": [
    {
     "data": {
      "text/plain": [
       "<matplotlib.legend.Legend at 0x242bbb6bfd0>"
      ]
     },
     "execution_count": 42,
     "metadata": {},
     "output_type": "execute_result"
    },
    {
     "data": {
      "image/png": "[encoded data removed]",
      "text/plain": [
       "<Figure size 1440x288 with 1 Axes>"
      ]
     },
     "metadata": {
      "needs_background": "light"
     },
     "output_type": "display_data"
    }
   ],
   "source": [
    "plt.figure(figsize=(20,4))\n",
    "plt.plot(dfp['Female'],label='Female')\n",
    "plt.plot(dfp['Male'],label='Male')\n",
    "plt.legend(loc='best')"
   ]
  },
  {
   "cell_type": "markdown",
   "metadata": {},
   "source": [
    "### Q22. Find median and outliers of Age w.r.t Educational_Num"
   ]
  },
  {
   "cell_type": "code",
   "execution_count": 33,
   "metadata": {},
   "outputs": [
    {
     "data": {
      "text/plain": [
       "<matplotlib.axes._subplots.AxesSubplot at 0x242be3de280>"
      ]
     },
     "execution_count": 33,
     "metadata": {},
     "output_type": "execute_result"
    },
    {
     "data": {
      "image/png": "[encoded data removed]",
      "text/plain": [
       "<Figure size 1296x432 with 1 Axes>"
      ]
     },
     "metadata": {
      "needs_background": "light"
     },
     "output_type": "display_data"
    }
   ],
   "source": [
    "fig_dims=(18,6)\n",
    "fig,ax=plt.subplots(figsize=fig_dims)\n",
    "sns.boxplot(x='Educational_Num',y='Age',hue='Gender',data=df,ax=ax)"
   ]
  },
  {
   "cell_type": "markdown",
   "metadata": {},
   "source": [
    "### Q23. Find median and outliers of Age w.r.t Marital_Status of two different Gender."
   ]
  },
  {
   "cell_type": "code",
   "execution_count": 36,
   "metadata": {},
   "outputs": [
    {
     "data": {
      "text/plain": [
       "<matplotlib.legend.Legend at 0x242bbb45eb0>"
      ]
     },
     "execution_count": 36,
     "metadata": {},
     "output_type": "execute_result"
    },
    {
     "data": {
      "image/png": "[encoded data removed]",
      "text/plain": [
       "<Figure size 1296x432 with 1 Axes>"
      ]
     },
     "metadata": {
      "needs_background": "light"
     },
     "output_type": "display_data"
    }
   ],
   "source": [
    "fig_dims=(18,6)\n",
    "fig,ax=plt.subplots(figsize=fig_dims)\n",
    "sns.boxplot(x='Gender',y='Age',hue='Marital_Status',data=df,ax=ax)\n",
    "plt.legend(loc='upper left')"
   ]
  },
  {
   "cell_type": "markdown",
   "metadata": {},
   "source": [
    "### Q24. Find median and outliers of Age w.r.t Marital_Status of two different Income groups."
   ]
  },
  {
   "cell_type": "code",
   "execution_count": 43,
   "metadata": {},
   "outputs": [
    {
     "data": {
      "text/plain": [
       "<matplotlib.legend.Legend at 0x242bcf11e20>"
      ]
     },
     "execution_count": 43,
     "metadata": {},
     "output_type": "execute_result"
    },
    {
     "data": {
      "image/png": "[encoded data removed]",
      "text/plain": [
       "<Figure size 1296x432 with 1 Axes>"
      ]
     },
     "metadata": {
      "needs_background": "light"
     },
     "output_type": "display_data"
    }
   ],
   "source": [
    "fig_dims=(18,6)\n",
    "fig,ax=plt.subplots(figsize=fig_dims)\n",
    "sns.boxplot(x='Income',y='Age',hue='Marital_Status',data=df,ax=ax)\n",
    "plt.legend(loc='upper right')"
   ]
  },
  {
   "cell_type": "markdown",
   "metadata": {},
   "source": [
    "### Q25. Combination age w.r.t marital_status seperated by gender and income."
   ]
  },
  {
   "cell_type": "code",
   "execution_count": 45,
   "metadata": {},
   "outputs": [
    {
     "data": {
      "text/plain": [
       "<seaborn.axisgrid.FacetGrid at 0x242bc2d8100>"
      ]
     },
     "execution_count": 45,
     "metadata": {},
     "output_type": "execute_result"
    },
    {
     "data": {
      "image/png": "[encoded data removed]",
      "text/plain": [
       "<Figure size 870.75x360 with 2 Axes>"
      ]
     },
     "metadata": {
      "needs_background": "light"
     },
     "output_type": "display_data"
    }
   ],
   "source": [
    "sns.catplot(x='Gender',y='Age',hue='Marital_Status',col='Income',kind='box',data=df)"
   ]
  },
  {
   "cell_type": "markdown",
   "metadata": {},
   "source": [
    "### Q26. Find which gender puts more effort w.r.t each Workclass "
   ]
  },
  {
   "cell_type": "code",
   "execution_count": 47,
   "metadata": {},
   "outputs": [
    {
     "data": {
      "image/png": "[encoded data removed]",
      "text/plain": [
       "<Figure size 1080x360 with 1 Axes>"
      ]
     },
     "metadata": {
      "needs_background": "light"
     },
     "output_type": "display_data"
    }
   ],
   "source": [
    "plt.figure(figsize=(15,5))\n",
    "sns.barplot('Workclass','HoursPerWeek',hue='Gender',data=df)\n",
    "plt.xticks(rotation=90);"
   ]
  },
  {
   "cell_type": "markdown",
   "metadata": {},
   "source": [
    "##### Men work more number of hours than women."
   ]
  },
  {
   "cell_type": "markdown",
   "metadata": {},
   "source": [
    "### Q27. Plot bargraph of number of perple working in each Workclass."
   ]
  },
  {
   "cell_type": "code",
   "execution_count": 104,
   "metadata": {},
   "outputs": [
    {
     "data": {
      "image/png": "[encoded data removed]",
      "text/plain": [
       "<Figure size 1800x576 with 1 Axes>"
      ]
     },
     "metadata": {
      "needs_background": "light"
     },
     "output_type": "display_data"
    }
   ],
   "source": [
    "plt.figure(figsize=(25,8))\n",
    "sns.barplot(df.Age.unique(),df.groupby(\"Age\")['HoursPerWeek'].count())\n",
    "plt.xlabel('Age')\n",
    "plt.ylabel('No of Person')\n",
    "plt.xticks(rotation=90);"
   ]
  },
  {
   "cell_type": "markdown",
   "metadata": {},
   "source": [
    "### Inference: Mostly young people and middle age people are more in number"
   ]
  },
  {
   "cell_type": "markdown",
   "metadata": {},
   "source": [
    "### Q28. Plot a graph denoting the relationship between Educational_Num and Marital_Status"
   ]
  },
  {
   "cell_type": "code",
   "execution_count": 53,
   "metadata": {},
   "outputs": [
    {
     "data": {
      "text/plain": [
       "Text(0.5, 0, 'Marital_Status')"
      ]
     },
     "execution_count": 53,
     "metadata": {},
     "output_type": "execute_result"
    },
    {
     "data": {
      "image/png": "[encoded data removed]",
      "text/plain": [
       "<Figure size 1296x432 with 1 Axes>"
      ]
     },
     "metadata": {
      "needs_background": "light"
     },
     "output_type": "display_data"
    }
   ],
   "source": [
    "plt.figure(figsize=(18,6))\n",
    "plt.plot(df['Marital_Status'].unique(),df.groupby('Marital_Status')['Educational_Num'].mean())\n",
    "sns.barplot(df['Marital_Status'].unique(),df.groupby('Marital_Status')['Educational_Num'].mean());\n",
    "plt.xlabel('Marital_Status')"
   ]
  },
  {
   "cell_type": "markdown",
   "metadata": {},
   "source": [
    "### Inference: Roughly we can say considering age also that more married peole has highest level of education and never married are still young population. But this graph shows us that there is no correlation between educational level and marital-status"
   ]
  },
  {
   "cell_type": "markdown",
   "metadata": {},
   "source": [
    "### Q29. Show graphically the realtion between educational number and no of hours of working"
   ]
  },
  {
   "cell_type": "code",
   "execution_count": 207,
   "metadata": {},
   "outputs": [
    {
     "data": {
      "image/png": "[encoded data removed]",
      "text/plain": [
       "<Figure size 1296x432 with 1 Axes>"
      ]
     },
     "metadata": {
      "needs_background": "light"
     },
     "output_type": "display_data"
    }
   ],
   "source": [
    "plt.figure(figsize=(18,6))\n",
    "plt.xlabel('Education Number')\n",
    "plt.ylabel(\"Hour's per week of working\")\n",
    "plt.plot(df['Educational_Num'].unique(),df.groupby('Educational_Num')['HoursPerWeek'].mean(),'or')\n",
    "plt.bar(df['Educational_Num'].unique(),df.groupby('Educational_Num')['HoursPerWeek'].mean(),color=['orange','yellow','brown','white','violet','pink','black', 'red', 'green', 'blue', 'cyan','purple','orange','yellow','brown','white']);"
   ]
  },
  {
   "cell_type": "markdown",
   "metadata": {},
   "source": [
    "### Inference: This plot shows as education level increases working hours will decrease as lowest level of education demands more manual work"
   ]
  },
  {
   "cell_type": "markdown",
   "metadata": {},
   "source": [
    "### Q30.Plot the graph to compare the income status of each relationship"
   ]
  },
  {
   "cell_type": "code",
   "execution_count": 209,
   "metadata": {},
   "outputs": [
    {
     "data": {
      "image/png": "[encoded data removed]",
      "text/plain": [
       "<Figure size 432x288 with 1 Axes>"
      ]
     },
     "metadata": {
      "needs_background": "light"
     },
     "output_type": "display_data"
    }
   ],
   "source": [
    "plt.figure()\n",
    "sns.countplot(x='Relationship',data=df,hue='Income')\n",
    "plt.tight_layout()"
   ]
  },
  {
   "cell_type": "markdown",
   "metadata": {},
   "source": [
    "### Inference: Here wives number is less but their number is high in >50K than <50K which is exceptional. The possible reason for their low number is that after marriage mostly wives are responsible for household works. Other than husband and wives, other relationships has huge difference in income category"
   ]
  },
  {
   "cell_type": "markdown",
   "metadata": {},
   "source": [
    "# Level_3: Questions with Objectives"
   ]
  },
  {
   "cell_type": "markdown",
   "metadata": {},
   "source": [
    "###  Q31. To understand the dependency of target(income) on Education level"
   ]
  },
  {
   "cell_type": "code",
   "execution_count": 189,
   "metadata": {},
   "outputs": [
    {
     "data": {
      "text/html": [
       "<div>\n",
       "<style scoped>\n",
       "    .dataframe tbody tr th:only-of-type {\n",
       "        vertical-align: middle;\n",
       "    }\n",
       "\n",
       "    .dataframe tbody tr th {\n",
       "        vertical-align: top;\n",
       "    }\n",
       "\n",
       "    .dataframe thead th {\n",
       "        text-align: right;\n",
       "    }\n",
       "</style>\n",
       "<table border=\"1\" class=\"dataframe\">\n",
       "  <thead>\n",
       "    <tr style=\"text-align: right;\">\n",
       "      <th>Income</th>\n",
       "      <th>&lt;=50K</th>\n",
       "      <th>&gt;50K</th>\n",
       "      <th>All</th>\n",
       "      <th>%&lt;=50K</th>\n",
       "      <th>%&gt;50K</th>\n",
       "    </tr>\n",
       "    <tr>\n",
       "      <th>Education</th>\n",
       "      <th></th>\n",
       "      <th></th>\n",
       "      <th></th>\n",
       "      <th></th>\n",
       "      <th></th>\n",
       "    </tr>\n",
       "  </thead>\n",
       "  <tbody>\n",
       "    <tr>\n",
       "      <th>10th</th>\n",
       "      <td>1302</td>\n",
       "      <td>87</td>\n",
       "      <td>1389</td>\n",
       "      <td>93.736501</td>\n",
       "      <td>6.263499</td>\n",
       "    </tr>\n",
       "    <tr>\n",
       "      <th>11th</th>\n",
       "      <td>1720</td>\n",
       "      <td>92</td>\n",
       "      <td>1812</td>\n",
       "      <td>94.922737</td>\n",
       "      <td>5.077263</td>\n",
       "    </tr>\n",
       "    <tr>\n",
       "      <th>12th</th>\n",
       "      <td>609</td>\n",
       "      <td>48</td>\n",
       "      <td>657</td>\n",
       "      <td>92.694064</td>\n",
       "      <td>7.305936</td>\n",
       "    </tr>\n",
       "    <tr>\n",
       "      <th>1st-4th</th>\n",
       "      <td>239</td>\n",
       "      <td>8</td>\n",
       "      <td>247</td>\n",
       "      <td>96.761134</td>\n",
       "      <td>3.238866</td>\n",
       "    </tr>\n",
       "    <tr>\n",
       "      <th>5th-6th</th>\n",
       "      <td>482</td>\n",
       "      <td>27</td>\n",
       "      <td>509</td>\n",
       "      <td>94.695481</td>\n",
       "      <td>5.304519</td>\n",
       "    </tr>\n",
       "    <tr>\n",
       "      <th>7th-8th</th>\n",
       "      <td>893</td>\n",
       "      <td>62</td>\n",
       "      <td>955</td>\n",
       "      <td>93.507853</td>\n",
       "      <td>6.492147</td>\n",
       "    </tr>\n",
       "    <tr>\n",
       "      <th>9th</th>\n",
       "      <td>715</td>\n",
       "      <td>41</td>\n",
       "      <td>756</td>\n",
       "      <td>94.576720</td>\n",
       "      <td>5.423280</td>\n",
       "    </tr>\n",
       "    <tr>\n",
       "      <th>Assoc-acdm</th>\n",
       "      <td>1188</td>\n",
       "      <td>413</td>\n",
       "      <td>1601</td>\n",
       "      <td>74.203623</td>\n",
       "      <td>25.796377</td>\n",
       "    </tr>\n",
       "    <tr>\n",
       "      <th>Assoc-voc</th>\n",
       "      <td>1539</td>\n",
       "      <td>522</td>\n",
       "      <td>2061</td>\n",
       "      <td>74.672489</td>\n",
       "      <td>25.327511</td>\n",
       "    </tr>\n",
       "    <tr>\n",
       "      <th>Bachelors</th>\n",
       "      <td>4712</td>\n",
       "      <td>3313</td>\n",
       "      <td>8025</td>\n",
       "      <td>58.716511</td>\n",
       "      <td>41.283489</td>\n",
       "    </tr>\n",
       "    <tr>\n",
       "      <th>Doctorate</th>\n",
       "      <td>163</td>\n",
       "      <td>431</td>\n",
       "      <td>594</td>\n",
       "      <td>27.441077</td>\n",
       "      <td>72.558923</td>\n",
       "    </tr>\n",
       "    <tr>\n",
       "      <th>HS-grad</th>\n",
       "      <td>13281</td>\n",
       "      <td>2503</td>\n",
       "      <td>15784</td>\n",
       "      <td>84.142169</td>\n",
       "      <td>15.857831</td>\n",
       "    </tr>\n",
       "    <tr>\n",
       "      <th>Masters</th>\n",
       "      <td>1198</td>\n",
       "      <td>1459</td>\n",
       "      <td>2657</td>\n",
       "      <td>45.088446</td>\n",
       "      <td>54.911554</td>\n",
       "    </tr>\n",
       "    <tr>\n",
       "      <th>Preschool</th>\n",
       "      <td>82</td>\n",
       "      <td>1</td>\n",
       "      <td>83</td>\n",
       "      <td>98.795181</td>\n",
       "      <td>1.204819</td>\n",
       "    </tr>\n",
       "    <tr>\n",
       "      <th>Prof-school</th>\n",
       "      <td>217</td>\n",
       "      <td>617</td>\n",
       "      <td>834</td>\n",
       "      <td>26.019185</td>\n",
       "      <td>73.980815</td>\n",
       "    </tr>\n",
       "    <tr>\n",
       "      <th>Some-college</th>\n",
       "      <td>8815</td>\n",
       "      <td>2063</td>\n",
       "      <td>10878</td>\n",
       "      <td>81.035117</td>\n",
       "      <td>18.964883</td>\n",
       "    </tr>\n",
       "    <tr>\n",
       "      <th>All</th>\n",
       "      <td>37155</td>\n",
       "      <td>11687</td>\n",
       "      <td>48842</td>\n",
       "      <td>76.071823</td>\n",
       "      <td>23.928177</td>\n",
       "    </tr>\n",
       "  </tbody>\n",
       "</table>\n",
       "</div>"
      ],
      "text/plain": [
       "Income        <=50K   >50K    All     %<=50K      %>50K\n",
       "Education                                              \n",
       "10th           1302     87   1389  93.736501   6.263499\n",
       "11th           1720     92   1812  94.922737   5.077263\n",
       "12th            609     48    657  92.694064   7.305936\n",
       "1st-4th         239      8    247  96.761134   3.238866\n",
       "5th-6th         482     27    509  94.695481   5.304519\n",
       "7th-8th         893     62    955  93.507853   6.492147\n",
       "9th             715     41    756  94.576720   5.423280\n",
       "Assoc-acdm     1188    413   1601  74.203623  25.796377\n",
       "Assoc-voc      1539    522   2061  74.672489  25.327511\n",
       "Bachelors      4712   3313   8025  58.716511  41.283489\n",
       "Doctorate       163    431    594  27.441077  72.558923\n",
       "HS-grad       13281   2503  15784  84.142169  15.857831\n",
       "Masters        1198   1459   2657  45.088446  54.911554\n",
       "Preschool        82      1     83  98.795181   1.204819\n",
       "Prof-school     217    617    834  26.019185  73.980815\n",
       "Some-college   8815   2063  10878  81.035117  18.964883\n",
       "All           37155  11687  48842  76.071823  23.928177"
      ]
     },
     "execution_count": 189,
     "metadata": {},
     "output_type": "execute_result"
    }
   ],
   "source": [
    "temp=pd.crosstab(df['Education'],df['Income'],margins=True)\n",
    "temp['%<=50K']=(temp['<=50K']/temp['All'])*100\n",
    "temp['%>50K']=(temp['>50K']/temp['All'])*100\n",
    "temp"
   ]
  },
  {
   "cell_type": "markdown",
   "metadata": {},
   "source": [
    "####  checking which values can be compared based on their percentage "
   ]
  },
  {
   "cell_type": "markdown",
   "metadata": {},
   "source": [
    "##### We can infer that as education level of an individual increases his earning capacity also increases thus 72% of population who holds doctorate degree earn more than 50K per annum and only 4-7% of those who have completed their education till school can earn more than 50K per annum"
   ]
  },
  {
   "cell_type": "markdown",
   "metadata": {},
   "source": [
    "### Q32. Compute the salary of employes who are working more than 40 hours/week.\n",
    "#### The aim of this question is to know whether the employes who are working more than 40 hours/week make more money or not."
   ]
  },
  {
   "cell_type": "code",
   "execution_count": 198,
   "metadata": {},
   "outputs": [
    {
     "data": {
      "text/html": [
       "<div>\n",
       "<style scoped>\n",
       "    .dataframe tbody tr th:only-of-type {\n",
       "        vertical-align: middle;\n",
       "    }\n",
       "\n",
       "    .dataframe tbody tr th {\n",
       "        vertical-align: top;\n",
       "    }\n",
       "\n",
       "    .dataframe thead th {\n",
       "        text-align: right;\n",
       "    }\n",
       "</style>\n",
       "<table border=\"1\" class=\"dataframe\">\n",
       "  <thead>\n",
       "    <tr style=\"text-align: right;\">\n",
       "      <th></th>\n",
       "      <th>Age</th>\n",
       "      <th>Workclass</th>\n",
       "      <th>Education</th>\n",
       "      <th>Educational_Num</th>\n",
       "      <th>Marital_Status</th>\n",
       "      <th>Status_Number</th>\n",
       "      <th>Occupation</th>\n",
       "      <th>Relationship</th>\n",
       "      <th>Race</th>\n",
       "      <th>Gender</th>\n",
       "      <th>Capital_Gain</th>\n",
       "      <th>Capital_Loss</th>\n",
       "      <th>HoursPerWeek</th>\n",
       "      <th>Native_Country</th>\n",
       "      <th>Income</th>\n",
       "    </tr>\n",
       "  </thead>\n",
       "  <tbody>\n",
       "    <tr>\n",
       "      <th>1</th>\n",
       "      <td>38</td>\n",
       "      <td>Private</td>\n",
       "      <td>HS-grad</td>\n",
       "      <td>9</td>\n",
       "      <td>Married-civ-spouse</td>\n",
       "      <td>1</td>\n",
       "      <td>Farming-fishing</td>\n",
       "      <td>Husband</td>\n",
       "      <td>White</td>\n",
       "      <td>Male</td>\n",
       "      <td>0</td>\n",
       "      <td>0</td>\n",
       "      <td>50</td>\n",
       "      <td>United-States</td>\n",
       "      <td>&lt;=50K</td>\n",
       "    </tr>\n",
       "    <tr>\n",
       "      <th>14</th>\n",
       "      <td>48</td>\n",
       "      <td>Private</td>\n",
       "      <td>HS-grad</td>\n",
       "      <td>9</td>\n",
       "      <td>Married-civ-spouse</td>\n",
       "      <td>1</td>\n",
       "      <td>Machine-op-inspct</td>\n",
       "      <td>Husband</td>\n",
       "      <td>White</td>\n",
       "      <td>Male</td>\n",
       "      <td>3103</td>\n",
       "      <td>0</td>\n",
       "      <td>48</td>\n",
       "      <td>United-States</td>\n",
       "      <td>&gt;50K</td>\n",
       "    </tr>\n",
       "    <tr>\n",
       "      <th>15</th>\n",
       "      <td>43</td>\n",
       "      <td>Private</td>\n",
       "      <td>Masters</td>\n",
       "      <td>14</td>\n",
       "      <td>Married-civ-spouse</td>\n",
       "      <td>1</td>\n",
       "      <td>Exec-managerial</td>\n",
       "      <td>Husband</td>\n",
       "      <td>White</td>\n",
       "      <td>Male</td>\n",
       "      <td>0</td>\n",
       "      <td>0</td>\n",
       "      <td>50</td>\n",
       "      <td>United-States</td>\n",
       "      <td>&gt;50K</td>\n",
       "    </tr>\n",
       "    <tr>\n",
       "      <th>19</th>\n",
       "      <td>40</td>\n",
       "      <td>Private</td>\n",
       "      <td>Doctorate</td>\n",
       "      <td>16</td>\n",
       "      <td>Married-civ-spouse</td>\n",
       "      <td>1</td>\n",
       "      <td>Prof-specialty</td>\n",
       "      <td>Husband</td>\n",
       "      <td>Asian-Pac-Islander</td>\n",
       "      <td>Male</td>\n",
       "      <td>0</td>\n",
       "      <td>0</td>\n",
       "      <td>45</td>\n",
       "      <td>NaN</td>\n",
       "      <td>&gt;50K</td>\n",
       "    </tr>\n",
       "    <tr>\n",
       "      <th>20</th>\n",
       "      <td>34</td>\n",
       "      <td>Private</td>\n",
       "      <td>Bachelors</td>\n",
       "      <td>13</td>\n",
       "      <td>Married-civ-spouse</td>\n",
       "      <td>1</td>\n",
       "      <td>Tech-support</td>\n",
       "      <td>Husband</td>\n",
       "      <td>White</td>\n",
       "      <td>Male</td>\n",
       "      <td>0</td>\n",
       "      <td>0</td>\n",
       "      <td>47</td>\n",
       "      <td>United-States</td>\n",
       "      <td>&gt;50K</td>\n",
       "    </tr>\n",
       "    <tr>\n",
       "      <th>...</th>\n",
       "      <td>...</td>\n",
       "      <td>...</td>\n",
       "      <td>...</td>\n",
       "      <td>...</td>\n",
       "      <td>...</td>\n",
       "      <td>...</td>\n",
       "      <td>...</td>\n",
       "      <td>...</td>\n",
       "      <td>...</td>\n",
       "      <td>...</td>\n",
       "      <td>...</td>\n",
       "      <td>...</td>\n",
       "      <td>...</td>\n",
       "      <td>...</td>\n",
       "      <td>...</td>\n",
       "    </tr>\n",
       "    <tr>\n",
       "      <th>48819</th>\n",
       "      <td>38</td>\n",
       "      <td>Private</td>\n",
       "      <td>Bachelors</td>\n",
       "      <td>13</td>\n",
       "      <td>Divorced</td>\n",
       "      <td>3</td>\n",
       "      <td>Prof-specialty</td>\n",
       "      <td>Unmarried</td>\n",
       "      <td>Black</td>\n",
       "      <td>Female</td>\n",
       "      <td>15020</td>\n",
       "      <td>0</td>\n",
       "      <td>45</td>\n",
       "      <td>United-States</td>\n",
       "      <td>&gt;50K</td>\n",
       "    </tr>\n",
       "    <tr>\n",
       "      <th>48824</th>\n",
       "      <td>45</td>\n",
       "      <td>Local-gov</td>\n",
       "      <td>Assoc-acdm</td>\n",
       "      <td>12</td>\n",
       "      <td>Divorced</td>\n",
       "      <td>3</td>\n",
       "      <td>Prof-specialty</td>\n",
       "      <td>Unmarried</td>\n",
       "      <td>White</td>\n",
       "      <td>Female</td>\n",
       "      <td>0</td>\n",
       "      <td>0</td>\n",
       "      <td>48</td>\n",
       "      <td>United-States</td>\n",
       "      <td>&lt;=50K</td>\n",
       "    </tr>\n",
       "    <tr>\n",
       "      <th>48829</th>\n",
       "      <td>65</td>\n",
       "      <td>Self-emp-not-inc</td>\n",
       "      <td>Prof-school</td>\n",
       "      <td>15</td>\n",
       "      <td>Never-married</td>\n",
       "      <td>0</td>\n",
       "      <td>Prof-specialty</td>\n",
       "      <td>Not-in-family</td>\n",
       "      <td>White</td>\n",
       "      <td>Male</td>\n",
       "      <td>1086</td>\n",
       "      <td>0</td>\n",
       "      <td>60</td>\n",
       "      <td>United-States</td>\n",
       "      <td>&lt;=50K</td>\n",
       "    </tr>\n",
       "    <tr>\n",
       "      <th>48831</th>\n",
       "      <td>43</td>\n",
       "      <td>Self-emp-not-inc</td>\n",
       "      <td>Some-college</td>\n",
       "      <td>10</td>\n",
       "      <td>Married-civ-spouse</td>\n",
       "      <td>1</td>\n",
       "      <td>Craft-repair</td>\n",
       "      <td>Husband</td>\n",
       "      <td>White</td>\n",
       "      <td>Male</td>\n",
       "      <td>0</td>\n",
       "      <td>0</td>\n",
       "      <td>50</td>\n",
       "      <td>United-States</td>\n",
       "      <td>&lt;=50K</td>\n",
       "    </tr>\n",
       "    <tr>\n",
       "      <th>48833</th>\n",
       "      <td>43</td>\n",
       "      <td>Private</td>\n",
       "      <td>Assoc-voc</td>\n",
       "      <td>11</td>\n",
       "      <td>Married-civ-spouse</td>\n",
       "      <td>1</td>\n",
       "      <td>Sales</td>\n",
       "      <td>Husband</td>\n",
       "      <td>White</td>\n",
       "      <td>Male</td>\n",
       "      <td>0</td>\n",
       "      <td>0</td>\n",
       "      <td>45</td>\n",
       "      <td>United-States</td>\n",
       "      <td>&lt;=50K</td>\n",
       "    </tr>\n",
       "  </tbody>\n",
       "</table>\n",
       "<p>14352 rows × 15 columns</p>\n",
       "</div>"
      ],
      "text/plain": [
       "       Age         Workclass     Education  Educational_Num  \\\n",
       "1       38           Private       HS-grad                9   \n",
       "14      48           Private       HS-grad                9   \n",
       "15      43           Private       Masters               14   \n",
       "19      40           Private     Doctorate               16   \n",
       "20      34           Private     Bachelors               13   \n",
       "...    ...               ...           ...              ...   \n",
       "48819   38           Private     Bachelors               13   \n",
       "48824   45         Local-gov    Assoc-acdm               12   \n",
       "48829   65  Self-emp-not-inc   Prof-school               15   \n",
       "48831   43  Self-emp-not-inc  Some-college               10   \n",
       "48833   43           Private     Assoc-voc               11   \n",
       "\n",
       "           Marital_Status  Status_Number         Occupation   Relationship  \\\n",
       "1      Married-civ-spouse              1    Farming-fishing        Husband   \n",
       "14     Married-civ-spouse              1  Machine-op-inspct        Husband   \n",
       "15     Married-civ-spouse              1    Exec-managerial        Husband   \n",
       "19     Married-civ-spouse              1     Prof-specialty        Husband   \n",
       "20     Married-civ-spouse              1       Tech-support        Husband   \n",
       "...                   ...            ...                ...            ...   \n",
       "48819            Divorced              3     Prof-specialty      Unmarried   \n",
       "48824            Divorced              3     Prof-specialty      Unmarried   \n",
       "48829       Never-married              0     Prof-specialty  Not-in-family   \n",
       "48831  Married-civ-spouse              1       Craft-repair        Husband   \n",
       "48833  Married-civ-spouse              1              Sales        Husband   \n",
       "\n",
       "                     Race  Gender  Capital_Gain  Capital_Loss  HoursPerWeek  \\\n",
       "1                   White    Male             0             0            50   \n",
       "14                  White    Male          3103             0            48   \n",
       "15                  White    Male             0             0            50   \n",
       "19     Asian-Pac-Islander    Male             0             0            45   \n",
       "20                  White    Male             0             0            47   \n",
       "...                   ...     ...           ...           ...           ...   \n",
       "48819               Black  Female         15020             0            45   \n",
       "48824               White  Female             0             0            48   \n",
       "48829               White    Male          1086             0            60   \n",
       "48831               White    Male             0             0            50   \n",
       "48833               White    Male             0             0            45   \n",
       "\n",
       "      Native_Country Income  \n",
       "1      United-States  <=50K  \n",
       "14     United-States   >50K  \n",
       "15     United-States   >50K  \n",
       "19               NaN   >50K  \n",
       "20     United-States   >50K  \n",
       "...              ...    ...  \n",
       "48819  United-States   >50K  \n",
       "48824  United-States  <=50K  \n",
       "48829  United-States  <=50K  \n",
       "48831  United-States  <=50K  \n",
       "48833  United-States  <=50K  \n",
       "\n",
       "[14352 rows x 15 columns]"
      ]
     },
     "execution_count": 198,
     "metadata": {},
     "output_type": "execute_result"
    }
   ],
   "source": [
    "more_work = df.query(\"HoursPerWeek>40\")   # DataFrame of employes earning more than 40 hours/week \n",
    "more_work"
   ]
  },
  {
   "cell_type": "code",
   "execution_count": 199,
   "metadata": {},
   "outputs": [],
   "source": [
    "salary = pd.pivot_table(more_work, index=[ more_work.Workclass, more_work.Income ],\n",
    "    aggfunc = { 'HoursPerWeek' : ['min','mean','max','count' ]} )"
   ]
  },
  {
   "cell_type": "code",
   "execution_count": 200,
   "metadata": {},
   "outputs": [
    {
     "data": {
      "text/html": [
       "<div>\n",
       "<style scoped>\n",
       "    .dataframe tbody tr th:only-of-type {\n",
       "        vertical-align: middle;\n",
       "    }\n",
       "\n",
       "    .dataframe tbody tr th {\n",
       "        vertical-align: top;\n",
       "    }\n",
       "\n",
       "    .dataframe thead tr th {\n",
       "        text-align: left;\n",
       "    }\n",
       "\n",
       "    .dataframe thead tr:last-of-type th {\n",
       "        text-align: right;\n",
       "    }\n",
       "</style>\n",
       "<table border=\"1\" class=\"dataframe\">\n",
       "  <thead>\n",
       "    <tr>\n",
       "      <th></th>\n",
       "      <th></th>\n",
       "      <th colspan=\"4\" halign=\"left\">HoursPerWeek</th>\n",
       "    </tr>\n",
       "    <tr>\n",
       "      <th></th>\n",
       "      <th></th>\n",
       "      <th>count</th>\n",
       "      <th>max</th>\n",
       "      <th>mean</th>\n",
       "      <th>min</th>\n",
       "    </tr>\n",
       "    <tr>\n",
       "      <th>Workclass</th>\n",
       "      <th>Income</th>\n",
       "      <th></th>\n",
       "      <th></th>\n",
       "      <th></th>\n",
       "      <th></th>\n",
       "    </tr>\n",
       "  </thead>\n",
       "  <tbody>\n",
       "    <tr>\n",
       "      <th rowspan=\"2\" valign=\"top\">Federal-gov</th>\n",
       "      <th>&lt;=50K</th>\n",
       "      <td>137.0</td>\n",
       "      <td>99.0</td>\n",
       "      <td>53.445255</td>\n",
       "      <td>41.0</td>\n",
       "    </tr>\n",
       "    <tr>\n",
       "      <th>&gt;50K</th>\n",
       "      <td>177.0</td>\n",
       "      <td>80.0</td>\n",
       "      <td>52.254237</td>\n",
       "      <td>41.0</td>\n",
       "    </tr>\n",
       "    <tr>\n",
       "      <th rowspan=\"2\" valign=\"top\">Local-gov</th>\n",
       "      <th>&lt;=50K</th>\n",
       "      <td>491.0</td>\n",
       "      <td>99.0</td>\n",
       "      <td>52.431772</td>\n",
       "      <td>41.0</td>\n",
       "    </tr>\n",
       "    <tr>\n",
       "      <th>&gt;50K</th>\n",
       "      <td>357.0</td>\n",
       "      <td>99.0</td>\n",
       "      <td>53.064426</td>\n",
       "      <td>41.0</td>\n",
       "    </tr>\n",
       "    <tr>\n",
       "      <th rowspan=\"2\" valign=\"top\">Private</th>\n",
       "      <th>&lt;=50K</th>\n",
       "      <td>5892.0</td>\n",
       "      <td>99.0</td>\n",
       "      <td>52.015954</td>\n",
       "      <td>41.0</td>\n",
       "    </tr>\n",
       "    <tr>\n",
       "      <th>&gt;50K</th>\n",
       "      <td>3655.0</td>\n",
       "      <td>99.0</td>\n",
       "      <td>52.471956</td>\n",
       "      <td>41.0</td>\n",
       "    </tr>\n",
       "    <tr>\n",
       "      <th rowspan=\"2\" valign=\"top\">Self-emp-inc</th>\n",
       "      <th>&lt;=50K</th>\n",
       "      <td>402.0</td>\n",
       "      <td>99.0</td>\n",
       "      <td>57.194030</td>\n",
       "      <td>41.0</td>\n",
       "    </tr>\n",
       "    <tr>\n",
       "      <th>&gt;50K</th>\n",
       "      <td>643.0</td>\n",
       "      <td>99.0</td>\n",
       "      <td>56.225505</td>\n",
       "      <td>41.0</td>\n",
       "    </tr>\n",
       "    <tr>\n",
       "      <th rowspan=\"2\" valign=\"top\">Self-emp-not-inc</th>\n",
       "      <th>&lt;=50K</th>\n",
       "      <td>1219.0</td>\n",
       "      <td>99.0</td>\n",
       "      <td>58.035275</td>\n",
       "      <td>42.0</td>\n",
       "    </tr>\n",
       "    <tr>\n",
       "      <th>&gt;50K</th>\n",
       "      <td>633.0</td>\n",
       "      <td>99.0</td>\n",
       "      <td>56.189573</td>\n",
       "      <td>42.0</td>\n",
       "    </tr>\n",
       "    <tr>\n",
       "      <th rowspan=\"2\" valign=\"top\">State-gov</th>\n",
       "      <th>&lt;=50K</th>\n",
       "      <td>207.0</td>\n",
       "      <td>99.0</td>\n",
       "      <td>54.367150</td>\n",
       "      <td>42.0</td>\n",
       "    </tr>\n",
       "    <tr>\n",
       "      <th>&gt;50K</th>\n",
       "      <td>206.0</td>\n",
       "      <td>99.0</td>\n",
       "      <td>53.087379</td>\n",
       "      <td>41.0</td>\n",
       "    </tr>\n",
       "    <tr>\n",
       "      <th rowspan=\"2\" valign=\"top\">Without-pay</th>\n",
       "      <th>&lt;=50K</th>\n",
       "      <td>5.0</td>\n",
       "      <td>65.0</td>\n",
       "      <td>53.000000</td>\n",
       "      <td>45.0</td>\n",
       "    </tr>\n",
       "    <tr>\n",
       "      <th>&gt;50K</th>\n",
       "      <td>1.0</td>\n",
       "      <td>60.0</td>\n",
       "      <td>60.000000</td>\n",
       "      <td>60.0</td>\n",
       "    </tr>\n",
       "  </tbody>\n",
       "</table>\n",
       "</div>"
      ],
      "text/plain": [
       "                        HoursPerWeek                       \n",
       "                               count   max       mean   min\n",
       "Workclass        Income                                    \n",
       "Federal-gov      <=50K         137.0  99.0  53.445255  41.0\n",
       "                 >50K          177.0  80.0  52.254237  41.0\n",
       "Local-gov        <=50K         491.0  99.0  52.431772  41.0\n",
       "                 >50K          357.0  99.0  53.064426  41.0\n",
       "Private          <=50K        5892.0  99.0  52.015954  41.0\n",
       "                 >50K         3655.0  99.0  52.471956  41.0\n",
       "Self-emp-inc     <=50K         402.0  99.0  57.194030  41.0\n",
       "                 >50K          643.0  99.0  56.225505  41.0\n",
       "Self-emp-not-inc <=50K        1219.0  99.0  58.035275  42.0\n",
       "                 >50K          633.0  99.0  56.189573  42.0\n",
       "State-gov        <=50K         207.0  99.0  54.367150  42.0\n",
       "                 >50K          206.0  99.0  53.087379  41.0\n",
       "Without-pay      <=50K           5.0  65.0  53.000000  45.0\n",
       "                 >50K            1.0  60.0  60.000000  60.0"
      ]
     },
     "execution_count": 200,
     "metadata": {},
     "output_type": "execute_result"
    }
   ],
   "source": [
    "salary"
   ]
  },
  {
   "cell_type": "code",
   "execution_count": 201,
   "metadata": {},
   "outputs": [
    {
     "data": {
      "text/html": [
       "<div>\n",
       "<style scoped>\n",
       "    .dataframe tbody tr th:only-of-type {\n",
       "        vertical-align: middle;\n",
       "    }\n",
       "\n",
       "    .dataframe tbody tr th {\n",
       "        vertical-align: top;\n",
       "    }\n",
       "\n",
       "    .dataframe thead th {\n",
       "        text-align: right;\n",
       "    }\n",
       "</style>\n",
       "<table border=\"1\" class=\"dataframe\">\n",
       "  <thead>\n",
       "    <tr style=\"text-align: right;\">\n",
       "      <th></th>\n",
       "      <th></th>\n",
       "      <th>Education</th>\n",
       "    </tr>\n",
       "    <tr>\n",
       "      <th>Education</th>\n",
       "      <th>Income</th>\n",
       "      <th></th>\n",
       "    </tr>\n",
       "  </thead>\n",
       "  <tbody>\n",
       "    <tr>\n",
       "      <th rowspan=\"2\" valign=\"top\">10th</th>\n",
       "      <th>&lt;=50K</th>\n",
       "      <td>207</td>\n",
       "    </tr>\n",
       "    <tr>\n",
       "      <th>&gt;50K</th>\n",
       "      <td>37</td>\n",
       "    </tr>\n",
       "    <tr>\n",
       "      <th rowspan=\"2\" valign=\"top\">11th</th>\n",
       "      <th>&lt;=50K</th>\n",
       "      <td>230</td>\n",
       "    </tr>\n",
       "    <tr>\n",
       "      <th>&gt;50K</th>\n",
       "      <td>37</td>\n",
       "    </tr>\n",
       "    <tr>\n",
       "      <th rowspan=\"2\" valign=\"top\">12th</th>\n",
       "      <th>&lt;=50K</th>\n",
       "      <td>85</td>\n",
       "    </tr>\n",
       "    <tr>\n",
       "      <th>&gt;50K</th>\n",
       "      <td>18</td>\n",
       "    </tr>\n",
       "    <tr>\n",
       "      <th rowspan=\"2\" valign=\"top\">1st-4th</th>\n",
       "      <th>&lt;=50K</th>\n",
       "      <td>43</td>\n",
       "    </tr>\n",
       "    <tr>\n",
       "      <th>&gt;50K</th>\n",
       "      <td>5</td>\n",
       "    </tr>\n",
       "    <tr>\n",
       "      <th rowspan=\"2\" valign=\"top\">5th-6th</th>\n",
       "      <th>&lt;=50K</th>\n",
       "      <td>77</td>\n",
       "    </tr>\n",
       "    <tr>\n",
       "      <th>&gt;50K</th>\n",
       "      <td>9</td>\n",
       "    </tr>\n",
       "    <tr>\n",
       "      <th rowspan=\"2\" valign=\"top\">7th-8th</th>\n",
       "      <th>&lt;=50K</th>\n",
       "      <td>187</td>\n",
       "    </tr>\n",
       "    <tr>\n",
       "      <th>&gt;50K</th>\n",
       "      <td>30</td>\n",
       "    </tr>\n",
       "    <tr>\n",
       "      <th rowspan=\"2\" valign=\"top\">9th</th>\n",
       "      <th>&lt;=50K</th>\n",
       "      <td>133</td>\n",
       "    </tr>\n",
       "    <tr>\n",
       "      <th>&gt;50K</th>\n",
       "      <td>21</td>\n",
       "    </tr>\n",
       "    <tr>\n",
       "      <th rowspan=\"2\" valign=\"top\">Assoc-acdm</th>\n",
       "      <th>&lt;=50K</th>\n",
       "      <td>321</td>\n",
       "    </tr>\n",
       "    <tr>\n",
       "      <th>&gt;50K</th>\n",
       "      <td>196</td>\n",
       "    </tr>\n",
       "    <tr>\n",
       "      <th rowspan=\"2\" valign=\"top\">Assoc-voc</th>\n",
       "      <th>&lt;=50K</th>\n",
       "      <td>386</td>\n",
       "    </tr>\n",
       "    <tr>\n",
       "      <th>&gt;50K</th>\n",
       "      <td>222</td>\n",
       "    </tr>\n",
       "    <tr>\n",
       "      <th rowspan=\"2\" valign=\"top\">Bachelors</th>\n",
       "      <th>&lt;=50K</th>\n",
       "      <td>1448</td>\n",
       "    </tr>\n",
       "    <tr>\n",
       "      <th>&gt;50K</th>\n",
       "      <td>1734</td>\n",
       "    </tr>\n",
       "    <tr>\n",
       "      <th rowspan=\"2\" valign=\"top\">Doctorate</th>\n",
       "      <th>&lt;=50K</th>\n",
       "      <td>69</td>\n",
       "    </tr>\n",
       "    <tr>\n",
       "      <th>&gt;50K</th>\n",
       "      <td>258</td>\n",
       "    </tr>\n",
       "    <tr>\n",
       "      <th rowspan=\"2\" valign=\"top\">HS-grad</th>\n",
       "      <th>&lt;=50K</th>\n",
       "      <td>3043</td>\n",
       "    </tr>\n",
       "    <tr>\n",
       "      <th>&gt;50K</th>\n",
       "      <td>1054</td>\n",
       "    </tr>\n",
       "    <tr>\n",
       "      <th rowspan=\"2\" valign=\"top\">Masters</th>\n",
       "      <th>&lt;=50K</th>\n",
       "      <td>412</td>\n",
       "    </tr>\n",
       "    <tr>\n",
       "      <th>&gt;50K</th>\n",
       "      <td>792</td>\n",
       "    </tr>\n",
       "    <tr>\n",
       "      <th>Preschool</th>\n",
       "      <th>&lt;=50K</th>\n",
       "      <td>9</td>\n",
       "    </tr>\n",
       "    <tr>\n",
       "      <th rowspan=\"2\" valign=\"top\">Prof-school</th>\n",
       "      <th>&lt;=50K</th>\n",
       "      <td>87</td>\n",
       "    </tr>\n",
       "    <tr>\n",
       "      <th>&gt;50K</th>\n",
       "      <td>408</td>\n",
       "    </tr>\n",
       "    <tr>\n",
       "      <th rowspan=\"2\" valign=\"top\">Some-college</th>\n",
       "      <th>&lt;=50K</th>\n",
       "      <td>1873</td>\n",
       "    </tr>\n",
       "    <tr>\n",
       "      <th>&gt;50K</th>\n",
       "      <td>921</td>\n",
       "    </tr>\n",
       "  </tbody>\n",
       "</table>\n",
       "</div>"
      ],
      "text/plain": [
       "                     Education\n",
       "Education    Income           \n",
       "10th         <=50K         207\n",
       "             >50K           37\n",
       "11th         <=50K         230\n",
       "             >50K           37\n",
       "12th         <=50K          85\n",
       "             >50K           18\n",
       "1st-4th      <=50K          43\n",
       "             >50K            5\n",
       "5th-6th      <=50K          77\n",
       "             >50K            9\n",
       "7th-8th      <=50K         187\n",
       "             >50K           30\n",
       "9th          <=50K         133\n",
       "             >50K           21\n",
       "Assoc-acdm   <=50K         321\n",
       "             >50K          196\n",
       "Assoc-voc    <=50K         386\n",
       "             >50K          222\n",
       "Bachelors    <=50K        1448\n",
       "             >50K         1734\n",
       "Doctorate    <=50K          69\n",
       "             >50K          258\n",
       "HS-grad      <=50K        3043\n",
       "             >50K         1054\n",
       "Masters      <=50K         412\n",
       "             >50K          792\n",
       "Preschool    <=50K           9\n",
       "Prof-school  <=50K          87\n",
       "             >50K          408\n",
       "Some-college <=50K        1873\n",
       "             >50K          921"
      ]
     },
     "execution_count": 201,
     "metadata": {},
     "output_type": "execute_result"
    }
   ],
   "source": [
    "salary1 = pd.pivot_table(more_work, index=[ more_work.Education, more_work.Income ],\n",
    "aggfunc = {'Education':'count'})\n",
    "salary1"
   ]
  },
  {
   "cell_type": "markdown",
   "metadata": {},
   "source": [
    "### As we can observe from the result that there are people who are working more and still earning less than 50k. So we cannot say that more working hours means more money."
   ]
  },
  {
   "cell_type": "markdown",
   "metadata": {},
   "source": [
    "### Q33. Find employees earning more than 50K and are not whites."
   ]
  },
  {
   "cell_type": "code",
   "execution_count": 78,
   "metadata": {},
   "outputs": [
    {
     "data": {
      "text/plain": [
       "11687"
      ]
     },
     "execution_count": 78,
     "metadata": {},
     "output_type": "execute_result"
    }
   ],
   "source": [
    "df.query(\"Income=='>50K'\").Income.count()"
   ]
  },
  {
   "cell_type": "code",
   "execution_count": 79,
   "metadata": {},
   "outputs": [
    {
     "data": {
      "text/html": [
       "<div>\n",
       "<style scoped>\n",
       "    .dataframe tbody tr th:only-of-type {\n",
       "        vertical-align: middle;\n",
       "    }\n",
       "\n",
       "    .dataframe tbody tr th {\n",
       "        vertical-align: top;\n",
       "    }\n",
       "\n",
       "    .dataframe thead th {\n",
       "        text-align: right;\n",
       "    }\n",
       "</style>\n",
       "<table border=\"1\" class=\"dataframe\">\n",
       "  <thead>\n",
       "    <tr style=\"text-align: right;\">\n",
       "      <th></th>\n",
       "      <th>Age</th>\n",
       "      <th>Workclass</th>\n",
       "      <th>Education</th>\n",
       "      <th>Educational_Num</th>\n",
       "      <th>Marital_Status</th>\n",
       "      <th>Status_Number</th>\n",
       "      <th>Occupation</th>\n",
       "      <th>Relationship</th>\n",
       "      <th>Race</th>\n",
       "      <th>Gender</th>\n",
       "      <th>Capital_Gain</th>\n",
       "      <th>Capital_Loss</th>\n",
       "      <th>HoursPerWeek</th>\n",
       "      <th>Native_Country</th>\n",
       "      <th>Income</th>\n",
       "    </tr>\n",
       "  </thead>\n",
       "  <tbody>\n",
       "    <tr>\n",
       "      <th>3</th>\n",
       "      <td>44</td>\n",
       "      <td>Private</td>\n",
       "      <td>Some-college</td>\n",
       "      <td>10</td>\n",
       "      <td>Married-civ-spouse</td>\n",
       "      <td>1</td>\n",
       "      <td>Machine-op-inspct</td>\n",
       "      <td>Husband</td>\n",
       "      <td>Black</td>\n",
       "      <td>Male</td>\n",
       "      <td>7688</td>\n",
       "      <td>0</td>\n",
       "      <td>40</td>\n",
       "      <td>United-States</td>\n",
       "      <td>&gt;50K</td>\n",
       "    </tr>\n",
       "    <tr>\n",
       "      <th>19</th>\n",
       "      <td>40</td>\n",
       "      <td>Private</td>\n",
       "      <td>Doctorate</td>\n",
       "      <td>16</td>\n",
       "      <td>Married-civ-spouse</td>\n",
       "      <td>1</td>\n",
       "      <td>Prof-specialty</td>\n",
       "      <td>Husband</td>\n",
       "      <td>Asian-Pac-Islander</td>\n",
       "      <td>Male</td>\n",
       "      <td>0</td>\n",
       "      <td>0</td>\n",
       "      <td>45</td>\n",
       "      <td>NaN</td>\n",
       "      <td>&gt;50K</td>\n",
       "    </tr>\n",
       "    <tr>\n",
       "      <th>30</th>\n",
       "      <td>46</td>\n",
       "      <td>State-gov</td>\n",
       "      <td>Some-college</td>\n",
       "      <td>10</td>\n",
       "      <td>Married-civ-spouse</td>\n",
       "      <td>1</td>\n",
       "      <td>Exec-managerial</td>\n",
       "      <td>Husband</td>\n",
       "      <td>Black</td>\n",
       "      <td>Male</td>\n",
       "      <td>7688</td>\n",
       "      <td>0</td>\n",
       "      <td>38</td>\n",
       "      <td>United-States</td>\n",
       "      <td>&gt;50K</td>\n",
       "    </tr>\n",
       "    <tr>\n",
       "      <th>319</th>\n",
       "      <td>68</td>\n",
       "      <td>Private</td>\n",
       "      <td>HS-grad</td>\n",
       "      <td>9</td>\n",
       "      <td>Married-civ-spouse</td>\n",
       "      <td>1</td>\n",
       "      <td>Machine-op-inspct</td>\n",
       "      <td>Husband</td>\n",
       "      <td>Black</td>\n",
       "      <td>Male</td>\n",
       "      <td>0</td>\n",
       "      <td>0</td>\n",
       "      <td>40</td>\n",
       "      <td>United-States</td>\n",
       "      <td>&gt;50K</td>\n",
       "    </tr>\n",
       "    <tr>\n",
       "      <th>346</th>\n",
       "      <td>39</td>\n",
       "      <td>Private</td>\n",
       "      <td>HS-grad</td>\n",
       "      <td>9</td>\n",
       "      <td>Divorced</td>\n",
       "      <td>3</td>\n",
       "      <td>Exec-managerial</td>\n",
       "      <td>Unmarried</td>\n",
       "      <td>Black</td>\n",
       "      <td>Female</td>\n",
       "      <td>99999</td>\n",
       "      <td>0</td>\n",
       "      <td>40</td>\n",
       "      <td>United-States</td>\n",
       "      <td>&gt;50K</td>\n",
       "    </tr>\n",
       "    <tr>\n",
       "      <th>...</th>\n",
       "      <td>...</td>\n",
       "      <td>...</td>\n",
       "      <td>...</td>\n",
       "      <td>...</td>\n",
       "      <td>...</td>\n",
       "      <td>...</td>\n",
       "      <td>...</td>\n",
       "      <td>...</td>\n",
       "      <td>...</td>\n",
       "      <td>...</td>\n",
       "      <td>...</td>\n",
       "      <td>...</td>\n",
       "      <td>...</td>\n",
       "      <td>...</td>\n",
       "      <td>...</td>\n",
       "    </tr>\n",
       "    <tr>\n",
       "      <th>48535</th>\n",
       "      <td>31</td>\n",
       "      <td>Private</td>\n",
       "      <td>Some-college</td>\n",
       "      <td>10</td>\n",
       "      <td>Married-civ-spouse</td>\n",
       "      <td>1</td>\n",
       "      <td>Other-service</td>\n",
       "      <td>Husband</td>\n",
       "      <td>Asian-Pac-Islander</td>\n",
       "      <td>Male</td>\n",
       "      <td>0</td>\n",
       "      <td>1485</td>\n",
       "      <td>55</td>\n",
       "      <td>NaN</td>\n",
       "      <td>&gt;50K</td>\n",
       "    </tr>\n",
       "    <tr>\n",
       "      <th>48651</th>\n",
       "      <td>53</td>\n",
       "      <td>Self-emp-not-inc</td>\n",
       "      <td>Prof-school</td>\n",
       "      <td>15</td>\n",
       "      <td>Never-married</td>\n",
       "      <td>0</td>\n",
       "      <td>Prof-specialty</td>\n",
       "      <td>Not-in-family</td>\n",
       "      <td>Asian-Pac-Islander</td>\n",
       "      <td>Male</td>\n",
       "      <td>27828</td>\n",
       "      <td>0</td>\n",
       "      <td>40</td>\n",
       "      <td>Philippines</td>\n",
       "      <td>&gt;50K</td>\n",
       "    </tr>\n",
       "    <tr>\n",
       "      <th>48738</th>\n",
       "      <td>33</td>\n",
       "      <td>Private</td>\n",
       "      <td>Masters</td>\n",
       "      <td>14</td>\n",
       "      <td>Married-civ-spouse</td>\n",
       "      <td>1</td>\n",
       "      <td>Tech-support</td>\n",
       "      <td>Husband</td>\n",
       "      <td>Asian-Pac-Islander</td>\n",
       "      <td>Male</td>\n",
       "      <td>0</td>\n",
       "      <td>0</td>\n",
       "      <td>50</td>\n",
       "      <td>United-States</td>\n",
       "      <td>&gt;50K</td>\n",
       "    </tr>\n",
       "    <tr>\n",
       "      <th>48814</th>\n",
       "      <td>54</td>\n",
       "      <td>Private</td>\n",
       "      <td>Bachelors</td>\n",
       "      <td>13</td>\n",
       "      <td>Married-civ-spouse</td>\n",
       "      <td>1</td>\n",
       "      <td>Exec-managerial</td>\n",
       "      <td>Husband</td>\n",
       "      <td>Asian-Pac-Islander</td>\n",
       "      <td>Male</td>\n",
       "      <td>0</td>\n",
       "      <td>0</td>\n",
       "      <td>50</td>\n",
       "      <td>Japan</td>\n",
       "      <td>&gt;50K</td>\n",
       "    </tr>\n",
       "    <tr>\n",
       "      <th>48819</th>\n",
       "      <td>38</td>\n",
       "      <td>Private</td>\n",
       "      <td>Bachelors</td>\n",
       "      <td>13</td>\n",
       "      <td>Divorced</td>\n",
       "      <td>3</td>\n",
       "      <td>Prof-specialty</td>\n",
       "      <td>Unmarried</td>\n",
       "      <td>Black</td>\n",
       "      <td>Female</td>\n",
       "      <td>15020</td>\n",
       "      <td>0</td>\n",
       "      <td>45</td>\n",
       "      <td>United-States</td>\n",
       "      <td>&gt;50K</td>\n",
       "    </tr>\n",
       "  </tbody>\n",
       "</table>\n",
       "<p>1080 rows × 15 columns</p>\n",
       "</div>"
      ],
      "text/plain": [
       "       Age         Workclass     Education  Educational_Num  \\\n",
       "3       44           Private  Some-college               10   \n",
       "19      40           Private     Doctorate               16   \n",
       "30      46         State-gov  Some-college               10   \n",
       "319     68           Private       HS-grad                9   \n",
       "346     39           Private       HS-grad                9   \n",
       "...    ...               ...           ...              ...   \n",
       "48535   31           Private  Some-college               10   \n",
       "48651   53  Self-emp-not-inc   Prof-school               15   \n",
       "48738   33           Private       Masters               14   \n",
       "48814   54           Private     Bachelors               13   \n",
       "48819   38           Private     Bachelors               13   \n",
       "\n",
       "           Marital_Status  Status_Number         Occupation   Relationship  \\\n",
       "3      Married-civ-spouse              1  Machine-op-inspct        Husband   \n",
       "19     Married-civ-spouse              1     Prof-specialty        Husband   \n",
       "30     Married-civ-spouse              1    Exec-managerial        Husband   \n",
       "319    Married-civ-spouse              1  Machine-op-inspct        Husband   \n",
       "346              Divorced              3    Exec-managerial      Unmarried   \n",
       "...                   ...            ...                ...            ...   \n",
       "48535  Married-civ-spouse              1      Other-service        Husband   \n",
       "48651       Never-married              0     Prof-specialty  Not-in-family   \n",
       "48738  Married-civ-spouse              1       Tech-support        Husband   \n",
       "48814  Married-civ-spouse              1    Exec-managerial        Husband   \n",
       "48819            Divorced              3     Prof-specialty      Unmarried   \n",
       "\n",
       "                     Race  Gender  Capital_Gain  Capital_Loss  HoursPerWeek  \\\n",
       "3                   Black    Male          7688             0            40   \n",
       "19     Asian-Pac-Islander    Male             0             0            45   \n",
       "30                  Black    Male          7688             0            38   \n",
       "319                 Black    Male             0             0            40   \n",
       "346                 Black  Female         99999             0            40   \n",
       "...                   ...     ...           ...           ...           ...   \n",
       "48535  Asian-Pac-Islander    Male             0          1485            55   \n",
       "48651  Asian-Pac-Islander    Male         27828             0            40   \n",
       "48738  Asian-Pac-Islander    Male             0             0            50   \n",
       "48814  Asian-Pac-Islander    Male             0             0            50   \n",
       "48819               Black  Female         15020             0            45   \n",
       "\n",
       "      Native_Country Income  \n",
       "3      United-States   >50K  \n",
       "19               NaN   >50K  \n",
       "30     United-States   >50K  \n",
       "319    United-States   >50K  \n",
       "346    United-States   >50K  \n",
       "...              ...    ...  \n",
       "48535            NaN   >50K  \n",
       "48651    Philippines   >50K  \n",
       "48738  United-States   >50K  \n",
       "48814          Japan   >50K  \n",
       "48819  United-States   >50K  \n",
       "\n",
       "[1080 rows x 15 columns]"
      ]
     },
     "execution_count": 79,
     "metadata": {},
     "output_type": "execute_result"
    }
   ],
   "source": [
    "df.query(\"Race!='White' & Income=='>50K'\")"
   ]
  },
  {
   "cell_type": "code",
   "execution_count": 80,
   "metadata": {},
   "outputs": [
    {
     "data": {
      "text/plain": [
       "9.310344827586208"
      ]
     },
     "execution_count": 80,
     "metadata": {},
     "output_type": "execute_result"
    }
   ],
   "source": [
    "prcnt=(1080/11600)*100\n",
    "prcnt"
   ]
  },
  {
   "cell_type": "code",
   "execution_count": 81,
   "metadata": {},
   "outputs": [
    {
     "data": {
      "text/plain": [
       "<matplotlib.legend.Legend at 0x2903eccc220>"
      ]
     },
     "execution_count": 81,
     "metadata": {},
     "output_type": "execute_result"
    },
    {
     "data": {
      "image/png": "[encoded data removed]",
      "text/plain": [
       "<Figure size 648x648 with 1 Axes>"
      ]
     },
     "metadata": {},
     "output_type": "display_data"
    }
   ],
   "source": [
    "plt.figure(figsize=(9,9))\n",
    "plt.pie(x=df.groupby('Race')['Age'].count())\n",
    "plt.legend(['Amer-Indian-Eskimo','Asian-Pac-Islander ','Black','Other','White'],loc='upper right')"
   ]
  },
  {
   "cell_type": "markdown",
   "metadata": {},
   "source": [
    "##### As we can observe that there are around 11600 employees who are earning more than 50K but only 1080 are not whites. So if you are not white your chances to earn 50K+ in America is just 9%.\n",
    "##### Hence, we conclude that after so many years there is still a concept of bigotry in Americans' mind. They are full of prejudice."
   ]
  },
  {
   "cell_type": "markdown",
   "metadata": {},
   "source": [
    "### Q34. Take in data of Unmarried, Not-in-Family, and Own-Child and performing some operations on them.\n",
    "#### a) Group the data with Age and describe your dataset."
   ]
  },
  {
   "cell_type": "code",
   "execution_count": 82,
   "metadata": {},
   "outputs": [],
   "source": [
    "ip = df.query(\"Relationship=='Unmarried' | Relationship=='Own-child' | Relationship=='Not-in-family'\")"
   ]
  },
  {
   "cell_type": "code",
   "execution_count": 83,
   "metadata": {},
   "outputs": [
    {
     "data": {
      "text/html": [
       "<div>\n",
       "<style scoped>\n",
       "    .dataframe tbody tr th:only-of-type {\n",
       "        vertical-align: middle;\n",
       "    }\n",
       "\n",
       "    .dataframe tbody tr th {\n",
       "        vertical-align: top;\n",
       "    }\n",
       "\n",
       "    .dataframe thead th {\n",
       "        text-align: right;\n",
       "    }\n",
       "</style>\n",
       "<table border=\"1\" class=\"dataframe\">\n",
       "  <thead>\n",
       "    <tr style=\"text-align: right;\">\n",
       "      <th></th>\n",
       "      <th>count</th>\n",
       "      <th>mean</th>\n",
       "      <th>std</th>\n",
       "      <th>min</th>\n",
       "      <th>25%</th>\n",
       "      <th>50%</th>\n",
       "      <th>75%</th>\n",
       "      <th>max</th>\n",
       "    </tr>\n",
       "    <tr>\n",
       "      <th>Relationship</th>\n",
       "      <th></th>\n",
       "      <th></th>\n",
       "      <th></th>\n",
       "      <th></th>\n",
       "      <th></th>\n",
       "      <th></th>\n",
       "      <th></th>\n",
       "      <th></th>\n",
       "    </tr>\n",
       "  </thead>\n",
       "  <tbody>\n",
       "    <tr>\n",
       "      <th>Not-in-family</th>\n",
       "      <td>12583.0</td>\n",
       "      <td>38.421601</td>\n",
       "      <td>13.989086</td>\n",
       "      <td>17.0</td>\n",
       "      <td>27.0</td>\n",
       "      <td>35.0</td>\n",
       "      <td>47.0</td>\n",
       "      <td>90.0</td>\n",
       "    </tr>\n",
       "    <tr>\n",
       "      <th>Own-child</th>\n",
       "      <td>7581.0</td>\n",
       "      <td>24.794090</td>\n",
       "      <td>8.113717</td>\n",
       "      <td>17.0</td>\n",
       "      <td>19.0</td>\n",
       "      <td>22.0</td>\n",
       "      <td>27.0</td>\n",
       "      <td>90.0</td>\n",
       "    </tr>\n",
       "    <tr>\n",
       "      <th>Unmarried</th>\n",
       "      <td>5125.0</td>\n",
       "      <td>40.312195</td>\n",
       "      <td>11.683326</td>\n",
       "      <td>17.0</td>\n",
       "      <td>32.0</td>\n",
       "      <td>39.0</td>\n",
       "      <td>48.0</td>\n",
       "      <td>90.0</td>\n",
       "    </tr>\n",
       "  </tbody>\n",
       "</table>\n",
       "</div>"
      ],
      "text/plain": [
       "                 count       mean        std   min   25%   50%   75%   max\n",
       "Relationship                                                              \n",
       "Not-in-family  12583.0  38.421601  13.989086  17.0  27.0  35.0  47.0  90.0\n",
       "Own-child       7581.0  24.794090   8.113717  17.0  19.0  22.0  27.0  90.0\n",
       "Unmarried       5125.0  40.312195  11.683326  17.0  32.0  39.0  48.0  90.0"
      ]
     },
     "execution_count": 83,
     "metadata": {},
     "output_type": "execute_result"
    }
   ],
   "source": [
    "ip['Age'].groupby(ip['Relationship']).describe()"
   ]
  },
  {
   "cell_type": "markdown",
   "metadata": {},
   "source": [
    "#####  People not in family and unmarried lie in similar age groups(40s) while own child are generally young guys\n",
    "##### It means unmarried people and not-in-family are living alone and not considered as child even if they are young"
   ]
  },
  {
   "cell_type": "markdown",
   "metadata": {},
   "source": [
    "### b) Find which occupation they are engaged and which have most of them."
   ]
  },
  {
   "cell_type": "code",
   "execution_count": 84,
   "metadata": {},
   "outputs": [
    {
     "data": {
      "text/plain": [
       "Relationship   Occupation       \n",
       "Not-in-family  Prof-specialty       1908\n",
       "               Adm-clerical         1730\n",
       "               Exec-managerial      1564\n",
       "               Other-service        1465\n",
       "               Sales                1344\n",
       "               Craft-repair         1217\n",
       "               Machine-op-inspct     720\n",
       "               Transport-moving      464\n",
       "               Handlers-cleaners     458\n",
       "               Tech-support          447\n",
       "               Farming-fishing       277\n",
       "               Protective-serv       220\n",
       "               Priv-house-serv        97\n",
       "               Armed-Forces            5\n",
       "Own-child      Other-service        1305\n",
       "               Adm-clerical         1144\n",
       "               Sales                1058\n",
       "               Handlers-cleaners     618\n",
       "               Craft-repair          587\n",
       "               Prof-specialty        469\n",
       "               Machine-op-inspct     401\n",
       "               Exec-managerial       349\n",
       "               Transport-moving      234\n",
       "               Farming-fishing       210\n",
       "               Tech-support          181\n",
       "               Protective-serv       113\n",
       "               Priv-house-serv        35\n",
       "               Armed-Forces            2\n",
       "Unmarried      Adm-clerical         1072\n",
       "               Other-service         832\n",
       "               Prof-specialty        554\n",
       "               Exec-managerial       523\n",
       "               Sales                 481\n",
       "               Craft-repair          381\n",
       "               Machine-op-inspct     340\n",
       "               Tech-support          180\n",
       "               Handlers-cleaners     156\n",
       "               Transport-moving      140\n",
       "               Farming-fishing        92\n",
       "               Priv-house-serv        61\n",
       "               Protective-serv        55\n",
       "Name: Occupation, dtype: int64"
      ]
     },
     "execution_count": 84,
     "metadata": {},
     "output_type": "execute_result"
    }
   ],
   "source": [
    "ip['Occupation'].groupby(ip['Relationship']).value_counts()"
   ]
  },
  {
   "cell_type": "markdown",
   "metadata": {},
   "source": [
    "### c) Use crosstab and find the relationship (in %age) between Income and Relationship attribute."
   ]
  },
  {
   "cell_type": "code",
   "execution_count": 85,
   "metadata": {
    "scrolled": true
   },
   "outputs": [
    {
     "data": {
      "text/html": [
       "<div>\n",
       "<style scoped>\n",
       "    .dataframe tbody tr th:only-of-type {\n",
       "        vertical-align: middle;\n",
       "    }\n",
       "\n",
       "    .dataframe tbody tr th {\n",
       "        vertical-align: top;\n",
       "    }\n",
       "\n",
       "    .dataframe thead th {\n",
       "        text-align: right;\n",
       "    }\n",
       "</style>\n",
       "<table border=\"1\" class=\"dataframe\">\n",
       "  <thead>\n",
       "    <tr style=\"text-align: right;\">\n",
       "      <th>Income</th>\n",
       "      <th>&lt;=50K</th>\n",
       "      <th>&gt;50K</th>\n",
       "    </tr>\n",
       "    <tr>\n",
       "      <th>Relationship</th>\n",
       "      <th></th>\n",
       "      <th></th>\n",
       "    </tr>\n",
       "  </thead>\n",
       "  <tbody>\n",
       "    <tr>\n",
       "      <th>Not-in-family</th>\n",
       "      <td>11307</td>\n",
       "      <td>1276</td>\n",
       "    </tr>\n",
       "    <tr>\n",
       "      <th>Own-child</th>\n",
       "      <td>7470</td>\n",
       "      <td>111</td>\n",
       "    </tr>\n",
       "    <tr>\n",
       "      <th>Unmarried</th>\n",
       "      <td>4816</td>\n",
       "      <td>309</td>\n",
       "    </tr>\n",
       "  </tbody>\n",
       "</table>\n",
       "</div>"
      ],
      "text/plain": [
       "Income         <=50K  >50K\n",
       "Relationship              \n",
       "Not-in-family  11307  1276\n",
       "Own-child       7470   111\n",
       "Unmarried       4816   309"
      ]
     },
     "execution_count": 85,
     "metadata": {},
     "output_type": "execute_result"
    }
   ],
   "source": [
    "pd.crosstab(ip['Relationship'],ip['Income'])"
   ]
  },
  {
   "cell_type": "code",
   "execution_count": 86,
   "metadata": {
    "scrolled": true
   },
   "outputs": [
    {
     "data": {
      "text/html": [
       "<div>\n",
       "<style scoped>\n",
       "    .dataframe tbody tr th:only-of-type {\n",
       "        vertical-align: middle;\n",
       "    }\n",
       "\n",
       "    .dataframe tbody tr th {\n",
       "        vertical-align: top;\n",
       "    }\n",
       "\n",
       "    .dataframe thead th {\n",
       "        text-align: right;\n",
       "    }\n",
       "</style>\n",
       "<table border=\"1\" class=\"dataframe\">\n",
       "  <thead>\n",
       "    <tr style=\"text-align: right;\">\n",
       "      <th>Income</th>\n",
       "      <th>&lt;=50K</th>\n",
       "      <th>&gt;50K</th>\n",
       "      <th>sum</th>\n",
       "      <th>&lt;=50K%</th>\n",
       "      <th>&gt;50K%</th>\n",
       "    </tr>\n",
       "    <tr>\n",
       "      <th>Relationship</th>\n",
       "      <th></th>\n",
       "      <th></th>\n",
       "      <th></th>\n",
       "      <th></th>\n",
       "      <th></th>\n",
       "    </tr>\n",
       "  </thead>\n",
       "  <tbody>\n",
       "    <tr>\n",
       "      <th>Not-in-family</th>\n",
       "      <td>11307</td>\n",
       "      <td>1276</td>\n",
       "      <td>12583</td>\n",
       "      <td>89.859334</td>\n",
       "      <td>10.140666</td>\n",
       "    </tr>\n",
       "    <tr>\n",
       "      <th>Own-child</th>\n",
       "      <td>7470</td>\n",
       "      <td>111</td>\n",
       "      <td>7581</td>\n",
       "      <td>98.535813</td>\n",
       "      <td>1.464187</td>\n",
       "    </tr>\n",
       "    <tr>\n",
       "      <th>Unmarried</th>\n",
       "      <td>4816</td>\n",
       "      <td>309</td>\n",
       "      <td>5125</td>\n",
       "      <td>93.970732</td>\n",
       "      <td>6.029268</td>\n",
       "    </tr>\n",
       "  </tbody>\n",
       "</table>\n",
       "</div>"
      ],
      "text/plain": [
       "Income         <=50K  >50K    sum     <=50K%      >50K%\n",
       "Relationship                                           \n",
       "Not-in-family  11307  1276  12583  89.859334  10.140666\n",
       "Own-child       7470   111   7581  98.535813   1.464187\n",
       "Unmarried       4816   309   5125  93.970732   6.029268"
      ]
     },
     "execution_count": 86,
     "metadata": {},
     "output_type": "execute_result"
    }
   ],
   "source": [
    "ip_per = pd.crosstab(ip['Relationship'],ip['Income'])\n",
    "ip_per['sum']=ip_per['<=50K']+ip_per['>50K']\n",
    "ip_per['<=50K%']=(ip_per['<=50K']/ip_per['sum'])*100\n",
    "ip_per['>50K%']=(ip_per['>50K']/ip_per['sum'])*100\n",
    "ip_per"
   ]
  },
  {
   "cell_type": "code",
   "execution_count": 87,
   "metadata": {},
   "outputs": [
    {
     "data": {
      "text/html": [
       "<div>\n",
       "<style scoped>\n",
       "    .dataframe tbody tr th:only-of-type {\n",
       "        vertical-align: middle;\n",
       "    }\n",
       "\n",
       "    .dataframe tbody tr th {\n",
       "        vertical-align: top;\n",
       "    }\n",
       "\n",
       "    .dataframe thead th {\n",
       "        text-align: right;\n",
       "    }\n",
       "</style>\n",
       "<table border=\"1\" class=\"dataframe\">\n",
       "  <thead>\n",
       "    <tr style=\"text-align: right;\">\n",
       "      <th></th>\n",
       "      <th>Youth</th>\n",
       "      <th>Adult</th>\n",
       "      <th>Senior</th>\n",
       "      <th>SuperSenior</th>\n",
       "    </tr>\n",
       "  </thead>\n",
       "  <tbody>\n",
       "    <tr>\n",
       "      <th>11201</th>\n",
       "      <td>0</td>\n",
       "      <td>0</td>\n",
       "      <td>1</td>\n",
       "      <td>0</td>\n",
       "    </tr>\n",
       "    <tr>\n",
       "      <th>3024</th>\n",
       "      <td>0</td>\n",
       "      <td>1</td>\n",
       "      <td>0</td>\n",
       "      <td>0</td>\n",
       "    </tr>\n",
       "    <tr>\n",
       "      <th>31751</th>\n",
       "      <td>0</td>\n",
       "      <td>0</td>\n",
       "      <td>1</td>\n",
       "      <td>0</td>\n",
       "    </tr>\n",
       "    <tr>\n",
       "      <th>13405</th>\n",
       "      <td>0</td>\n",
       "      <td>0</td>\n",
       "      <td>1</td>\n",
       "      <td>0</td>\n",
       "    </tr>\n",
       "    <tr>\n",
       "      <th>3696</th>\n",
       "      <td>0</td>\n",
       "      <td>0</td>\n",
       "      <td>1</td>\n",
       "      <td>0</td>\n",
       "    </tr>\n",
       "    <tr>\n",
       "      <th>14137</th>\n",
       "      <td>0</td>\n",
       "      <td>0</td>\n",
       "      <td>1</td>\n",
       "      <td>0</td>\n",
       "    </tr>\n",
       "    <tr>\n",
       "      <th>3660</th>\n",
       "      <td>0</td>\n",
       "      <td>0</td>\n",
       "      <td>1</td>\n",
       "      <td>0</td>\n",
       "    </tr>\n",
       "    <tr>\n",
       "      <th>10332</th>\n",
       "      <td>0</td>\n",
       "      <td>0</td>\n",
       "      <td>1</td>\n",
       "      <td>0</td>\n",
       "    </tr>\n",
       "    <tr>\n",
       "      <th>9760</th>\n",
       "      <td>0</td>\n",
       "      <td>0</td>\n",
       "      <td>1</td>\n",
       "      <td>0</td>\n",
       "    </tr>\n",
       "    <tr>\n",
       "      <th>19600</th>\n",
       "      <td>1</td>\n",
       "      <td>0</td>\n",
       "      <td>0</td>\n",
       "      <td>0</td>\n",
       "    </tr>\n",
       "  </tbody>\n",
       "</table>\n",
       "</div>"
      ],
      "text/plain": [
       "       Youth  Adult  Senior  SuperSenior\n",
       "11201      0      0       1            0\n",
       "3024       0      1       0            0\n",
       "31751      0      0       1            0\n",
       "13405      0      0       1            0\n",
       "3696       0      0       1            0\n",
       "14137      0      0       1            0\n",
       "3660       0      0       1            0\n",
       "10332      0      0       1            0\n",
       "9760       0      0       1            0\n",
       "19600      1      0       0            0"
      ]
     },
     "execution_count": 87,
     "metadata": {},
     "output_type": "execute_result"
    }
   ],
   "source": [
    "bins=[17,25,40,66,91]\n",
    "group_names=['Youth','Adult','Senior','SuperSenior']\n",
    "cuts=pd.cut(df.Age,bins,include_lowest=True,labels=group_names)\n",
    "pd.get_dummies(cuts).sample(10)"
   ]
  },
  {
   "cell_type": "code",
   "execution_count": 88,
   "metadata": {},
   "outputs": [
    {
     "data": {
      "text/html": [
       "<div>\n",
       "<style scoped>\n",
       "    .dataframe tbody tr th:only-of-type {\n",
       "        vertical-align: middle;\n",
       "    }\n",
       "\n",
       "    .dataframe tbody tr th {\n",
       "        vertical-align: top;\n",
       "    }\n",
       "\n",
       "    .dataframe thead th {\n",
       "        text-align: right;\n",
       "    }\n",
       "</style>\n",
       "<table border=\"1\" class=\"dataframe\">\n",
       "  <thead>\n",
       "    <tr style=\"text-align: right;\">\n",
       "      <th></th>\n",
       "      <th>Income</th>\n",
       "      <th>&lt;=50K</th>\n",
       "      <th>&gt;50K</th>\n",
       "    </tr>\n",
       "    <tr>\n",
       "      <th>Education</th>\n",
       "      <th>Marital_Status</th>\n",
       "      <th></th>\n",
       "      <th></th>\n",
       "    </tr>\n",
       "  </thead>\n",
       "  <tbody>\n",
       "    <tr>\n",
       "      <th rowspan=\"5\" valign=\"top\">10th</th>\n",
       "      <th>Divorced</th>\n",
       "      <td>170</td>\n",
       "      <td>2</td>\n",
       "    </tr>\n",
       "    <tr>\n",
       "      <th>Married-AF-spouse</th>\n",
       "      <td>1</td>\n",
       "      <td>0</td>\n",
       "    </tr>\n",
       "    <tr>\n",
       "      <th>Married-civ-spouse</th>\n",
       "      <td>446</td>\n",
       "      <td>79</td>\n",
       "    </tr>\n",
       "    <tr>\n",
       "      <th>Married-spouse-absent</th>\n",
       "      <td>22</td>\n",
       "      <td>0</td>\n",
       "    </tr>\n",
       "    <tr>\n",
       "      <th>Never-married</th>\n",
       "      <td>521</td>\n",
       "      <td>4</td>\n",
       "    </tr>\n",
       "    <tr>\n",
       "      <th>...</th>\n",
       "      <th>...</th>\n",
       "      <td>...</td>\n",
       "      <td>...</td>\n",
       "    </tr>\n",
       "    <tr>\n",
       "      <th rowspan=\"5\" valign=\"top\">Some-college</th>\n",
       "      <th>Married-civ-spouse</th>\n",
       "      <td>2356</td>\n",
       "      <td>1823</td>\n",
       "    </tr>\n",
       "    <tr>\n",
       "      <th>Married-spouse-absent</th>\n",
       "      <td>100</td>\n",
       "      <td>9</td>\n",
       "    </tr>\n",
       "    <tr>\n",
       "      <th>Never-married</th>\n",
       "      <td>4366</td>\n",
       "      <td>87</td>\n",
       "    </tr>\n",
       "    <tr>\n",
       "      <th>Separated</th>\n",
       "      <td>293</td>\n",
       "      <td>24</td>\n",
       "    </tr>\n",
       "    <tr>\n",
       "      <th>Widowed</th>\n",
       "      <td>237</td>\n",
       "      <td>14</td>\n",
       "    </tr>\n",
       "  </tbody>\n",
       "</table>\n",
       "<p>104 rows × 2 columns</p>\n",
       "</div>"
      ],
      "text/plain": [
       "Income                              <=50K  >50K\n",
       "Education    Marital_Status                    \n",
       "10th         Divorced                 170     2\n",
       "             Married-AF-spouse          1     0\n",
       "             Married-civ-spouse       446    79\n",
       "             Married-spouse-absent     22     0\n",
       "             Never-married            521     4\n",
       "...                                   ...   ...\n",
       "Some-college Married-civ-spouse      2356  1823\n",
       "             Married-spouse-absent    100     9\n",
       "             Never-married           4366    87\n",
       "             Separated                293    24\n",
       "             Widowed                  237    14\n",
       "\n",
       "[104 rows x 2 columns]"
      ]
     },
     "execution_count": 88,
     "metadata": {},
     "output_type": "execute_result"
    }
   ],
   "source": [
    "df_count=pd.crosstab([df['Education'],df['Marital_Status']],df['Income'])\n",
    "df_count"
   ]
  },
  {
   "cell_type": "markdown",
   "metadata": {},
   "source": [
    "### Q35. Getting average population based on education level and marital-status\n",
    "#### This calculates average number of people who earn more than 50K and less than 50K and averaged on marital-status [Ex: for education level Prof-school, 4 to 5 people in each of values of marital-status earn less than 50K and 14 people earn more than 50K]"
   ]
  },
  {
   "cell_type": "code",
   "execution_count": 90,
   "metadata": {},
   "outputs": [
    {
     "name": "stdout",
     "output_type": "stream",
     "text": [
      "Education:  11th\n",
      "Income\n",
      "<=50K    286.666667\n",
      ">50K      15.333333\n",
      "dtype: float64\n",
      "____________________________\n",
      "Education:  HS-grad\n",
      "Income\n",
      "<=50K    1897.285714\n",
      ">50K      357.571429\n",
      "dtype: float64\n",
      "____________________________\n",
      "Education:  Assoc-acdm\n",
      "Income\n",
      "<=50K    169.714286\n",
      ">50K      59.000000\n",
      "dtype: float64\n",
      "____________________________\n",
      "Education:  Some-college\n",
      "Income\n",
      "<=50K    1259.285714\n",
      ">50K      294.714286\n",
      "dtype: float64\n",
      "____________________________\n",
      "Education:  10th\n",
      "Income\n",
      "<=50K    186.000000\n",
      ">50K      12.428571\n",
      "dtype: float64\n",
      "____________________________\n",
      "Education:  Prof-school\n",
      "Income\n",
      "<=50K    31.000000\n",
      ">50K     88.142857\n",
      "dtype: float64\n",
      "____________________________\n",
      "Education:  7th-8th\n",
      "Income\n",
      "<=50K    148.833333\n",
      ">50K      10.333333\n",
      "dtype: float64\n",
      "____________________________\n",
      "Education:  Bachelors\n",
      "Income\n",
      "<=50K    673.142857\n",
      ">50K     473.285714\n",
      "dtype: float64\n",
      "____________________________\n",
      "Education:  Masters\n",
      "Income\n",
      "<=50K    199.666667\n",
      ">50K     243.166667\n",
      "dtype: float64\n",
      "____________________________\n",
      "Education:  Doctorate\n",
      "Income\n",
      "<=50K    23.285714\n",
      ">50K     61.571429\n",
      "dtype: float64\n",
      "____________________________\n",
      "Education:  5th-6th\n",
      "Income\n",
      "<=50K    80.333333\n",
      ">50K      4.500000\n",
      "dtype: float64\n",
      "____________________________\n",
      "Education:  Assoc-voc\n",
      "Income\n",
      "<=50K    219.857143\n",
      ">50K      74.571429\n",
      "dtype: float64\n",
      "____________________________\n",
      "Education:  9th\n",
      "Income\n",
      "<=50K    119.166667\n",
      ">50K       6.833333\n",
      "dtype: float64\n",
      "____________________________\n",
      "Education:  12th\n",
      "Income\n",
      "<=50K    101.5\n",
      ">50K       8.0\n",
      "dtype: float64\n",
      "____________________________\n",
      "Education:  1st-4th\n",
      "Income\n",
      "<=50K    39.833333\n",
      ">50K      1.333333\n",
      "dtype: float64\n",
      "____________________________\n",
      "Education:  Preschool\n",
      "Income\n",
      "<=50K    13.666667\n",
      ">50K      0.166667\n",
      "dtype: float64\n",
      "____________________________\n"
     ]
    }
   ],
   "source": [
    "for i in list(df['Education'].unique()):\n",
    "    print('Education: ',i)\n",
    "    print(df_count.loc[(i),:].mean())\n",
    "    print('____________________________')"
   ]
  },
  {
   "cell_type": "markdown",
   "metadata": {},
   "source": [
    "### Inference; In Prof-School and Doctorate degrees Average number of people earning more than 50K is greater than average number of people earning less than 50K. For the remaining education levels it is vice-versa]"
   ]
  },
  {
   "cell_type": "markdown",
   "metadata": {},
   "source": [
    "### Q36. Aim is to group the population based on education, marital-status and income"
   ]
  },
  {
   "cell_type": "code",
   "execution_count": 106,
   "metadata": {
    "scrolled": false
   },
   "outputs": [
    {
     "data": {
      "text/plain": [
       "[('10th', 'Divorced', '<=50K'),\n",
       "        Age Workclass Education  Educational_Num Marital_Status  Status_Number  \\\n",
       " 293     42   Private      10th                6       Divorced              3   \n",
       " 369     26   Private      10th                6       Divorced              3   \n",
       " 551     26   Private      10th                6       Divorced              3   \n",
       " 791     57   Private      10th                6       Divorced              3   \n",
       " 1011    52   Private      10th                6       Divorced              3   \n",
       " ...    ...       ...       ...              ...            ...            ...   \n",
       " 47875   56       NaN      10th                6       Divorced              3   \n",
       " 48474   68   Private      10th                6       Divorced              3   \n",
       " 48609   31   Private      10th                6       Divorced              3   \n",
       " 48634   36   Private      10th                6       Divorced              3   \n",
       " 48789   45   Private      10th                6       Divorced              3   \n",
       " \n",
       "               Occupation   Relationship                Race  Gender  \\\n",
       " 293         Adm-clerical      Unmarried               White  Female   \n",
       " 369        Other-service      Unmarried               White  Female   \n",
       " 551    Machine-op-inspct      Own-child               White    Male   \n",
       " 791        Other-service  Not-in-family  Amer-Indian-Eskimo  Female   \n",
       " 1011    Transport-moving      Unmarried               White    Male   \n",
       " ...                  ...            ...                 ...     ...   \n",
       " 47875                NaN  Not-in-family               White  Female   \n",
       " 48474   Transport-moving  Not-in-family               White    Male   \n",
       " 48609       Craft-repair  Not-in-family               White    Male   \n",
       " 48634   Transport-moving      Unmarried               White    Male   \n",
       " 48789      Other-service  Not-in-family               Black  Female   \n",
       " \n",
       "        Capital_Gain  Capital_Loss  HoursPerWeek      Native_Country Income  \n",
       " 293               0             0            40       United-States  <=50K  \n",
       " 369               0             0            40             Germany  <=50K  \n",
       " 551               0             0            35       United-States  <=50K  \n",
       " 791               0             0            20       United-States  <=50K  \n",
       " 1011              0             0            40       United-States  <=50K  \n",
       " ...             ...           ...           ...                 ...    ...  \n",
       " 47875             0             0            40       United-States  <=50K  \n",
       " 48474             0             0            20       United-States  <=50K  \n",
       " 48609             0             0            38       United-States  <=50K  \n",
       " 48634             0             0            48       United-States  <=50K  \n",
       " 48789             0             0            38  Dominican-Republic  <=50K  \n",
       " \n",
       " [170 rows x 15 columns],\n",
       " ('10th', 'Divorced', '>50K'),\n",
       "        Age         Workclass Education  Educational_Num Marital_Status  \\\n",
       " 22301   57  Self-emp-not-inc      10th                6       Divorced   \n",
       " 41061   54           Private      10th                6       Divorced   \n",
       " \n",
       "        Status_Number       Occupation Relationship   Race Gender  \\\n",
       " 22301              3  Exec-managerial    Own-child  White   Male   \n",
       " 41061              3   Prof-specialty    Unmarried  White   Male   \n",
       " \n",
       "        Capital_Gain  Capital_Loss  HoursPerWeek Native_Country Income  \n",
       " 22301             0             0            60  United-States   >50K  \n",
       " 41061         14344             0            68  United-States   >50K  ]"
      ]
     },
     "execution_count": 106,
     "metadata": {},
     "output_type": "execute_result"
    }
   ],
   "source": [
    "lst=[]\n",
    "for(k1,k2,k3),group in df.groupby(['Education','Marital_Status','Income']):\n",
    "    lst.append((k1,k2,k3))\n",
    "    lst.append(group)\n",
    "df1=pd.DataFrame(lst)\n",
    "lst[:4]  #displaying only few rows"
   ]
  },
  {
   "cell_type": "markdown",
   "metadata": {},
   "source": [
    "### Q37. To know the age group based on marital-status"
   ]
  },
  {
   "cell_type": "code",
   "execution_count": 112,
   "metadata": {},
   "outputs": [
    {
     "data": {
      "text/html": [
       "<div>\n",
       "<style scoped>\n",
       "    .dataframe tbody tr th:only-of-type {\n",
       "        vertical-align: middle;\n",
       "    }\n",
       "\n",
       "    .dataframe tbody tr th {\n",
       "        vertical-align: top;\n",
       "    }\n",
       "\n",
       "    .dataframe thead tr th {\n",
       "        text-align: left;\n",
       "    }\n",
       "\n",
       "    .dataframe thead tr:last-of-type th {\n",
       "        text-align: right;\n",
       "    }\n",
       "</style>\n",
       "<table border=\"1\" class=\"dataframe\">\n",
       "  <thead>\n",
       "    <tr>\n",
       "      <th>Age</th>\n",
       "      <th colspan=\"2\" halign=\"left\">Youth</th>\n",
       "      <th colspan=\"2\" halign=\"left\">Adult</th>\n",
       "      <th colspan=\"2\" halign=\"left\">Senior</th>\n",
       "      <th colspan=\"2\" halign=\"left\">Super-Senior</th>\n",
       "    </tr>\n",
       "    <tr>\n",
       "      <th>Income</th>\n",
       "      <th>&lt;=50K</th>\n",
       "      <th>&gt;50K</th>\n",
       "      <th>&lt;=50K</th>\n",
       "      <th>&gt;50K</th>\n",
       "      <th>&lt;=50K</th>\n",
       "      <th>&gt;50K</th>\n",
       "      <th>&lt;=50K</th>\n",
       "      <th>&gt;50K</th>\n",
       "    </tr>\n",
       "    <tr>\n",
       "      <th>Marital_Status</th>\n",
       "      <th></th>\n",
       "      <th></th>\n",
       "      <th></th>\n",
       "      <th></th>\n",
       "      <th></th>\n",
       "      <th></th>\n",
       "      <th></th>\n",
       "      <th></th>\n",
       "    </tr>\n",
       "  </thead>\n",
       "  <tbody>\n",
       "    <tr>\n",
       "      <th>Divorced</th>\n",
       "      <td>192.0</td>\n",
       "      <td>3.0</td>\n",
       "      <td>2448.0</td>\n",
       "      <td>185.0</td>\n",
       "      <td>3195.0</td>\n",
       "      <td>474.0</td>\n",
       "      <td>127.0</td>\n",
       "      <td>9.0</td>\n",
       "    </tr>\n",
       "    <tr>\n",
       "      <th>Married-AF-spouse</th>\n",
       "      <td>4.0</td>\n",
       "      <td>2.0</td>\n",
       "      <td>16.0</td>\n",
       "      <td>10.0</td>\n",
       "      <td>2.0</td>\n",
       "      <td>2.0</td>\n",
       "      <td>1.0</td>\n",
       "      <td>NaN</td>\n",
       "    </tr>\n",
       "    <tr>\n",
       "      <th>Married-civ-spouse</th>\n",
       "      <td>890.0</td>\n",
       "      <td>107.0</td>\n",
       "      <td>5364.0</td>\n",
       "      <td>3750.0</td>\n",
       "      <td>5522.0</td>\n",
       "      <td>5888.0</td>\n",
       "      <td>619.0</td>\n",
       "      <td>239.0</td>\n",
       "    </tr>\n",
       "    <tr>\n",
       "      <th>Married-spouse-absent</th>\n",
       "      <td>74.0</td>\n",
       "      <td>NaN</td>\n",
       "      <td>238.0</td>\n",
       "      <td>18.0</td>\n",
       "      <td>239.0</td>\n",
       "      <td>36.0</td>\n",
       "      <td>19.0</td>\n",
       "      <td>4.0</td>\n",
       "    </tr>\n",
       "    <tr>\n",
       "      <th>Never-married</th>\n",
       "      <td>8175.0</td>\n",
       "      <td>54.0</td>\n",
       "      <td>5711.0</td>\n",
       "      <td>422.0</td>\n",
       "      <td>1415.0</td>\n",
       "      <td>242.0</td>\n",
       "      <td>83.0</td>\n",
       "      <td>15.0</td>\n",
       "    </tr>\n",
       "    <tr>\n",
       "      <th>Separated</th>\n",
       "      <td>116.0</td>\n",
       "      <td>3.0</td>\n",
       "      <td>699.0</td>\n",
       "      <td>40.0</td>\n",
       "      <td>599.0</td>\n",
       "      <td>56.0</td>\n",
       "      <td>17.0</td>\n",
       "      <td>NaN</td>\n",
       "    </tr>\n",
       "    <tr>\n",
       "      <th>Widowed</th>\n",
       "      <td>7.0</td>\n",
       "      <td>NaN</td>\n",
       "      <td>96.0</td>\n",
       "      <td>7.0</td>\n",
       "      <td>888.0</td>\n",
       "      <td>87.0</td>\n",
       "      <td>399.0</td>\n",
       "      <td>34.0</td>\n",
       "    </tr>\n",
       "  </tbody>\n",
       "</table>\n",
       "</div>"
      ],
      "text/plain": [
       "Age                     Youth          Adult          Senior          \\\n",
       "Income                  <=50K   >50K   <=50K    >50K   <=50K    >50K   \n",
       "Marital_Status                                                         \n",
       "Divorced                192.0    3.0  2448.0   185.0  3195.0   474.0   \n",
       "Married-AF-spouse         4.0    2.0    16.0    10.0     2.0     2.0   \n",
       "Married-civ-spouse      890.0  107.0  5364.0  3750.0  5522.0  5888.0   \n",
       "Married-spouse-absent    74.0    NaN   238.0    18.0   239.0    36.0   \n",
       "Never-married          8175.0   54.0  5711.0   422.0  1415.0   242.0   \n",
       "Separated               116.0    3.0   699.0    40.0   599.0    56.0   \n",
       "Widowed                   7.0    NaN    96.0     7.0   888.0    87.0   \n",
       "\n",
       "Age                   Super-Senior         \n",
       "Income                       <=50K   >50K  \n",
       "Marital_Status                             \n",
       "Divorced                     127.0    9.0  \n",
       "Married-AF-spouse              1.0    NaN  \n",
       "Married-civ-spouse           619.0  239.0  \n",
       "Married-spouse-absent         19.0    4.0  \n",
       "Never-married                 83.0   15.0  \n",
       "Separated                     17.0    NaN  \n",
       "Widowed                      399.0   34.0  "
      ]
     },
     "execution_count": 112,
     "metadata": {},
     "output_type": "execute_result"
    }
   ],
   "source": [
    "bins=[16.99,25,40,66,91]\n",
    "cuts=pd.cut(df.Age,bins,labels=['Youth','Adult','Senior','Super-Senior'],right=True,include_lowest=True)\n",
    "table=pd.pivot_table(df,index=df['Marital_Status'],columns=[cuts,df.Income],values='Income',aggfunc='count')\n",
    "table"
   ]
  },
  {
   "cell_type": "markdown",
   "metadata": {},
   "source": [
    "### Inference: The 77% percent of never married still belong to the age group of youth and young adult."
   ]
  },
  {
   "cell_type": "markdown",
   "metadata": {},
   "source": [
    "### Q38. Check relation between native country and educational number\n"
   ]
  },
  {
   "cell_type": "code",
   "execution_count": 24,
   "metadata": {},
   "outputs": [
    {
     "name": "stdout",
     "output_type": "stream",
     "text": [
      "Gender                         Female       Male\n",
      "Native_Country                                  \n",
      "Cambodia                     8.666667   9.590909\n",
      "Canada                      10.460317  10.815126\n",
      "China                       11.000000  11.359551\n",
      "Columbia                     8.781250   9.547170\n",
      "Cuba                         9.760000   9.181818\n",
      "Dominican-Republic           6.854167   7.727273\n",
      "Ecuador                      8.625000   9.586207\n",
      "El-Salvador                  6.037037   7.089109\n",
      "England                     10.377778  11.512195\n",
      "France                      11.285714  12.416667\n",
      "Germany                     10.770115  11.042017\n",
      "Greece                       9.777778   9.750000\n",
      "Guatemala                    6.000000   6.435484\n",
      "Haiti                        8.451613   8.590909\n",
      "Holand-Netherlands          10.000000        NaN\n",
      "Honduras                     8.818182   7.777778\n",
      "Hong                         9.545455  10.947368\n",
      "Hungary                     11.142857  10.833333\n",
      "India                       10.888889  12.759398\n",
      "Iran                        11.333333  12.404255\n",
      "Ireland                      9.444444   9.892857\n",
      "Italy                        8.642857   8.844156\n",
      "Jamaica                      9.603448  10.062500\n",
      "Japan                       10.516129  11.885246\n",
      "Laos                         8.111111   9.285714\n",
      "Mexico                       6.627907   5.850543\n",
      "Nicaragua                    9.227273   8.814815\n",
      "Outlying-US(Guam-USVI-etc)  10.888889   9.500000\n",
      "Peru                         9.388889  10.107143\n",
      "Philippines                 10.947826  10.577778\n",
      "Poland                      10.291667   9.984127\n",
      "Portugal                     6.428571   6.849057\n",
      "Puerto-Rico                  8.373333   8.302752\n",
      "Scotland                     8.500000  11.230769\n",
      "South                       10.522727  10.915493\n",
      "Taiwan                      12.210526  13.717391\n",
      "Thailand                    11.428571  10.312500\n",
      "Trinadad&Tobago              8.714286   9.230769\n",
      "United-States               10.129988  10.188003\n",
      "Vietnam                      8.633333  10.142857\n",
      "Yugoslavia                   7.400000   9.944444\n"
     ]
    }
   ],
   "source": [
    "h1=df.pivot_table(index='Native_Country',columns='Gender',values='Educational_Num')\n",
    "print(h1)"
   ]
  },
  {
   "cell_type": "code",
   "execution_count": 25,
   "metadata": {},
   "outputs": [
    {
     "name": "stdout",
     "output_type": "stream",
     "text": [
      "Gender                         Female       Male\n",
      "Native_Country                                  \n",
      "Cambodia                     8.666667   9.590909\n",
      "Canada                      10.460317  10.815126\n",
      "China                       11.000000  11.359551\n",
      "Columbia                     8.781250   9.547170\n",
      "Cuba                         9.760000   9.181818\n",
      "Dominican-Republic           6.854167   7.727273\n",
      "Ecuador                      8.625000   9.586207\n",
      "El-Salvador                  6.037037   7.089109\n",
      "England                     10.377778  11.512195\n",
      "France                      11.285714  12.416667\n",
      "Germany                     10.770115  11.042017\n",
      "Greece                       9.777778   9.750000\n",
      "Guatemala                    6.000000   6.435484\n",
      "Haiti                        8.451613   8.590909\n",
      "Holand-Netherlands          10.000000   0.000000\n",
      "Honduras                     8.818182   7.777778\n",
      "Hong                         9.545455  10.947368\n",
      "Hungary                     11.142857  10.833333\n",
      "India                       10.888889  12.759398\n",
      "Iran                        11.333333  12.404255\n",
      "Ireland                      9.444444   9.892857\n",
      "Italy                        8.642857   8.844156\n",
      "Jamaica                      9.603448  10.062500\n",
      "Japan                       10.516129  11.885246\n",
      "Laos                         8.111111   9.285714\n",
      "Mexico                       6.627907   5.850543\n",
      "Nicaragua                    9.227273   8.814815\n",
      "Outlying-US(Guam-USVI-etc)  10.888889   9.500000\n",
      "Peru                         9.388889  10.107143\n",
      "Philippines                 10.947826  10.577778\n",
      "Poland                      10.291667   9.984127\n",
      "Portugal                     6.428571   6.849057\n",
      "Puerto-Rico                  8.373333   8.302752\n",
      "Scotland                     8.500000  11.230769\n",
      "South                       10.522727  10.915493\n",
      "Taiwan                      12.210526  13.717391\n",
      "Thailand                    11.428571  10.312500\n",
      "Trinadad&Tobago              8.714286   9.230769\n",
      "United-States               10.129988  10.188003\n",
      "Vietnam                      8.633333  10.142857\n",
      "Yugoslavia                   7.400000   9.944444\n"
     ]
    }
   ],
   "source": [
    "h2=h1.replace(np.nan,0)\n",
    "print(h2)"
   ]
  },
  {
   "cell_type": "code",
   "execution_count": 26,
   "metadata": {},
   "outputs": [
    {
     "data": {
      "text/plain": [
       "<matplotlib.axes._subplots.AxesSubplot at 0x180da1bf550>"
      ]
     },
     "execution_count": 26,
     "metadata": {},
     "output_type": "execute_result"
    },
    {
     "data": {
      "image/png": "[encoded data removed]",
      "text/plain": [
       "<Figure size 432x288 with 1 Axes>"
      ]
     },
     "metadata": {
      "needs_background": "light"
     },
     "output_type": "display_data"
    }
   ],
   "source": [
    "sns.distplot(h2,bins=5,color='r',rug=True)"
   ]
  },
  {
   "cell_type": "code",
   "execution_count": 27,
   "metadata": {},
   "outputs": [
    {
     "data": {
      "text/plain": [
       "<matplotlib.axes._subplots.AxesSubplot at 0x180d911f640>"
      ]
     },
     "execution_count": 27,
     "metadata": {},
     "output_type": "execute_result"
    },
    {
     "data": {
      "image/png": "[encoded data removed]",
      "text/plain": [
       "<Figure size 432x288 with 2 Axes>"
      ]
     },
     "metadata": {
      "needs_background": "light"
     },
     "output_type": "display_data"
    }
   ],
   "source": [
    "sns.heatmap(h2,cmap=\"YlGnBu\")"
   ]
  },
  {
   "cell_type": "code",
   "execution_count": 28,
   "metadata": {},
   "outputs": [
    {
     "data": {
      "text/plain": [
       "Native_Country\n",
       "Guatemala                      6.000000\n",
       "El-Salvador                    6.037037\n",
       "Portugal                       6.428571\n",
       "Mexico                         6.627907\n",
       "Dominican-Republic             6.854167\n",
       "Yugoslavia                     7.400000\n",
       "Laos                           8.111111\n",
       "Puerto-Rico                    8.373333\n",
       "Haiti                          8.451613\n",
       "Scotland                       8.500000\n",
       "Ecuador                        8.625000\n",
       "Vietnam                        8.633333\n",
       "Italy                          8.642857\n",
       "Cambodia                       8.666667\n",
       "Trinadad&Tobago                8.714286\n",
       "Columbia                       8.781250\n",
       "Honduras                       8.818182\n",
       "Nicaragua                      9.227273\n",
       "Peru                           9.388889\n",
       "Ireland                        9.444444\n",
       "Hong                           9.545455\n",
       "Jamaica                        9.603448\n",
       "Cuba                           9.760000\n",
       "Greece                         9.777778\n",
       "Holand-Netherlands            10.000000\n",
       "United-States                 10.129988\n",
       "Poland                        10.291667\n",
       "England                       10.377778\n",
       "Canada                        10.460317\n",
       "Japan                         10.516129\n",
       "South                         10.522727\n",
       "Germany                       10.770115\n",
       "India                         10.888889\n",
       "Outlying-US(Guam-USVI-etc)    10.888889\n",
       "Philippines                   10.947826\n",
       "China                         11.000000\n",
       "Hungary                       11.142857\n",
       "France                        11.285714\n",
       "Iran                          11.333333\n",
       "Thailand                      11.428571\n",
       "Taiwan                        12.210526\n",
       "Name: Female, dtype: float64"
      ]
     },
     "execution_count": 28,
     "metadata": {},
     "output_type": "execute_result"
    }
   ],
   "source": [
    "h2['Female'].sort_values()"
   ]
  },
  {
   "cell_type": "markdown",
   "metadata": {},
   "source": [
    "### Inference: For women, the educational number is highest for ppl whose native country is Taiwan. Interestingly, for ppl who are from USA, the avg educational number is not in the top 10 countries, but the results may vary depending on the sample size. However, it could also indicate that immigrants coming into the country have higher qualifications as compared to home citizens."
   ]
  },
  {
   "cell_type": "code",
   "execution_count": 29,
   "metadata": {},
   "outputs": [
    {
     "data": {
      "text/plain": [
       "Native_Country\n",
       "Holand-Netherlands             0.000000\n",
       "Mexico                         5.850543\n",
       "Guatemala                      6.435484\n",
       "Portugal                       6.849057\n",
       "El-Salvador                    7.089109\n",
       "Dominican-Republic             7.727273\n",
       "Honduras                       7.777778\n",
       "Puerto-Rico                    8.302752\n",
       "Haiti                          8.590909\n",
       "Nicaragua                      8.814815\n",
       "Italy                          8.844156\n",
       "Cuba                           9.181818\n",
       "Trinadad&Tobago                9.230769\n",
       "Laos                           9.285714\n",
       "Outlying-US(Guam-USVI-etc)     9.500000\n",
       "Columbia                       9.547170\n",
       "Ecuador                        9.586207\n",
       "Cambodia                       9.590909\n",
       "Greece                         9.750000\n",
       "Ireland                        9.892857\n",
       "Yugoslavia                     9.944444\n",
       "Poland                         9.984127\n",
       "Jamaica                       10.062500\n",
       "Peru                          10.107143\n",
       "Vietnam                       10.142857\n",
       "United-States                 10.188003\n",
       "Thailand                      10.312500\n",
       "Philippines                   10.577778\n",
       "Canada                        10.815126\n",
       "Hungary                       10.833333\n",
       "South                         10.915493\n",
       "Hong                          10.947368\n",
       "Germany                       11.042017\n",
       "Scotland                      11.230769\n",
       "China                         11.359551\n",
       "England                       11.512195\n",
       "Japan                         11.885246\n",
       "Iran                          12.404255\n",
       "France                        12.416667\n",
       "India                         12.759398\n",
       "Taiwan                        13.717391\n",
       "Name: Male, dtype: float64"
      ]
     },
     "execution_count": 29,
     "metadata": {},
     "output_type": "execute_result"
    }
   ],
   "source": [
    "h2['Male'].sort_values()"
   ]
  },
  {
   "cell_type": "markdown",
   "metadata": {},
   "source": [
    "### Similar conclusion for males, with Taiwan and France in the top 3 again, along with India. This is possibly in concurrence with trends of Indian male engineers going to USA for better opporutnities."
   ]
  },
  {
   "cell_type": "markdown",
   "metadata": {},
   "source": [
    "### Q39. Check ratio of both income brackets for ppl from Taiwan and France\n"
   ]
  },
  {
   "cell_type": "code",
   "execution_count": 32,
   "metadata": {},
   "outputs": [
    {
     "data": {
      "text/plain": [
       "39"
      ]
     },
     "execution_count": 32,
     "metadata": {},
     "output_type": "execute_result"
    }
   ],
   "source": [
    "df['Income'][(df['Native_Country']=='Taiwan') & (df['Income']=='<=50K')].count()\n"
   ]
  },
  {
   "cell_type": "code",
   "execution_count": 31,
   "metadata": {},
   "outputs": [
    {
     "data": {
      "text/plain": [
       "26"
      ]
     },
     "execution_count": 31,
     "metadata": {},
     "output_type": "execute_result"
    }
   ],
   "source": [
    "df['Income'][(df['Native_Country']=='Taiwan') & (df['Income']=='>50K')].count()"
   ]
  },
  {
   "cell_type": "markdown",
   "metadata": {},
   "source": [
    "### we can see that the percentage of people earning >50K from Taiwan is 26/65 = 40%. "
   ]
  },
  {
   "cell_type": "code",
   "execution_count": 33,
   "metadata": {},
   "outputs": [
    {
     "data": {
      "text/plain": [
       "22"
      ]
     },
     "execution_count": 33,
     "metadata": {},
     "output_type": "execute_result"
    }
   ],
   "source": [
    "df['Income'][(df['Native_Country']=='France') & (df['Income']=='<=50K')].count()\n"
   ]
  },
  {
   "cell_type": "code",
   "execution_count": 34,
   "metadata": {},
   "outputs": [
    {
     "data": {
      "text/plain": [
       "16"
      ]
     },
     "execution_count": 34,
     "metadata": {},
     "output_type": "execute_result"
    }
   ],
   "source": [
    "df['Income'][(df['Native_Country']=='France') & (df['Income']=='>50K')].count()"
   ]
  },
  {
   "cell_type": "markdown",
   "metadata": {},
   "source": [
    "### Similarly for France, the percentage is 16/38 * 100=42%"
   ]
  },
  {
   "cell_type": "markdown",
   "metadata": {},
   "source": [
    "### Q40. Check the relation between income and race and their average age"
   ]
  },
  {
   "cell_type": "code",
   "execution_count": 215,
   "metadata": {},
   "outputs": [
    {
     "data": {
      "text/html": [
       "<div>\n",
       "<style scoped>\n",
       "    .dataframe tbody tr th:only-of-type {\n",
       "        vertical-align: middle;\n",
       "    }\n",
       "\n",
       "    .dataframe tbody tr th {\n",
       "        vertical-align: top;\n",
       "    }\n",
       "\n",
       "    .dataframe thead th {\n",
       "        text-align: right;\n",
       "    }\n",
       "</style>\n",
       "<table border=\"1\" class=\"dataframe\">\n",
       "  <thead>\n",
       "    <tr style=\"text-align: right;\">\n",
       "      <th>Race</th>\n",
       "      <th>Amer-Indian-Eskimo</th>\n",
       "      <th>Asian-Pac-Islander</th>\n",
       "      <th>Black</th>\n",
       "      <th>Other</th>\n",
       "      <th>White</th>\n",
       "    </tr>\n",
       "    <tr>\n",
       "      <th>Income</th>\n",
       "      <th></th>\n",
       "      <th></th>\n",
       "      <th></th>\n",
       "      <th></th>\n",
       "      <th></th>\n",
       "    </tr>\n",
       "  </thead>\n",
       "  <tbody>\n",
       "    <tr>\n",
       "      <th>&lt;=50K</th>\n",
       "      <td>36.127711</td>\n",
       "      <td>36.219820</td>\n",
       "      <td>37.051712</td>\n",
       "      <td>32.685393</td>\n",
       "      <td>36.92945</td>\n",
       "    </tr>\n",
       "    <tr>\n",
       "      <th>&gt;50K</th>\n",
       "      <td>40.963636</td>\n",
       "      <td>42.305623</td>\n",
       "      <td>44.192580</td>\n",
       "      <td>40.580000</td>\n",
       "      <td>44.39012</td>\n",
       "    </tr>\n",
       "  </tbody>\n",
       "</table>\n",
       "</div>"
      ],
      "text/plain": [
       "Race    Amer-Indian-Eskimo  Asian-Pac-Islander      Black      Other     White\n",
       "Income                                                                        \n",
       "<=50K            36.127711           36.219820  37.051712  32.685393  36.92945\n",
       ">50K             40.963636           42.305623  44.192580  40.580000  44.39012"
      ]
     },
     "execution_count": 215,
     "metadata": {},
     "output_type": "execute_result"
    }
   ],
   "source": [
    "h=df.pivot_table(index='Income',columns='Race',values='Age')\n",
    "h"
   ]
  },
  {
   "cell_type": "markdown",
   "metadata": {},
   "source": [
    "### The graph below show's Race vs highest education received by each person of each race"
   ]
  },
  {
   "cell_type": "code",
   "execution_count": 212,
   "metadata": {},
   "outputs": [
    {
     "data": {
      "text/plain": [
       "Text(0.5, 0, 'Race')"
      ]
     },
     "execution_count": 212,
     "metadata": {},
     "output_type": "execute_result"
    },
    {
     "data": {
      "image/png": "[encoded data removed]",
      "text/plain": [
       "<Figure size 432x288 with 1 Axes>"
      ]
     },
     "metadata": {
      "needs_background": "light"
     },
     "output_type": "display_data"
    }
   ],
   "source": [
    "plt.plot(df['Race'].unique(),df.groupby('Race')['Educational_Num'].mean())\n",
    "sns.barplot(df['Race'].unique(),df.groupby('Race')['Educational_Num'].mean());\n",
    "plt.xlabel('Race')"
   ]
  },
  {
   "cell_type": "markdown",
   "metadata": {},
   "source": [
    "### Inference: Here as we can see mostly white receive the highest level of education "
   ]
  },
  {
   "cell_type": "markdown",
   "metadata": {},
   "source": [
    "### Q41. Find the most occuring education for each profession"
   ]
  },
  {
   "cell_type": "code",
   "execution_count": 195,
   "metadata": {},
   "outputs": [
    {
     "data": {
      "text/html": [
       "<div>\n",
       "<style scoped>\n",
       "    .dataframe tbody tr th:only-of-type {\n",
       "        vertical-align: middle;\n",
       "    }\n",
       "\n",
       "    .dataframe tbody tr th {\n",
       "        vertical-align: top;\n",
       "    }\n",
       "\n",
       "    .dataframe thead th {\n",
       "        text-align: right;\n",
       "    }\n",
       "</style>\n",
       "<table border=\"1\" class=\"dataframe\">\n",
       "  <thead>\n",
       "    <tr style=\"text-align: right;\">\n",
       "      <th>Education</th>\n",
       "      <th>10th</th>\n",
       "      <th>11th</th>\n",
       "      <th>12th</th>\n",
       "      <th>1st-4th</th>\n",
       "      <th>5th-6th</th>\n",
       "      <th>7th-8th</th>\n",
       "      <th>9th</th>\n",
       "      <th>Assoc-acdm</th>\n",
       "      <th>Assoc-voc</th>\n",
       "      <th>Bachelors</th>\n",
       "      <th>Doctorate</th>\n",
       "      <th>HS-grad</th>\n",
       "      <th>Masters</th>\n",
       "      <th>Preschool</th>\n",
       "      <th>Prof-school</th>\n",
       "      <th>Some-college</th>\n",
       "    </tr>\n",
       "    <tr>\n",
       "      <th>Occupation</th>\n",
       "      <th></th>\n",
       "      <th></th>\n",
       "      <th></th>\n",
       "      <th></th>\n",
       "      <th></th>\n",
       "      <th></th>\n",
       "      <th></th>\n",
       "      <th></th>\n",
       "      <th></th>\n",
       "      <th></th>\n",
       "      <th></th>\n",
       "      <th></th>\n",
       "      <th></th>\n",
       "      <th></th>\n",
       "      <th></th>\n",
       "      <th></th>\n",
       "    </tr>\n",
       "  </thead>\n",
       "  <tbody>\n",
       "    <tr>\n",
       "      <th>Adm-clerical</th>\n",
       "      <td>59</td>\n",
       "      <td>100</td>\n",
       "      <td>52</td>\n",
       "      <td>6</td>\n",
       "      <td>8</td>\n",
       "      <td>20</td>\n",
       "      <td>20</td>\n",
       "      <td>281</td>\n",
       "      <td>269</td>\n",
       "      <td>765</td>\n",
       "      <td>6</td>\n",
       "      <td>2047</td>\n",
       "      <td>105</td>\n",
       "      <td>3</td>\n",
       "      <td>12</td>\n",
       "      <td>1858</td>\n",
       "    </tr>\n",
       "    <tr>\n",
       "      <th>Armed-Forces</th>\n",
       "      <td>0</td>\n",
       "      <td>0</td>\n",
       "      <td>1</td>\n",
       "      <td>0</td>\n",
       "      <td>0</td>\n",
       "      <td>0</td>\n",
       "      <td>0</td>\n",
       "      <td>0</td>\n",
       "      <td>1</td>\n",
       "      <td>1</td>\n",
       "      <td>0</td>\n",
       "      <td>5</td>\n",
       "      <td>2</td>\n",
       "      <td>0</td>\n",
       "      <td>1</td>\n",
       "      <td>4</td>\n",
       "    </tr>\n",
       "    <tr>\n",
       "      <th>Craft-repair</th>\n",
       "      <td>239</td>\n",
       "      <td>270</td>\n",
       "      <td>92</td>\n",
       "      <td>28</td>\n",
       "      <td>71</td>\n",
       "      <td>172</td>\n",
       "      <td>144</td>\n",
       "      <td>167</td>\n",
       "      <td>375</td>\n",
       "      <td>332</td>\n",
       "      <td>4</td>\n",
       "      <td>2911</td>\n",
       "      <td>34</td>\n",
       "      <td>6</td>\n",
       "      <td>9</td>\n",
       "      <td>1258</td>\n",
       "    </tr>\n",
       "    <tr>\n",
       "      <th>Exec-managerial</th>\n",
       "      <td>42</td>\n",
       "      <td>51</td>\n",
       "      <td>18</td>\n",
       "      <td>6</td>\n",
       "      <td>6</td>\n",
       "      <td>28</td>\n",
       "      <td>23</td>\n",
       "      <td>240</td>\n",
       "      <td>234</td>\n",
       "      <td>2025</td>\n",
       "      <td>84</td>\n",
       "      <td>1192</td>\n",
       "      <td>779</td>\n",
       "      <td>1</td>\n",
       "      <td>69</td>\n",
       "      <td>1288</td>\n",
       "    </tr>\n",
       "    <tr>\n",
       "      <th>Farming-fishing</th>\n",
       "      <td>71</td>\n",
       "      <td>67</td>\n",
       "      <td>29</td>\n",
       "      <td>33</td>\n",
       "      <td>52</td>\n",
       "      <td>106</td>\n",
       "      <td>44</td>\n",
       "      <td>25</td>\n",
       "      <td>85</td>\n",
       "      <td>113</td>\n",
       "      <td>1</td>\n",
       "      <td>573</td>\n",
       "      <td>14</td>\n",
       "      <td>17</td>\n",
       "      <td>7</td>\n",
       "      <td>253</td>\n",
       "    </tr>\n",
       "    <tr>\n",
       "      <th>Handlers-cleaners</th>\n",
       "      <td>108</td>\n",
       "      <td>177</td>\n",
       "      <td>55</td>\n",
       "      <td>26</td>\n",
       "      <td>59</td>\n",
       "      <td>66</td>\n",
       "      <td>72</td>\n",
       "      <td>34</td>\n",
       "      <td>43</td>\n",
       "      <td>79</td>\n",
       "      <td>0</td>\n",
       "      <td>943</td>\n",
       "      <td>5</td>\n",
       "      <td>5</td>\n",
       "      <td>0</td>\n",
       "      <td>400</td>\n",
       "    </tr>\n",
       "    <tr>\n",
       "      <th>Machine-op-inspct</th>\n",
       "      <td>152</td>\n",
       "      <td>153</td>\n",
       "      <td>61</td>\n",
       "      <td>36</td>\n",
       "      <td>95</td>\n",
       "      <td>129</td>\n",
       "      <td>102</td>\n",
       "      <td>51</td>\n",
       "      <td>95</td>\n",
       "      <td>99</td>\n",
       "      <td>1</td>\n",
       "      <td>1531</td>\n",
       "      <td>12</td>\n",
       "      <td>12</td>\n",
       "      <td>1</td>\n",
       "      <td>492</td>\n",
       "    </tr>\n",
       "    <tr>\n",
       "      <th>Other-service</th>\n",
       "      <td>280</td>\n",
       "      <td>368</td>\n",
       "      <td>129</td>\n",
       "      <td>55</td>\n",
       "      <td>98</td>\n",
       "      <td>149</td>\n",
       "      <td>142</td>\n",
       "      <td>110</td>\n",
       "      <td>160</td>\n",
       "      <td>259</td>\n",
       "      <td>2</td>\n",
       "      <td>1936</td>\n",
       "      <td>35</td>\n",
       "      <td>22</td>\n",
       "      <td>7</td>\n",
       "      <td>1171</td>\n",
       "    </tr>\n",
       "    <tr>\n",
       "      <th>Priv-house-serv</th>\n",
       "      <td>8</td>\n",
       "      <td>18</td>\n",
       "      <td>8</td>\n",
       "      <td>14</td>\n",
       "      <td>20</td>\n",
       "      <td>17</td>\n",
       "      <td>16</td>\n",
       "      <td>3</td>\n",
       "      <td>5</td>\n",
       "      <td>12</td>\n",
       "      <td>1</td>\n",
       "      <td>91</td>\n",
       "      <td>1</td>\n",
       "      <td>2</td>\n",
       "      <td>0</td>\n",
       "      <td>26</td>\n",
       "    </tr>\n",
       "    <tr>\n",
       "      <th>Prof-specialty</th>\n",
       "      <td>14</td>\n",
       "      <td>34</td>\n",
       "      <td>13</td>\n",
       "      <td>4</td>\n",
       "      <td>2</td>\n",
       "      <td>13</td>\n",
       "      <td>4</td>\n",
       "      <td>207</td>\n",
       "      <td>245</td>\n",
       "      <td>2233</td>\n",
       "      <td>450</td>\n",
       "      <td>344</td>\n",
       "      <td>1302</td>\n",
       "      <td>1</td>\n",
       "      <td>667</td>\n",
       "      <td>639</td>\n",
       "    </tr>\n",
       "    <tr>\n",
       "      <th>Protective-serv</th>\n",
       "      <td>12</td>\n",
       "      <td>18</td>\n",
       "      <td>11</td>\n",
       "      <td>1</td>\n",
       "      <td>1</td>\n",
       "      <td>11</td>\n",
       "      <td>9</td>\n",
       "      <td>50</td>\n",
       "      <td>67</td>\n",
       "      <td>147</td>\n",
       "      <td>1</td>\n",
       "      <td>326</td>\n",
       "      <td>20</td>\n",
       "      <td>0</td>\n",
       "      <td>1</td>\n",
       "      <td>308</td>\n",
       "    </tr>\n",
       "    <tr>\n",
       "      <th>Sales</th>\n",
       "      <td>120</td>\n",
       "      <td>232</td>\n",
       "      <td>70</td>\n",
       "      <td>8</td>\n",
       "      <td>17</td>\n",
       "      <td>40</td>\n",
       "      <td>47</td>\n",
       "      <td>209</td>\n",
       "      <td>163</td>\n",
       "      <td>1268</td>\n",
       "      <td>16</td>\n",
       "      <td>1580</td>\n",
       "      <td>206</td>\n",
       "      <td>2</td>\n",
       "      <td>23</td>\n",
       "      <td>1503</td>\n",
       "    </tr>\n",
       "    <tr>\n",
       "      <th>Tech-support</th>\n",
       "      <td>5</td>\n",
       "      <td>9</td>\n",
       "      <td>4</td>\n",
       "      <td>0</td>\n",
       "      <td>1</td>\n",
       "      <td>6</td>\n",
       "      <td>3</td>\n",
       "      <td>116</td>\n",
       "      <td>181</td>\n",
       "      <td>346</td>\n",
       "      <td>8</td>\n",
       "      <td>270</td>\n",
       "      <td>61</td>\n",
       "      <td>0</td>\n",
       "      <td>10</td>\n",
       "      <td>426</td>\n",
       "    </tr>\n",
       "    <tr>\n",
       "      <th>Transport-moving</th>\n",
       "      <td>129</td>\n",
       "      <td>134</td>\n",
       "      <td>56</td>\n",
       "      <td>12</td>\n",
       "      <td>38</td>\n",
       "      <td>87</td>\n",
       "      <td>61</td>\n",
       "      <td>36</td>\n",
       "      <td>55</td>\n",
       "      <td>93</td>\n",
       "      <td>2</td>\n",
       "      <td>1223</td>\n",
       "      <td>14</td>\n",
       "      <td>2</td>\n",
       "      <td>3</td>\n",
       "      <td>410</td>\n",
       "    </tr>\n",
       "  </tbody>\n",
       "</table>\n",
       "</div>"
      ],
      "text/plain": [
       "Education          10th  11th  12th  1st-4th  5th-6th  7th-8th  9th  \\\n",
       "Occupation                                                            \n",
       "Adm-clerical         59   100    52        6        8       20   20   \n",
       "Armed-Forces          0     0     1        0        0        0    0   \n",
       "Craft-repair        239   270    92       28       71      172  144   \n",
       "Exec-managerial      42    51    18        6        6       28   23   \n",
       "Farming-fishing      71    67    29       33       52      106   44   \n",
       "Handlers-cleaners   108   177    55       26       59       66   72   \n",
       "Machine-op-inspct   152   153    61       36       95      129  102   \n",
       "Other-service       280   368   129       55       98      149  142   \n",
       "Priv-house-serv       8    18     8       14       20       17   16   \n",
       "Prof-specialty       14    34    13        4        2       13    4   \n",
       "Protective-serv      12    18    11        1        1       11    9   \n",
       "Sales               120   232    70        8       17       40   47   \n",
       "Tech-support          5     9     4        0        1        6    3   \n",
       "Transport-moving    129   134    56       12       38       87   61   \n",
       "\n",
       "Education          Assoc-acdm  Assoc-voc  Bachelors  Doctorate  HS-grad  \\\n",
       "Occupation                                                                \n",
       "Adm-clerical              281        269        765          6     2047   \n",
       "Armed-Forces                0          1          1          0        5   \n",
       "Craft-repair              167        375        332          4     2911   \n",
       "Exec-managerial           240        234       2025         84     1192   \n",
       "Farming-fishing            25         85        113          1      573   \n",
       "Handlers-cleaners          34         43         79          0      943   \n",
       "Machine-op-inspct          51         95         99          1     1531   \n",
       "Other-service             110        160        259          2     1936   \n",
       "Priv-house-serv             3          5         12          1       91   \n",
       "Prof-specialty            207        245       2233        450      344   \n",
       "Protective-serv            50         67        147          1      326   \n",
       "Sales                     209        163       1268         16     1580   \n",
       "Tech-support              116        181        346          8      270   \n",
       "Transport-moving           36         55         93          2     1223   \n",
       "\n",
       "Education          Masters  Preschool  Prof-school  Some-college  \n",
       "Occupation                                                        \n",
       "Adm-clerical           105          3           12          1858  \n",
       "Armed-Forces             2          0            1             4  \n",
       "Craft-repair            34          6            9          1258  \n",
       "Exec-managerial        779          1           69          1288  \n",
       "Farming-fishing         14         17            7           253  \n",
       "Handlers-cleaners        5          5            0           400  \n",
       "Machine-op-inspct       12         12            1           492  \n",
       "Other-service           35         22            7          1171  \n",
       "Priv-house-serv          1          2            0            26  \n",
       "Prof-specialty        1302          1          667           639  \n",
       "Protective-serv         20          0            1           308  \n",
       "Sales                  206          2           23          1503  \n",
       "Tech-support            61          0           10           426  \n",
       "Transport-moving        14          2            3           410  "
      ]
     },
     "execution_count": 195,
     "metadata": {},
     "output_type": "execute_result"
    }
   ],
   "source": [
    "occed=pd.crosstab(df['Occupation'],df['Education'])\n",
    "occed"
   ]
  },
  {
   "cell_type": "code",
   "execution_count": 194,
   "metadata": {},
   "outputs": [
    {
     "data": {
      "text/plain": [
       "HS-grad         11\n",
       "Bachelors        2\n",
       "Some-college     1\n",
       "dtype: int64"
      ]
     },
     "execution_count": 194,
     "metadata": {},
     "output_type": "execute_result"
    }
   ],
   "source": [
    "occed.idxmax(axis=1).value_counts()"
   ]
  },
  {
   "cell_type": "markdown",
   "metadata": {},
   "source": [
    "### Inference: Here we can say that in 80% of professions, people are mostly having education of HS-grad. So to get into profession, chances will become better if you have atleast HS-grad degree"
   ]
  },
  {
   "cell_type": "markdown",
   "metadata": {},
   "source": [
    "### Q.42 Compare marital-status and income."
   ]
  },
  {
   "cell_type": "code",
   "execution_count": 203,
   "metadata": {},
   "outputs": [
    {
     "data": {
      "text/html": [
       "<div>\n",
       "<style scoped>\n",
       "    .dataframe tbody tr th:only-of-type {\n",
       "        vertical-align: middle;\n",
       "    }\n",
       "\n",
       "    .dataframe tbody tr th {\n",
       "        vertical-align: top;\n",
       "    }\n",
       "\n",
       "    .dataframe thead th {\n",
       "        text-align: right;\n",
       "    }\n",
       "</style>\n",
       "<table border=\"1\" class=\"dataframe\">\n",
       "  <thead>\n",
       "    <tr style=\"text-align: right;\">\n",
       "      <th>Income</th>\n",
       "      <th>&lt;=50K</th>\n",
       "      <th>&gt;50K</th>\n",
       "      <th>All</th>\n",
       "      <th>%&lt;=50K</th>\n",
       "      <th>%&gt;50K</th>\n",
       "    </tr>\n",
       "    <tr>\n",
       "      <th>Marital_Status</th>\n",
       "      <th></th>\n",
       "      <th></th>\n",
       "      <th></th>\n",
       "      <th></th>\n",
       "      <th></th>\n",
       "    </tr>\n",
       "  </thead>\n",
       "  <tbody>\n",
       "    <tr>\n",
       "      <th>Divorced</th>\n",
       "      <td>5962</td>\n",
       "      <td>671</td>\n",
       "      <td>6633</td>\n",
       "      <td>89.883914</td>\n",
       "      <td>10.116086</td>\n",
       "    </tr>\n",
       "    <tr>\n",
       "      <th>Married-AF-spouse</th>\n",
       "      <td>23</td>\n",
       "      <td>14</td>\n",
       "      <td>37</td>\n",
       "      <td>62.162162</td>\n",
       "      <td>37.837838</td>\n",
       "    </tr>\n",
       "    <tr>\n",
       "      <th>Married-civ-spouse</th>\n",
       "      <td>12395</td>\n",
       "      <td>9984</td>\n",
       "      <td>22379</td>\n",
       "      <td>55.386747</td>\n",
       "      <td>44.613253</td>\n",
       "    </tr>\n",
       "    <tr>\n",
       "      <th>Married-spouse-absent</th>\n",
       "      <td>570</td>\n",
       "      <td>58</td>\n",
       "      <td>628</td>\n",
       "      <td>90.764331</td>\n",
       "      <td>9.235669</td>\n",
       "    </tr>\n",
       "    <tr>\n",
       "      <th>Never-married</th>\n",
       "      <td>15384</td>\n",
       "      <td>733</td>\n",
       "      <td>16117</td>\n",
       "      <td>95.452007</td>\n",
       "      <td>4.547993</td>\n",
       "    </tr>\n",
       "    <tr>\n",
       "      <th>Separated</th>\n",
       "      <td>1431</td>\n",
       "      <td>99</td>\n",
       "      <td>1530</td>\n",
       "      <td>93.529412</td>\n",
       "      <td>6.470588</td>\n",
       "    </tr>\n",
       "    <tr>\n",
       "      <th>Widowed</th>\n",
       "      <td>1390</td>\n",
       "      <td>128</td>\n",
       "      <td>1518</td>\n",
       "      <td>91.567852</td>\n",
       "      <td>8.432148</td>\n",
       "    </tr>\n",
       "    <tr>\n",
       "      <th>All</th>\n",
       "      <td>37155</td>\n",
       "      <td>11687</td>\n",
       "      <td>48842</td>\n",
       "      <td>76.071823</td>\n",
       "      <td>23.928177</td>\n",
       "    </tr>\n",
       "  </tbody>\n",
       "</table>\n",
       "</div>"
      ],
      "text/plain": [
       "Income                 <=50K   >50K    All     %<=50K      %>50K\n",
       "Marital_Status                                                  \n",
       "Divorced                5962    671   6633  89.883914  10.116086\n",
       "Married-AF-spouse         23     14     37  62.162162  37.837838\n",
       "Married-civ-spouse     12395   9984  22379  55.386747  44.613253\n",
       "Married-spouse-absent    570     58    628  90.764331   9.235669\n",
       "Never-married          15384    733  16117  95.452007   4.547993\n",
       "Separated               1431     99   1530  93.529412   6.470588\n",
       "Widowed                 1390    128   1518  91.567852   8.432148\n",
       "All                    37155  11687  48842  76.071823  23.928177"
      ]
     },
     "execution_count": 203,
     "metadata": {},
     "output_type": "execute_result"
    }
   ],
   "source": [
    "temp1=pd.crosstab(df['Marital_Status'],df['Income'],margins=True)\n",
    "temp1['%<=50K']=(temp1['<=50K']/temp1['All'])*100\n",
    "temp1['%>50K']=(temp1['>50K']/temp1['All'])*100\n",
    "temp1"
   ]
  },
  {
   "cell_type": "markdown",
   "metadata": {},
   "source": [
    "### Inference: As seen population of married is more and 44.61% of married people with civilan spouses can earn more than 50K and only 4.54% of never married i.e single people can earn more than 50K per annum. This infers that majority of the population who are well settled are married and never married can be assumed to be young population."
   ]
  }
 ],
 "metadata": {
  "kernelspec": {
   "display_name": "Python 3",
   "language": "python",
   "name": "python3"
  },
  "language_info": {
   "codemirror_mode": {
    "name": "ipython",
    "version": 3
   },
   "file_extension": ".py",
   "mimetype": "text/x-python",
   "name": "python",
   "nbconvert_exporter": "python",
   "pygments_lexer": "ipython3",
   "version": "3.8.3"
  }
 },
 "nbformat": 4,
 "nbformat_minor": 4
}
